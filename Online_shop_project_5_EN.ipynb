{
 "cells": [
  {
   "cell_type": "markdown",
   "metadata": {},
   "source": [
    "# Analysis of computer games for the store \"Strimchik\"\n",
    "\n",
    "Research customer: Strimchik online store that sells computer games all over the world.\n",
    "\n",
    "Input: Historical game sales data, user and expert ratings, genres and platforms (such as Xbox or PlayStation) are available from public sources. Data available for 2016, company plan for 2017\n",
    "\n",
    "The purpose of the study: to identify patterns that determine the success of the game, make a recommendation for a potentially popular product and plan advertising campaigns.\n",
    "\n",
    "Note: In the data set, the abbreviation ESRB (Entertainment Software Rating Board) comes across - this is an association that determines the age rating of computer games. The ESRB evaluates game content and assigns it to an appropriate age rating, such as Mature, Toddler, or Teen."
   ]
  },
  {
   "cell_type": "markdown",
   "metadata": {},
   "source": [
    "Sample work plan:\n",
    "1. Acquaintance with the available data.\n",
    "2. Data preprocessing.\n",
    "3. Exploratory data analysis.\n",
    "4. Portrait of a user from each region.\n",
    "5. Hypothesis testing.\n",
    "6. Conclusions."
   ]
  },
  {
   "cell_type": "markdown",
   "metadata": {},
   "source": [
    "## Data Acquaintance"
   ]
  },
  {
   "cell_type": "code",
   "execution_count": 1,
   "metadata": {},
   "outputs": [],
   "source": [
    "import pandas as pd\n",
    "import math\n",
    "import matplotlib.pyplot as plt\n",
    "from scipy import stats as st"
   ]
  },
  {
   "cell_type": "code",
   "execution_count": 2,
   "metadata": {},
   "outputs": [
    {
     "name": "stdout",
     "output_type": "stream",
     "text": [
      "<class 'pandas.core.frame.DataFrame'>\n",
      "RangeIndex: 16715 entries, 0 to 16714\n",
      "Data columns (total 11 columns):\n",
      " #   Column           Non-Null Count  Dtype  \n",
      "---  ------           --------------  -----  \n",
      " 0   Name             16713 non-null  object \n",
      " 1   Platform         16715 non-null  object \n",
      " 2   Year_of_Release  16446 non-null  float64\n",
      " 3   Genre            16713 non-null  object \n",
      " 4   NA_sales         16715 non-null  float64\n",
      " 5   EU_sales         16715 non-null  float64\n",
      " 6   JP_sales         16715 non-null  float64\n",
      " 7   Other_sales      16715 non-null  float64\n",
      " 8   Critic_Score     8137 non-null   float64\n",
      " 9   User_Score       10014 non-null  object \n",
      " 10  Rating           9949 non-null   object \n",
      "dtypes: float64(6), object(5)\n",
      "memory usage: 1.4+ MB\n"
     ]
    }
   ],
   "source": [
    "data = pd.read_csv('/datasets/games.csv')\n",
    "\n",
    "data.info()"
   ]
  },
  {
   "cell_type": "code",
   "execution_count": 3,
   "metadata": {},
   "outputs": [
    {
     "data": {
      "text/html": [
       "<div>\n",
       "<style scoped>\n",
       "    .dataframe tbody tr th:only-of-type {\n",
       "        vertical-align: middle;\n",
       "    }\n",
       "\n",
       "    .dataframe tbody tr th {\n",
       "        vertical-align: top;\n",
       "    }\n",
       "\n",
       "    .dataframe thead th {\n",
       "        text-align: right;\n",
       "    }\n",
       "</style>\n",
       "<table border=\"1\" class=\"dataframe\">\n",
       "  <thead>\n",
       "    <tr style=\"text-align: right;\">\n",
       "      <th></th>\n",
       "      <th>Name</th>\n",
       "      <th>Platform</th>\n",
       "      <th>Year_of_Release</th>\n",
       "      <th>Genre</th>\n",
       "      <th>NA_sales</th>\n",
       "      <th>EU_sales</th>\n",
       "      <th>JP_sales</th>\n",
       "      <th>Other_sales</th>\n",
       "      <th>Critic_Score</th>\n",
       "      <th>User_Score</th>\n",
       "      <th>Rating</th>\n",
       "    </tr>\n",
       "  </thead>\n",
       "  <tbody>\n",
       "    <tr>\n",
       "      <th>0</th>\n",
       "      <td>Wii Sports</td>\n",
       "      <td>Wii</td>\n",
       "      <td>2006.0</td>\n",
       "      <td>Sports</td>\n",
       "      <td>41.36</td>\n",
       "      <td>28.96</td>\n",
       "      <td>3.77</td>\n",
       "      <td>8.45</td>\n",
       "      <td>76.0</td>\n",
       "      <td>8</td>\n",
       "      <td>E</td>\n",
       "    </tr>\n",
       "    <tr>\n",
       "      <th>1</th>\n",
       "      <td>Super Mario Bros.</td>\n",
       "      <td>NES</td>\n",
       "      <td>1985.0</td>\n",
       "      <td>Platform</td>\n",
       "      <td>29.08</td>\n",
       "      <td>3.58</td>\n",
       "      <td>6.81</td>\n",
       "      <td>0.77</td>\n",
       "      <td>NaN</td>\n",
       "      <td>NaN</td>\n",
       "      <td>NaN</td>\n",
       "    </tr>\n",
       "    <tr>\n",
       "      <th>2</th>\n",
       "      <td>Mario Kart Wii</td>\n",
       "      <td>Wii</td>\n",
       "      <td>2008.0</td>\n",
       "      <td>Racing</td>\n",
       "      <td>15.68</td>\n",
       "      <td>12.76</td>\n",
       "      <td>3.79</td>\n",
       "      <td>3.29</td>\n",
       "      <td>82.0</td>\n",
       "      <td>8.3</td>\n",
       "      <td>E</td>\n",
       "    </tr>\n",
       "    <tr>\n",
       "      <th>3</th>\n",
       "      <td>Wii Sports Resort</td>\n",
       "      <td>Wii</td>\n",
       "      <td>2009.0</td>\n",
       "      <td>Sports</td>\n",
       "      <td>15.61</td>\n",
       "      <td>10.93</td>\n",
       "      <td>3.28</td>\n",
       "      <td>2.95</td>\n",
       "      <td>80.0</td>\n",
       "      <td>8</td>\n",
       "      <td>E</td>\n",
       "    </tr>\n",
       "    <tr>\n",
       "      <th>4</th>\n",
       "      <td>Pokemon Red/Pokemon Blue</td>\n",
       "      <td>GB</td>\n",
       "      <td>1996.0</td>\n",
       "      <td>Role-Playing</td>\n",
       "      <td>11.27</td>\n",
       "      <td>8.89</td>\n",
       "      <td>10.22</td>\n",
       "      <td>1.00</td>\n",
       "      <td>NaN</td>\n",
       "      <td>NaN</td>\n",
       "      <td>NaN</td>\n",
       "    </tr>\n",
       "    <tr>\n",
       "      <th>...</th>\n",
       "      <td>...</td>\n",
       "      <td>...</td>\n",
       "      <td>...</td>\n",
       "      <td>...</td>\n",
       "      <td>...</td>\n",
       "      <td>...</td>\n",
       "      <td>...</td>\n",
       "      <td>...</td>\n",
       "      <td>...</td>\n",
       "      <td>...</td>\n",
       "      <td>...</td>\n",
       "    </tr>\n",
       "    <tr>\n",
       "      <th>16710</th>\n",
       "      <td>Samurai Warriors: Sanada Maru</td>\n",
       "      <td>PS3</td>\n",
       "      <td>2016.0</td>\n",
       "      <td>Action</td>\n",
       "      <td>0.00</td>\n",
       "      <td>0.00</td>\n",
       "      <td>0.01</td>\n",
       "      <td>0.00</td>\n",
       "      <td>NaN</td>\n",
       "      <td>NaN</td>\n",
       "      <td>NaN</td>\n",
       "    </tr>\n",
       "    <tr>\n",
       "      <th>16711</th>\n",
       "      <td>LMA Manager 2007</td>\n",
       "      <td>X360</td>\n",
       "      <td>2006.0</td>\n",
       "      <td>Sports</td>\n",
       "      <td>0.00</td>\n",
       "      <td>0.01</td>\n",
       "      <td>0.00</td>\n",
       "      <td>0.00</td>\n",
       "      <td>NaN</td>\n",
       "      <td>NaN</td>\n",
       "      <td>NaN</td>\n",
       "    </tr>\n",
       "    <tr>\n",
       "      <th>16712</th>\n",
       "      <td>Haitaka no Psychedelica</td>\n",
       "      <td>PSV</td>\n",
       "      <td>2016.0</td>\n",
       "      <td>Adventure</td>\n",
       "      <td>0.00</td>\n",
       "      <td>0.00</td>\n",
       "      <td>0.01</td>\n",
       "      <td>0.00</td>\n",
       "      <td>NaN</td>\n",
       "      <td>NaN</td>\n",
       "      <td>NaN</td>\n",
       "    </tr>\n",
       "    <tr>\n",
       "      <th>16713</th>\n",
       "      <td>Spirits &amp; Spells</td>\n",
       "      <td>GBA</td>\n",
       "      <td>2003.0</td>\n",
       "      <td>Platform</td>\n",
       "      <td>0.01</td>\n",
       "      <td>0.00</td>\n",
       "      <td>0.00</td>\n",
       "      <td>0.00</td>\n",
       "      <td>NaN</td>\n",
       "      <td>NaN</td>\n",
       "      <td>NaN</td>\n",
       "    </tr>\n",
       "    <tr>\n",
       "      <th>16714</th>\n",
       "      <td>Winning Post 8 2016</td>\n",
       "      <td>PSV</td>\n",
       "      <td>2016.0</td>\n",
       "      <td>Simulation</td>\n",
       "      <td>0.00</td>\n",
       "      <td>0.00</td>\n",
       "      <td>0.01</td>\n",
       "      <td>0.00</td>\n",
       "      <td>NaN</td>\n",
       "      <td>NaN</td>\n",
       "      <td>NaN</td>\n",
       "    </tr>\n",
       "  </tbody>\n",
       "</table>\n",
       "<p>16715 rows × 11 columns</p>\n",
       "</div>"
      ],
      "text/plain": [
       "                                Name Platform  Year_of_Release         Genre  \\\n",
       "0                         Wii Sports      Wii           2006.0        Sports   \n",
       "1                  Super Mario Bros.      NES           1985.0      Platform   \n",
       "2                     Mario Kart Wii      Wii           2008.0        Racing   \n",
       "3                  Wii Sports Resort      Wii           2009.0        Sports   \n",
       "4           Pokemon Red/Pokemon Blue       GB           1996.0  Role-Playing   \n",
       "...                              ...      ...              ...           ...   \n",
       "16710  Samurai Warriors: Sanada Maru      PS3           2016.0        Action   \n",
       "16711               LMA Manager 2007     X360           2006.0        Sports   \n",
       "16712        Haitaka no Psychedelica      PSV           2016.0     Adventure   \n",
       "16713               Spirits & Spells      GBA           2003.0      Platform   \n",
       "16714            Winning Post 8 2016      PSV           2016.0    Simulation   \n",
       "\n",
       "       NA_sales  EU_sales  JP_sales  Other_sales  Critic_Score User_Score  \\\n",
       "0         41.36     28.96      3.77         8.45          76.0          8   \n",
       "1         29.08      3.58      6.81         0.77           NaN        NaN   \n",
       "2         15.68     12.76      3.79         3.29          82.0        8.3   \n",
       "3         15.61     10.93      3.28         2.95          80.0          8   \n",
       "4         11.27      8.89     10.22         1.00           NaN        NaN   \n",
       "...         ...       ...       ...          ...           ...        ...   \n",
       "16710      0.00      0.00      0.01         0.00           NaN        NaN   \n",
       "16711      0.00      0.01      0.00         0.00           NaN        NaN   \n",
       "16712      0.00      0.00      0.01         0.00           NaN        NaN   \n",
       "16713      0.01      0.00      0.00         0.00           NaN        NaN   \n",
       "16714      0.00      0.00      0.01         0.00           NaN        NaN   \n",
       "\n",
       "      Rating  \n",
       "0          E  \n",
       "1        NaN  \n",
       "2          E  \n",
       "3          E  \n",
       "4        NaN  \n",
       "...      ...  \n",
       "16710    NaN  \n",
       "16711    NaN  \n",
       "16712    NaN  \n",
       "16713    NaN  \n",
       "16714    NaN  \n",
       "\n",
       "[16715 rows x 11 columns]"
      ]
     },
     "execution_count": 3,
     "metadata": {},
     "output_type": "execute_result"
    }
   ],
   "source": [
    "data"
   ]
  },
  {
   "cell_type": "code",
   "execution_count": 4,
   "metadata": {},
   "outputs": [
    {
     "name": "stdout",
     "output_type": "stream",
     "text": [
      "Index(['Name', 'Platform', 'Year_of_Release', 'Genre', 'NA_sales', 'EU_sales',\n",
      "       'JP_sales', 'Other_sales', 'Critic_Score', 'User_Score', 'Rating'],\n",
      "      dtype='object')\n"
     ]
    }
   ],
   "source": [
    "print(data.columns)"
   ]
  },
  {
   "cell_type": "markdown",
   "metadata": {},
   "source": [
    "### Conclusion after reviewing the data\n",
    "1. The names of the columns must be brought to a single register.\n",
    "2. Convert the following columns to the required data types:\n",
    "Year_of_Release (float -> int)\n",
    "Critic_Score (float -> int) data does not show values after zero\n",
    "User_Score (string -> float)\n",
    "3. It may be necessary to allocate separate dictionaries for platforms, rating and genre.\n",
    "4. Identify duplicates.\n",
    "5. The value of tbd in User_Score. Most likely it means to be done, i.e. we can assume that in these lines we do not have user rating data\n",
    "6. There are games with almost zero sales, you need to check it out."
   ]
  },
  {
   "cell_type": "markdown",
   "metadata": {},
   "source": [
    "## Data preprocessing"
   ]
  },
  {
   "cell_type": "code",
   "execution_count": 5,
   "metadata": {},
   "outputs": [
    {
     "data": {
      "text/plain": [
       "Index(['name', 'platform', 'year_of_release', 'genre', 'na_sales', 'eu_sales',\n",
       "       'jp_sales', 'other_sales', 'critic_score', 'user_score', 'rating'],\n",
       "      dtype='object')"
      ]
     },
     "execution_count": 5,
     "metadata": {},
     "output_type": "execute_result"
    }
   ],
   "source": [
    "data.columns = [column.lower() for column in data.columns]\n",
    "data.columns"
   ]
  },
  {
   "cell_type": "code",
   "execution_count": 6,
   "metadata": {},
   "outputs": [
    {
     "name": "stdout",
     "output_type": "stream",
     "text": [
      "<class 'pandas.core.frame.DataFrame'>\n",
      "Int64Index: 16446 entries, 0 to 16714\n",
      "Data columns (total 11 columns):\n",
      " #   Column           Non-Null Count  Dtype  \n",
      "---  ------           --------------  -----  \n",
      " 0   name             16444 non-null  object \n",
      " 1   platform         16446 non-null  object \n",
      " 2   year_of_release  16446 non-null  int16  \n",
      " 3   genre            16444 non-null  object \n",
      " 4   na_sales         16446 non-null  float64\n",
      " 5   eu_sales         16446 non-null  float64\n",
      " 6   jp_sales         16446 non-null  float64\n",
      " 7   other_sales      16446 non-null  float64\n",
      " 8   critic_score     7983 non-null   float64\n",
      " 9   user_score       9839 non-null   object \n",
      " 10  rating           9768 non-null   object \n",
      "dtypes: float64(5), int16(1), object(5)\n",
      "memory usage: 1.4+ MB\n"
     ]
    }
   ],
   "source": [
    "data.drop(data[data['year_of_release'].isna()].index,inplace=True)\n",
    "data['year_of_release'] = pd.to_numeric(data['year_of_release'], downcast='integer')\n",
    "data.info()"
   ]
  },
  {
   "cell_type": "markdown",
   "metadata": {},
   "source": [
    "### Note\n",
    "Before casting to int, the gaps must be filled in. But there is a problem that the later the game is released, the more missing values. Which may be due to the fact that the game is not popular, or because it is too new and has not yet had time to get a rating or other reasons.\n",
    "\n",
    "To fill in the gaps in the rating, let's take the filtered median for two parameters - genre and platform, to be more accurate. An additional column will indicate whether the data has been changed or is the original."
   ]
  },
  {
   "cell_type": "code",
   "execution_count": 7,
   "metadata": {},
   "outputs": [
    {
     "name": "stdout",
     "output_type": "stream",
     "text": [
      "<class 'pandas.core.frame.DataFrame'>\n",
      "Int64Index: 16446 entries, 0 to 16714\n",
      "Data columns (total 11 columns):\n",
      " #   Column           Non-Null Count  Dtype  \n",
      "---  ------           --------------  -----  \n",
      " 0   name             16444 non-null  object \n",
      " 1   platform         16446 non-null  object \n",
      " 2   year_of_release  16446 non-null  int16  \n",
      " 3   genre            16444 non-null  object \n",
      " 4   na_sales         16446 non-null  float64\n",
      " 5   eu_sales         16446 non-null  float64\n",
      " 6   jp_sales         16446 non-null  float64\n",
      " 7   other_sales      16446 non-null  float64\n",
      " 8   critic_score     7983 non-null   float64\n",
      " 9   user_score       7463 non-null   float32\n",
      " 10  rating           9768 non-null   object \n",
      "dtypes: float32(1), float64(5), int16(1), object(4)\n",
      "memory usage: 1.3+ MB\n"
     ]
    }
   ],
   "source": [
    "data['critic_score'] = pd.to_numeric(data['critic_score'], downcast='integer')\n",
    "data['user_score'] = pd.to_numeric(data['user_score'], downcast='float', errors ='coerce')\n",
    "data['user_score'] = data['user_score'].round(1)\n",
    "data.info()"
   ]
  },
  {
   "cell_type": "code",
   "execution_count": 8,
   "metadata": {},
   "outputs": [
    {
     "data": {
      "text/plain": [
       "array(['Wii', 'NES', 'GB', 'DS', 'X360', 'PS3', 'PS2', 'SNES', 'GBA',\n",
       "       'PS4', '3DS', 'N64', 'PS', 'XB', 'PC', '2600', 'PSP', 'XOne',\n",
       "       'WiiU', 'GC', 'GEN', 'DC', 'PSV', 'SAT', 'SCD', 'WS', 'NG', 'TG16',\n",
       "       '3DO', 'GG', 'PCFX'], dtype=object)"
      ]
     },
     "execution_count": 8,
     "metadata": {},
     "output_type": "execute_result"
    }
   ],
   "source": [
    "data['platform'].unique()"
   ]
  },
  {
   "cell_type": "code",
   "execution_count": 9,
   "metadata": {},
   "outputs": [
    {
     "data": {
      "text/plain": [
       "array(['Sports', 'Platform', 'Racing', 'Role-Playing', 'Puzzle', 'Misc',\n",
       "       'Shooter', 'Simulation', 'Action', 'Fighting', 'Adventure',\n",
       "       'Strategy', nan], dtype=object)"
      ]
     },
     "execution_count": 9,
     "metadata": {},
     "output_type": "execute_result"
    }
   ],
   "source": [
    "data['genre'].unique()"
   ]
  },
  {
   "cell_type": "code",
   "execution_count": 10,
   "metadata": {},
   "outputs": [
    {
     "data": {
      "text/html": [
       "<div>\n",
       "<style scoped>\n",
       "    .dataframe tbody tr th:only-of-type {\n",
       "        vertical-align: middle;\n",
       "    }\n",
       "\n",
       "    .dataframe tbody tr th {\n",
       "        vertical-align: top;\n",
       "    }\n",
       "\n",
       "    .dataframe thead th {\n",
       "        text-align: right;\n",
       "    }\n",
       "</style>\n",
       "<table border=\"1\" class=\"dataframe\">\n",
       "  <thead>\n",
       "    <tr style=\"text-align: right;\">\n",
       "      <th></th>\n",
       "      <th>name</th>\n",
       "      <th>platform</th>\n",
       "      <th>year_of_release</th>\n",
       "      <th>genre</th>\n",
       "      <th>na_sales</th>\n",
       "      <th>eu_sales</th>\n",
       "      <th>jp_sales</th>\n",
       "      <th>other_sales</th>\n",
       "      <th>critic_score</th>\n",
       "      <th>user_score</th>\n",
       "      <th>rating</th>\n",
       "    </tr>\n",
       "  </thead>\n",
       "  <tbody>\n",
       "    <tr>\n",
       "      <th>659</th>\n",
       "      <td>NaN</td>\n",
       "      <td>GEN</td>\n",
       "      <td>1993</td>\n",
       "      <td>NaN</td>\n",
       "      <td>1.78</td>\n",
       "      <td>0.53</td>\n",
       "      <td>0.00</td>\n",
       "      <td>0.08</td>\n",
       "      <td>NaN</td>\n",
       "      <td>NaN</td>\n",
       "      <td>NaN</td>\n",
       "    </tr>\n",
       "    <tr>\n",
       "      <th>14244</th>\n",
       "      <td>NaN</td>\n",
       "      <td>GEN</td>\n",
       "      <td>1993</td>\n",
       "      <td>NaN</td>\n",
       "      <td>0.00</td>\n",
       "      <td>0.00</td>\n",
       "      <td>0.03</td>\n",
       "      <td>0.00</td>\n",
       "      <td>NaN</td>\n",
       "      <td>NaN</td>\n",
       "      <td>NaN</td>\n",
       "    </tr>\n",
       "  </tbody>\n",
       "</table>\n",
       "</div>"
      ],
      "text/plain": [
       "      name platform  year_of_release genre  na_sales  eu_sales  jp_sales  \\\n",
       "659    NaN      GEN             1993   NaN      1.78      0.53      0.00   \n",
       "14244  NaN      GEN             1993   NaN      0.00      0.00      0.03   \n",
       "\n",
       "       other_sales  critic_score  user_score rating  \n",
       "659           0.08           NaN         NaN    NaN  \n",
       "14244         0.00           NaN         NaN    NaN  "
      ]
     },
     "execution_count": 10,
     "metadata": {},
     "output_type": "execute_result"
    }
   ],
   "source": [
    "data[data['genre'].isnull()]"
   ]
  },
  {
   "cell_type": "code",
   "execution_count": 11,
   "metadata": {},
   "outputs": [],
   "source": [
    "data.dropna(subset=['genre'], inplace=True)"
   ]
  },
  {
   "cell_type": "code",
   "execution_count": 12,
   "metadata": {},
   "outputs": [
    {
     "name": "stdout",
     "output_type": "stream",
     "text": [
      "Популярные оценки для жанра  Sports\n",
      "E       1162\n",
      "T        195\n",
      "E10+     105\n",
      "M         16\n",
      "Name: rating, dtype: int64\n",
      "Популярные оценки для жанра  Platform\n",
      "E       354\n",
      "E10+    141\n",
      "T        63\n",
      "M         3\n",
      "Name: rating, dtype: int64\n",
      "Популярные оценки для жанра  Racing\n",
      "E       576\n",
      "T       167\n",
      "E10+     95\n",
      "M        18\n",
      "Name: rating, dtype: int64\n",
      "Популярные оценки для жанра  Role-Playing\n",
      "T       415\n",
      "M       161\n",
      "E10+    111\n",
      "E        83\n",
      "Name: rating, dtype: int64\n",
      "Популярные оценки для жанра  Puzzle\n",
      "E       284\n",
      "E10+     42\n",
      "T        10\n",
      "Name: rating, dtype: int64\n",
      "Популярные оценки для жанра  Misc\n",
      "E       449\n",
      "T       228\n",
      "E10+    166\n",
      "M        13\n",
      "EC        5\n",
      "K-A       1\n",
      "Name: rating, dtype: int64\n",
      "Популярные оценки для жанра  Shooter\n",
      "M       553\n",
      "T       340\n",
      "E10+     56\n",
      "E        47\n",
      "Name: rating, dtype: int64\n",
      "Популярные оценки для жанра  Simulation\n",
      "E       321\n",
      "T       186\n",
      "E10+     47\n",
      "M         5\n",
      "Name: rating, dtype: int64\n",
      "Популярные оценки для жанра  Action\n",
      "T       670\n",
      "M       596\n",
      "E10+    468\n",
      "E       410\n",
      "EC        1\n",
      "AO        1\n",
      "Name: rating, dtype: int64\n",
      "Популярные оценки для жанра  Fighting\n",
      "T       357\n",
      "M        48\n",
      "E10+     19\n",
      "E         8\n",
      "Name: rating, dtype: int64\n",
      "Популярные оценки для жанра  Adventure\n",
      "E       159\n",
      "T       114\n",
      "M        98\n",
      "E10+     67\n",
      "EC        2\n",
      "Name: rating, dtype: int64\n",
      "Популярные оценки для жанра  Strategy\n",
      "T       160\n",
      "E10+     76\n",
      "E        68\n",
      "M        25\n",
      "K-A       2\n",
      "RP        1\n",
      "Name: rating, dtype: int64\n"
     ]
    },
    {
     "data": {
      "text/plain": [
       "{'Sports': 'E',\n",
       " 'Platform': 'E',\n",
       " 'Racing': 'E',\n",
       " 'Role-Playing': 'T',\n",
       " 'Puzzle': 'E',\n",
       " 'Misc': 'E',\n",
       " 'Shooter': 'M',\n",
       " 'Simulation': 'E',\n",
       " 'Action': 'T',\n",
       " 'Fighting': 'T',\n",
       " 'Adventure': 'E',\n",
       " 'Strategy': 'T'}"
      ]
     },
     "execution_count": 12,
     "metadata": {},
     "output_type": "execute_result"
    }
   ],
   "source": [
    "genre_list = data['genre'].unique()\n",
    "genre_dict = {}\n",
    "for genre in genre_list:\n",
    "    print('Популярные оценки для жанра ', genre)\n",
    "    rating_value_counts = data[data['genre'] == genre]['rating'].value_counts()\n",
    "    print(rating_value_counts)\n",
    "    genre_dict[genre] = rating_value_counts.index[0]\n",
    "    \n",
    "genre_dict"
   ]
  },
  {
   "cell_type": "code",
   "execution_count": 13,
   "metadata": {},
   "outputs": [
    {
     "name": "stdout",
     "output_type": "stream",
     "text": [
      "<class 'pandas.core.frame.DataFrame'>\n",
      "Int64Index: 16444 entries, 0 to 16714\n",
      "Data columns (total 11 columns):\n",
      " #   Column           Non-Null Count  Dtype  \n",
      "---  ------           --------------  -----  \n",
      " 0   name             16444 non-null  object \n",
      " 1   platform         16444 non-null  object \n",
      " 2   year_of_release  16444 non-null  int64  \n",
      " 3   genre            16444 non-null  object \n",
      " 4   na_sales         16444 non-null  float64\n",
      " 5   eu_sales         16444 non-null  float64\n",
      " 6   jp_sales         16444 non-null  float64\n",
      " 7   other_sales      16444 non-null  float64\n",
      " 8   critic_score     7983 non-null   float64\n",
      " 9   user_score       7463 non-null   float64\n",
      " 10  rating           16444 non-null  object \n",
      "dtypes: float64(6), int64(1), object(4)\n",
      "memory usage: 1.5+ MB\n"
     ]
    }
   ],
   "source": [
    "data['rating'] = data['rating'].fillna('NR')\n",
    "\n",
    "def fill_rating(row):\n",
    "    if row[10] == 'NR':\n",
    "        row[10] = genre_dict[row[3]]\n",
    "    return row\n",
    "\n",
    "data = data.apply(fill_rating, axis=1)\n",
    "data.info()"
   ]
  },
  {
   "cell_type": "code",
   "execution_count": 14,
   "metadata": {},
   "outputs": [
    {
     "data": {
      "text/plain": [
       "E       7679\n",
       "T       5523\n",
       "M       1836\n",
       "E10+    1393\n",
       "EC         8\n",
       "K-A        3\n",
       "RP         1\n",
       "AO         1\n",
       "Name: rating, dtype: int64"
      ]
     },
     "execution_count": 14,
     "metadata": {},
     "output_type": "execute_result"
    }
   ],
   "source": [
    "data['rating'].value_counts()"
   ]
  },
  {
   "cell_type": "code",
   "execution_count": 15,
   "metadata": {},
   "outputs": [],
   "source": [
    "data.loc[(data['user_score'] == 'tbd')] = 'NaN' \n",
    "data.loc[(data['critic_score'] == 'tbd')] = 'NaN' \n",
    "data.loc[(data['rating'] == 'tbd')] = 'NaN'\n",
    "data['rating'] = data['rating'].fillna('Unknown')"
   ]
  },
  {
   "cell_type": "code",
   "execution_count": 60,
   "metadata": {},
   "outputs": [
    {
     "data": {
      "text/plain": [
       "array(['E', 'T', 'M', 'E10+', 'K-A', 'AO', 'EC', 'RP'], dtype=object)"
      ]
     },
     "execution_count": 60,
     "metadata": {},
     "output_type": "execute_result"
    }
   ],
   "source": [
    "data['rating'].unique()"
   ]
  },
  {
   "cell_type": "code",
   "execution_count": 16,
   "metadata": {},
   "outputs": [],
   "source": [
    "data['critic_score'] = data['critic_score'].astype('float')\n",
    "data['user_score'] = data['user_score'].astype('float')"
   ]
  },
  {
   "cell_type": "code",
   "execution_count": 17,
   "metadata": {},
   "outputs": [],
   "source": [
    "data['critis_score_start'] = data['critic_score']\n",
    "data['user_score_start'] = data['user_score']"
   ]
  },
  {
   "cell_type": "code",
   "execution_count": 18,
   "metadata": {},
   "outputs": [],
   "source": [
    "data = data.reset_index(drop=True)"
   ]
  },
  {
   "cell_type": "code",
   "execution_count": 19,
   "metadata": {},
   "outputs": [
    {
     "data": {
      "text/html": [
       "<div>\n",
       "<style scoped>\n",
       "    .dataframe tbody tr th:only-of-type {\n",
       "        vertical-align: middle;\n",
       "    }\n",
       "\n",
       "    .dataframe tbody tr th {\n",
       "        vertical-align: top;\n",
       "    }\n",
       "\n",
       "    .dataframe thead th {\n",
       "        text-align: right;\n",
       "    }\n",
       "</style>\n",
       "<table border=\"1\" class=\"dataframe\">\n",
       "  <thead>\n",
       "    <tr style=\"text-align: right;\">\n",
       "      <th></th>\n",
       "      <th>name</th>\n",
       "      <th>platform</th>\n",
       "      <th>year_of_release</th>\n",
       "      <th>genre</th>\n",
       "      <th>na_sales</th>\n",
       "      <th>eu_sales</th>\n",
       "      <th>jp_sales</th>\n",
       "      <th>other_sales</th>\n",
       "      <th>critic_score</th>\n",
       "      <th>user_score</th>\n",
       "      <th>rating</th>\n",
       "      <th>critis_score_start</th>\n",
       "      <th>user_score_start</th>\n",
       "      <th>total_sales</th>\n",
       "    </tr>\n",
       "  </thead>\n",
       "  <tbody>\n",
       "    <tr>\n",
       "      <th>0</th>\n",
       "      <td>Wii Sports</td>\n",
       "      <td>Wii</td>\n",
       "      <td>2006</td>\n",
       "      <td>Sports</td>\n",
       "      <td>41.36</td>\n",
       "      <td>28.96</td>\n",
       "      <td>3.77</td>\n",
       "      <td>8.45</td>\n",
       "      <td>76.0</td>\n",
       "      <td>8.0</td>\n",
       "      <td>E</td>\n",
       "      <td>76.0</td>\n",
       "      <td>8.0</td>\n",
       "      <td>82.54</td>\n",
       "    </tr>\n",
       "    <tr>\n",
       "      <th>1</th>\n",
       "      <td>Super Mario Bros.</td>\n",
       "      <td>NES</td>\n",
       "      <td>1985</td>\n",
       "      <td>Platform</td>\n",
       "      <td>29.08</td>\n",
       "      <td>3.58</td>\n",
       "      <td>6.81</td>\n",
       "      <td>0.77</td>\n",
       "      <td>NaN</td>\n",
       "      <td>NaN</td>\n",
       "      <td>E</td>\n",
       "      <td>NaN</td>\n",
       "      <td>NaN</td>\n",
       "      <td>40.24</td>\n",
       "    </tr>\n",
       "    <tr>\n",
       "      <th>2</th>\n",
       "      <td>Mario Kart Wii</td>\n",
       "      <td>Wii</td>\n",
       "      <td>2008</td>\n",
       "      <td>Racing</td>\n",
       "      <td>15.68</td>\n",
       "      <td>12.76</td>\n",
       "      <td>3.79</td>\n",
       "      <td>3.29</td>\n",
       "      <td>82.0</td>\n",
       "      <td>8.3</td>\n",
       "      <td>E</td>\n",
       "      <td>82.0</td>\n",
       "      <td>8.3</td>\n",
       "      <td>35.52</td>\n",
       "    </tr>\n",
       "    <tr>\n",
       "      <th>3</th>\n",
       "      <td>Wii Sports Resort</td>\n",
       "      <td>Wii</td>\n",
       "      <td>2009</td>\n",
       "      <td>Sports</td>\n",
       "      <td>15.61</td>\n",
       "      <td>10.93</td>\n",
       "      <td>3.28</td>\n",
       "      <td>2.95</td>\n",
       "      <td>80.0</td>\n",
       "      <td>8.0</td>\n",
       "      <td>E</td>\n",
       "      <td>80.0</td>\n",
       "      <td>8.0</td>\n",
       "      <td>32.77</td>\n",
       "    </tr>\n",
       "    <tr>\n",
       "      <th>4</th>\n",
       "      <td>Pokemon Red/Pokemon Blue</td>\n",
       "      <td>GB</td>\n",
       "      <td>1996</td>\n",
       "      <td>Role-Playing</td>\n",
       "      <td>11.27</td>\n",
       "      <td>8.89</td>\n",
       "      <td>10.22</td>\n",
       "      <td>1.0</td>\n",
       "      <td>NaN</td>\n",
       "      <td>NaN</td>\n",
       "      <td>T</td>\n",
       "      <td>NaN</td>\n",
       "      <td>NaN</td>\n",
       "      <td>31.38</td>\n",
       "    </tr>\n",
       "  </tbody>\n",
       "</table>\n",
       "</div>"
      ],
      "text/plain": [
       "                       name platform year_of_release         genre na_sales  \\\n",
       "0                Wii Sports      Wii            2006        Sports    41.36   \n",
       "1         Super Mario Bros.      NES            1985      Platform    29.08   \n",
       "2            Mario Kart Wii      Wii            2008        Racing    15.68   \n",
       "3         Wii Sports Resort      Wii            2009        Sports    15.61   \n",
       "4  Pokemon Red/Pokemon Blue       GB            1996  Role-Playing    11.27   \n",
       "\n",
       "  eu_sales jp_sales other_sales  critic_score  user_score rating  \\\n",
       "0    28.96     3.77        8.45          76.0         8.0      E   \n",
       "1     3.58     6.81        0.77           NaN         NaN      E   \n",
       "2    12.76     3.79        3.29          82.0         8.3      E   \n",
       "3    10.93     3.28        2.95          80.0         8.0      E   \n",
       "4     8.89    10.22         1.0           NaN         NaN      T   \n",
       "\n",
       "   critis_score_start  user_score_start total_sales  \n",
       "0                76.0               8.0       82.54  \n",
       "1                 NaN               NaN       40.24  \n",
       "2                82.0               8.3       35.52  \n",
       "3                80.0               8.0       32.77  \n",
       "4                 NaN               NaN       31.38  "
      ]
     },
     "execution_count": 19,
     "metadata": {},
     "output_type": "execute_result"
    }
   ],
   "source": [
    "data['total_sales'] = data['na_sales'] + data['eu_sales'] + data['jp_sales'] + data['other_sales']\n",
    "data.head()"
   ]
  },
  {
   "cell_type": "markdown",
   "metadata": {},
   "source": [
    "### Conclusion on data preprocessing\n",
    "\n",
    "Gaps in the data have been processed. For the rating, both the original data with gaps and the median calculated across the genre and platform were left.\n",
    "The data has been cast to the correct type.\n",
    "When searching for duplicates, 2423 are displayed - these are our tbd values replaced by 100.\n",
    "The amount of sales for each game was calculated."
   ]
  },
  {
   "cell_type": "markdown",
   "metadata": {},
   "source": [
    "## Exploratory data analysis"
   ]
  },
  {
   "cell_type": "code",
   "execution_count": 20,
   "metadata": {},
   "outputs": [
    {
     "data": {
      "text/plain": [
       "2008    1427\n",
       "2009    1426\n",
       "2010    1255\n",
       "2007    1197\n",
       "2011    1136\n",
       "2006    1006\n",
       "2005     939\n",
       "2002     829\n",
       "2003     775\n",
       "2004     762\n",
       "2012     653\n",
       "2015     606\n",
       "2014     581\n",
       "2013     544\n",
       "2016     502\n",
       "2001     482\n",
       "1998     379\n",
       "2000     350\n",
       "1999     338\n",
       "1997     289\n",
       "1996     263\n",
       "1995     219\n",
       "1994     121\n",
       "1993      60\n",
       "1981      46\n",
       "1992      43\n",
       "1991      41\n",
       "1982      36\n",
       "1986      21\n",
       "1989      17\n",
       "1983      17\n",
       "1990      16\n",
       "1987      16\n",
       "1988      15\n",
       "1985      14\n",
       "1984      14\n",
       "1980       9\n",
       "Name: year_of_release, dtype: int64"
      ]
     },
     "execution_count": 20,
     "metadata": {},
     "output_type": "execute_result"
    }
   ],
   "source": [
    "data['year_of_release'].value_counts()"
   ]
  },
  {
   "cell_type": "markdown",
   "metadata": {},
   "source": [
    "It is worth analyzing the data after 1995, since there were significantly fewer computer games released earlier."
   ]
  },
  {
   "cell_type": "code",
   "execution_count": 21,
   "metadata": {},
   "outputs": [
    {
     "data": {
      "text/plain": [
       "platform\n",
       "PS2     1233.56\n",
       "X360     961.24\n",
       "PS3      931.34\n",
       "Wii      891.18\n",
       "DS       802.78\n",
       "PS       727.58\n",
       "PS4      314.14\n",
       "GBA      312.88\n",
       "PSP      289.53\n",
       "3DS      257.81\n",
       "Name: total_sales, dtype: float64"
      ]
     },
     "execution_count": 21,
     "metadata": {},
     "output_type": "execute_result"
    }
   ],
   "source": [
    "top_platforms = data.groupby(['platform'])['total_sales'].sum().nlargest(10)\n",
    "top_platforms"
   ]
  },
  {
   "cell_type": "code",
   "execution_count": 22,
   "metadata": {},
   "outputs": [
    {
     "data": {
      "text/plain": [
       "<AxesSubplot:title={'center':'Выпуск компьтерных игр по годам'}, xlabel='Год выпуска игр', ylabel='Количество выпущенных игр'>"
      ]
     },
     "execution_count": 22,
     "metadata": {},
     "output_type": "execute_result"
    },
    {
     "data": {
      "image/png": "[encoded data removed]",
      "text/plain": [
       "<Figure size 1152x360 with 1 Axes>"
      ]
     },
     "metadata": {
      "needs_background": "light"
     },
     "output_type": "display_data"
    }
   ],
   "source": [
    "def make_bins(start, end, step):\n",
    "    result = []\n",
    "    for bin_elem in range(start, end + 1, step):\n",
    "        result.append(bin_elem)\n",
    "    return result\n",
    "\n",
    "data_top_platforms = data.query('(platform in @top_platforms.index) and (year_of_release >= 1980)')\n",
    "\n",
    "fig, ax = plt.subplots()\n",
    "ax.set_title(\"Выпуск компьтерных игр по годам\")\n",
    "ax.set_xlabel('Год выпуска игр')\n",
    "ax.set_ylabel('Количество выпущенных игр')\n",
    "\n",
    "data_top_platforms['year_of_release'].hist(bins=make_bins(1995, 2017, 1), figsize=(16,5), alpha=0.9, ax=ax)"
   ]
  },
  {
   "cell_type": "code",
   "execution_count": 23,
   "metadata": {},
   "outputs": [],
   "source": [
    "mean_dict = dict()\n",
    "for platform in top_platforms.index.tolist():\n",
    "    data_platform = data_top_platforms.query('platform == @platform')\n",
    "    \n",
    "    min_year = data_platform['year_of_release'].min()\n",
    "    max_year = data_platform['year_of_release'].max()\n",
    "    \n",
    "    mean_dict[platform] = max_year - min_year"
   ]
  },
  {
   "cell_type": "code",
   "execution_count": 24,
   "metadata": {},
   "outputs": [
    {
     "data": {
      "text/plain": [
       "{'PS2': 11,\n",
       " 'X360': 11,\n",
       " 'PS3': 10,\n",
       " 'Wii': 10,\n",
       " 'DS': 28,\n",
       " 'PS': 9,\n",
       " 'PS4': 3,\n",
       " 'GBA': 7,\n",
       " 'PSP': 11,\n",
       " '3DS': 5}"
      ]
     },
     "execution_count": 24,
     "metadata": {},
     "output_type": "execute_result"
    }
   ],
   "source": [
    "mean_dict"
   ]
  },
  {
   "cell_type": "code",
   "execution_count": 25,
   "metadata": {},
   "outputs": [
    {
     "data": {
      "text/plain": [
       "10.5"
      ]
     },
     "execution_count": 25,
     "metadata": {},
     "output_type": "execute_result"
    }
   ],
   "source": [
    "mean = sum(mean_dict.values()) / len(mean_dict.values())\n",
    "mean"
   ]
  },
  {
   "cell_type": "code",
   "execution_count": 26,
   "metadata": {},
   "outputs": [
    {
     "data": {
      "text/plain": [
       "9.25"
      ]
     },
     "execution_count": 26,
     "metadata": {},
     "output_type": "execute_result"
    }
   ],
   "source": [
    "del mean_dict['DS']\n",
    "del mean_dict['PS4']\n",
    "\n",
    "mean = sum(mean_dict.values()) / len(mean_dict.values())\n",
    "mean"
   ]
  },
  {
   "cell_type": "markdown",
   "metadata": {},
   "source": [
    "Let's take the average time of one platform for 10 years. But there are exceptions in the form of PC (working time is much higher than 31 years) and PS4 (working time is much shorter - 3 years)."
   ]
  },
  {
   "cell_type": "code",
   "execution_count": 27,
   "metadata": {},
   "outputs": [],
   "source": [
    "data = data.query('(year_of_release >= 1995)')\n",
    "data_actual = data.query('(year_of_release >= 2014)')"
   ]
  },
  {
   "cell_type": "code",
   "execution_count": 28,
   "metadata": {},
   "outputs": [
    {
     "data": {
      "image/png": "[encoded data removed]",
      "text/plain": [
       "<Figure size 576x576 with 1 Axes>"
      ]
     },
     "metadata": {},
     "output_type": "display_data"
    }
   ],
   "source": [
    "data_actual_1 = data.query('year_of_release >= 2014')\n",
    "data_platform_pivot_1 = data_actual_1.groupby('platform')['total_sales'].agg('sum').sort_values(ascending = True)\n",
    "data_platform_pivot_1.plot.pie(figsize=(8, 8), autopct='%1.1f%%',shadow = True)\n",
    "plt.legend()\n",
    "plt.show()"
   ]
  },
  {
   "cell_type": "markdown",
   "metadata": {},
   "source": [
    "### Note\n",
    "Since the average life of the platform is 10 years, it is worth analyzing the data for the last 10 years. But for other parameters, like genre, it will probably be necessary to go back to data over a longer period."
   ]
  },
  {
   "cell_type": "code",
   "execution_count": 29,
   "metadata": {},
   "outputs": [],
   "source": [
    "data_platform_pivot = data_actual.pivot_table(index=['platform', 'year_of_release'], values=['total_sales'], aggfunc=['sum'])\n",
    "data_platform_pivot = data_platform_pivot.reset_index(level='year_of_release')\n",
    "data_platform_pivot.columns = ['year', 'total_sales_sum']\n",
    "\n",
    "data_platform_pivot_for_plot = data_platform_pivot.reset_index()\n",
    "data_platform_pivot_for_plot = data_platform_pivot_for_plot.pivot(index='year', columns='platform', values='total_sales_sum')"
   ]
  },
  {
   "cell_type": "code",
   "execution_count": 30,
   "metadata": {},
   "outputs": [
    {
     "data": {
      "text/plain": [
       "Text(0, 0.5, 'Сумма продаж')"
      ]
     },
     "execution_count": 30,
     "metadata": {},
     "output_type": "execute_result"
    },
    {
     "data": {
      "image/png": "[encoded data removed]",
      "text/plain": [
       "<Figure size 936x504 with 1 Axes>"
      ]
     },
     "metadata": {
      "needs_background": "light"
     },
     "output_type": "display_data"
    }
   ],
   "source": [
    "fig, ax = plt.subplots()\n",
    "data_platform_pivot_for_plot.plot(figsize=(13,7), ax=ax)\n",
    "ax.set_title('Продажи игр на платформах по годам')\n",
    "ax.set_xlabel('Год')\n",
    "ax.set_ylabel('Сумма продаж')"
   ]
  },
  {
   "cell_type": "code",
   "execution_count": 31,
   "metadata": {},
   "outputs": [
    {
     "data": {
      "text/plain": [
       "<AxesSubplot:title={'center':'Распределение продаж по платформам'}, xlabel='Платформа', ylabel='Продажи'>"
      ]
     },
     "execution_count": 31,
     "metadata": {},
     "output_type": "execute_result"
    },
    {
     "data": {
      "image/png": "[encoded data removed]",
      "text/plain": [
       "<Figure size 936x504 with 1 Axes>"
      ]
     },
     "metadata": {
      "needs_background": "light"
     },
     "output_type": "display_data"
    }
   ],
   "source": [
    "data_platform_pivot_for_plot.fillna(0, inplace=True)\n",
    "\n",
    "fig, ax = plt.subplots(1)\n",
    "ax.set_title('Распределение продаж по платформам')\n",
    "ax.set_xlabel('Платформа')\n",
    "ax.set_ylabel('Продажи')\n",
    "data_platform_pivot_for_plot.plot(kind='box', figsize=(13,7), ax=ax)"
   ]
  },
  {
   "cell_type": "markdown",
   "metadata": {},
   "source": [
    "### intermediate output\n",
    "Most of the platforms are not working at the moment. 3 platforms demonstrate the largest volume of sales - PS4, Xbox One, PC.\n",
    "The data for 2016 is incomplete, but the PS4 leads the way with huge growth. The XBox one is also showing growth, with the PC in demand as the platform has been in operation for 20 years, although it is currently not a leader in terms of sales.\n",
    "\n",
    "Platforms are very different from each other, the higher the popularity of the platform, the higher the scatter is. PS2, PS3, PS4 and X360 platforms stand out in particular. Along with this, the Nintendo DS lags behind, but not by much. Differences are observed, both in terms of sales in general, and in terms of average values.\n",
    "\n",
    "The values ​​of PC are not entirely clear, since the spread of values ​​is not large, but the platform has been operating for more than 20 years."
   ]
  },
  {
   "cell_type": "code",
   "execution_count": 32,
   "metadata": {},
   "outputs": [
    {
     "data": {
      "text/plain": [
       "Text(0, 0.5, 'Сумма продаж')"
      ]
     },
     "execution_count": 32,
     "metadata": {},
     "output_type": "execute_result"
    },
    {
     "data": {
      "image/png": "[encoded data removed]",
      "text/plain": [
       "<Figure size 936x504 with 2 Axes>"
      ]
     },
     "metadata": {
      "needs_background": "light"
     },
     "output_type": "display_data"
    }
   ],
   "source": [
    "data_ps3 = data_actual.query('platform == \"PS3\"')\n",
    "fig, ax = plt.subplots(1, 2)\n",
    "data_ps3.plot(x='user_score', y='total_sales', kind='scatter', ax=ax[0], figsize=(13,7))\n",
    "data_ps3.plot(x='critic_score', y='total_sales', kind='scatter', ax=ax[1], figsize=(13,7))\n",
    "\n",
    "ax[0].set_title('Влияние оценок пользователей на продажи')\n",
    "ax[0].set_xlabel('Оценка пользователей')\n",
    "ax[0].set_ylabel('Сумма продаж')\n",
    "ax[1].set_title('Влияние оценок критиков на продажи')\n",
    "ax[1].set_xlabel('Оценка критиков')\n",
    "ax[1].set_ylabel('Сумма продаж')"
   ]
  },
  {
   "cell_type": "code",
   "execution_count": 33,
   "metadata": {},
   "outputs": [
    {
     "name": "stdout",
     "output_type": "stream",
     "text": [
      "<class 'pandas.core.frame.DataFrame'>\n",
      "Int64Index: 1689 entries, 31 to 16443\n",
      "Data columns (total 14 columns):\n",
      " #   Column              Non-Null Count  Dtype  \n",
      "---  ------              --------------  -----  \n",
      " 0   name                1689 non-null   object \n",
      " 1   platform            1689 non-null   object \n",
      " 2   year_of_release     1689 non-null   object \n",
      " 3   genre               1689 non-null   object \n",
      " 4   na_sales            1689 non-null   object \n",
      " 5   eu_sales            1689 non-null   object \n",
      " 6   jp_sales            1689 non-null   object \n",
      " 7   other_sales         1689 non-null   object \n",
      " 8   critic_score        718 non-null    float64\n",
      " 9   user_score          888 non-null    float64\n",
      " 10  rating              1689 non-null   object \n",
      " 11  critis_score_start  718 non-null    float64\n",
      " 12  user_score_start    888 non-null    float64\n",
      " 13  total_sales         1689 non-null   float64\n",
      "dtypes: float64(5), object(9)\n",
      "memory usage: 197.9+ KB\n"
     ]
    },
    {
     "name": "stderr",
     "output_type": "stream",
     "text": [
      "/tmp/ipykernel_53/3821703310.py:1: SettingWithCopyWarning: \n",
      "A value is trying to be set on a copy of a slice from a DataFrame.\n",
      "Try using .loc[row_indexer,col_indexer] = value instead\n",
      "\n",
      "See the caveats in the documentation: https://pandas.pydata.org/pandas-docs/stable/user_guide/indexing.html#returning-a-view-versus-a-copy\n",
      "  data_actual['total_sales'] = data_actual['total_sales'].astype('float')\n"
     ]
    }
   ],
   "source": [
    "data_actual['total_sales'] = data_actual['total_sales'].astype('float')\n",
    "data_actual.info()"
   ]
  },
  {
   "cell_type": "code",
   "execution_count": 34,
   "metadata": {},
   "outputs": [
    {
     "data": {
      "text/html": [
       "<div>\n",
       "<style scoped>\n",
       "    .dataframe tbody tr th:only-of-type {\n",
       "        vertical-align: middle;\n",
       "    }\n",
       "\n",
       "    .dataframe tbody tr th {\n",
       "        vertical-align: top;\n",
       "    }\n",
       "\n",
       "    .dataframe thead th {\n",
       "        text-align: right;\n",
       "    }\n",
       "</style>\n",
       "<table border=\"1\" class=\"dataframe\">\n",
       "  <thead>\n",
       "    <tr style=\"text-align: right;\">\n",
       "      <th></th>\n",
       "      <th>X360</th>\n",
       "      <th>PS3</th>\n",
       "      <th>PS4</th>\n",
       "      <th>3DS</th>\n",
       "    </tr>\n",
       "  </thead>\n",
       "  <tbody>\n",
       "    <tr>\n",
       "      <th>user_score</th>\n",
       "      <td>-0.138445</td>\n",
       "      <td>-0.166761</td>\n",
       "      <td>-0.040132</td>\n",
       "      <td>0.215193</td>\n",
       "    </tr>\n",
       "    <tr>\n",
       "      <th>critic_score</th>\n",
       "      <td>0.525723</td>\n",
       "      <td>0.446575</td>\n",
       "      <td>0.402661</td>\n",
       "      <td>0.314117</td>\n",
       "    </tr>\n",
       "  </tbody>\n",
       "</table>\n",
       "</div>"
      ],
      "text/plain": [
       "                  X360       PS3       PS4       3DS\n",
       "user_score   -0.138445 -0.166761 -0.040132  0.215193\n",
       "critic_score  0.525723  0.446575  0.402661  0.314117"
      ]
     },
     "execution_count": 34,
     "metadata": {},
     "output_type": "execute_result"
    }
   ],
   "source": [
    "data_slice = data_actual.query('platform in @top_platforms.index')[['platform', 'user_score', 'critic_score', 'total_sales']]\n",
    "\n",
    "data_result = pd.DataFrame(data=[], index=['user_score', 'critic_score'], columns=[])\n",
    "for platform in data['platform'].unique():\n",
    "    data_slice_platform = data_slice.query('platform == @platform')\n",
    "    user_score_corr = data_slice_platform['user_score'].corr(data_slice_platform['total_sales'])\n",
    "    critic_score_corr = data_slice_platform['critic_score'].corr(data_slice_platform['total_sales'])\n",
    "    data_result[platform] = [user_score_corr, critic_score_corr]\n",
    "\n",
    "data_result.dropna(axis='columns', inplace=True)\n",
    "data_result"
   ]
  },
  {
   "cell_type": "code",
   "execution_count": 35,
   "metadata": {},
   "outputs": [
    {
     "data": {
      "text/plain": [
       "<AxesSubplot:title={'center':'Влияение оценки критиков и пользователей на продажи'}, xlabel='Оценки', ylabel='Величина корреляции'>"
      ]
     },
     "execution_count": 35,
     "metadata": {},
     "output_type": "execute_result"
    },
    {
     "data": {
      "image/png": "[encoded data removed]",
      "text/plain": [
       "<Figure size 936x504 with 1 Axes>"
      ]
     },
     "metadata": {
      "needs_background": "light"
     },
     "output_type": "display_data"
    }
   ],
   "source": [
    "fig, ax = plt.subplots(1)\n",
    "ax.set_title('Влияение оценки критиков и пользователей на продажи')\n",
    "ax.set_xlabel('Оценки')\n",
    "ax.set_ylabel('Величина корреляции')\n",
    "data_result.plot(kind='bar', figsize=(13,7), ax=ax)"
   ]
  },
  {
   "cell_type": "markdown",
   "metadata": {},
   "source": [
    "### intermediate output\n",
    "\n",
    "Critics' rating has a stronger effect on sales than user rating. At the same time, the rating of critics above 7 begins to have a tangible impact, in the range from 4 to 7 the influence is not so strong.\n",
    "\n",
    "There are games that sell well regardless of user ratings. This is probably due to the fact that user ratings are not always objective."
   ]
  },
  {
   "cell_type": "code",
   "execution_count": 36,
   "metadata": {},
   "outputs": [
    {
     "data": {
      "text/plain": [
       "Action          619\n",
       "Role-Playing    221\n",
       "Adventure       185\n",
       "Sports          161\n",
       "Shooter         128\n",
       "Misc            113\n",
       "Racing           69\n",
       "Fighting         60\n",
       "Simulation       44\n",
       "Platform         38\n",
       "Strategy         37\n",
       "Puzzle           14\n",
       "Name: genre, dtype: int64"
      ]
     },
     "execution_count": 36,
     "metadata": {},
     "output_type": "execute_result"
    }
   ],
   "source": [
    "data_actual['genre'].value_counts()"
   ]
  },
  {
   "cell_type": "code",
   "execution_count": 37,
   "metadata": {
    "scrolled": true
   },
   "outputs": [
    {
     "data": {
      "text/plain": [
       "<AxesSubplot:title={'center':'Топ количества игр по жанрам'}, xlabel='Жанр игры', ylabel='Количество выпущенных игр'>"
      ]
     },
     "execution_count": 37,
     "metadata": {},
     "output_type": "execute_result"
    },
    {
     "data": {
      "image/png": "[encoded data removed]",
      "text/plain": [
       "<Figure size 936x504 with 1 Axes>"
      ]
     },
     "metadata": {
      "needs_background": "light"
     },
     "output_type": "display_data"
    }
   ],
   "source": [
    "fig, ax = plt.subplots(1)\n",
    "ax.set_title('Топ количества игр по жанрам')\n",
    "ax.set_xlabel('Жанр игры')\n",
    "ax.set_ylabel('Количество выпущенных игр')\n",
    "data_actual['genre'].value_counts().plot(kind='bar', figsize=(13,7), ax=ax)"
   ]
  },
  {
   "cell_type": "code",
   "execution_count": 38,
   "metadata": {},
   "outputs": [
    {
     "data": {
      "text/plain": [
       "genre\n",
       "Shooter         1.335469\n",
       "Sports          0.680000\n",
       "Platform        0.476053\n",
       "Fighting        0.470333\n",
       "Role-Playing    0.459005\n",
       "Racing          0.398841\n",
       "Misc            0.332301\n",
       "Action          0.322068\n",
       "Simulation      0.298409\n",
       "Puzzle          0.157857\n",
       "Strategy        0.107027\n",
       "Adventure       0.094865\n",
       "Name: total_sales, dtype: float64"
      ]
     },
     "execution_count": 38,
     "metadata": {},
     "output_type": "execute_result"
    }
   ],
   "source": [
    "top_genre_sales = data_actual.groupby('genre')['total_sales'].mean().nlargest(15)\n",
    "top_genre_sales"
   ]
  },
  {
   "cell_type": "markdown",
   "metadata": {},
   "source": [
    "### intermediate output\n",
    "\n",
    "1. The most profitable genres are shooters and sports games\n",
    "2. Despite the fact that Action takes the first place in terms of the number of games, they do not occupy a leading position in terms of sales.\n",
    "3. Adventure games, of which there are many, have some of the worst sales figures.\n",
    "4. RPGs are in the sweet spot along with mixed genre games, although they are released in large numbers."
   ]
  },
  {
   "cell_type": "markdown",
   "metadata": {},
   "source": [
    "## User portrait of each region"
   ]
  },
  {
   "cell_type": "code",
   "execution_count": 39,
   "metadata": {},
   "outputs": [
    {
     "data": {
      "text/plain": [
       "Text(0, 0.5, 'Количество игр')"
      ]
     },
     "execution_count": 39,
     "metadata": {},
     "output_type": "execute_result"
    },
    {
     "data": {
      "image/png": "[encoded data removed]",
      "text/plain": [
       "<Figure size 936x504 with 1 Axes>"
      ]
     },
     "metadata": {
      "needs_background": "light"
     },
     "output_type": "display_data"
    }
   ],
   "source": [
    "data_na = data_actual.query('na_sales > 0')\n",
    "data_jp = data_actual.query('jp_sales > 0')\n",
    "data_eu = data_actual.query('eu_sales > 0')\n",
    "\n",
    "data_na_count = data_na.groupby('platform')['name'].count().to_frame()\n",
    "data_na_count.columns = ['na_game_count']\n",
    "data_jp_count = data_jp.groupby('platform')['name'].count().to_frame()\n",
    "data_jp_count.columns = ['jp_game_count']\n",
    "data_eu_count = data_eu.groupby('platform')['name'].count().to_frame()\n",
    "data_eu_count.columns = ['eu_game_count']\n",
    "\n",
    "data_for_bar = data_na_count.merge(data_jp_count, how='outer', on='platform')\n",
    "data_for_bar = data_for_bar.merge(data_eu_count, how='outer', on='platform')\n",
    "\n",
    "del data_na_count\n",
    "del data_jp_count\n",
    "del data_eu_count\n",
    "\n",
    "fig, ax = plt.subplots(1)\n",
    "data_for_bar.plot(kind='bar', figsize=(13,7), ax=ax)\n",
    "ax.set_title('Количество выпускаемых игр по платформам для каждого региона')\n",
    "ax.set_xlabel('Платформа')\n",
    "ax.set_ylabel('Количество игр')"
   ]
  },
  {
   "cell_type": "code",
   "execution_count": 40,
   "metadata": {},
   "outputs": [
    {
     "data": {
      "text/plain": [
       "Text(0, 0.5, 'Сумма продаж')"
      ]
     },
     "execution_count": 40,
     "metadata": {},
     "output_type": "execute_result"
    },
    {
     "data": {
      "image/png": "[encoded data removed]",
      "text/plain": [
       "<Figure size 936x504 with 1 Axes>"
      ]
     },
     "metadata": {
      "needs_background": "light"
     },
     "output_type": "display_data"
    }
   ],
   "source": [
    "def source_data_for_bar(groupby_value, type_value, func_value, top_count):\n",
    "    regions = ['na', 'jp', 'eu']\n",
    "    for region in regions:\n",
    "        if (type_value == 'sales'):\n",
    "            column_name = region + '_' + type_value\n",
    "        else:\n",
    "            column_name = type_value\n",
    "        \n",
    "        if region == 'na':\n",
    "            data_na_temp = data_na.groupby(groupby_value)[column_name]\n",
    "        elif region == 'jp':\n",
    "            data_jp_temp = data_jp.groupby(groupby_value)[column_name]\n",
    "        else:\n",
    "            data_eu_temp = data_eu.groupby(groupby_value)[column_name]\n",
    "    \n",
    "    if (func_value == 'sum'):\n",
    "        data_na_temp = data_na_temp.sum().nlargest(top_count).to_frame()\n",
    "        data_jp_temp = data_jp_temp.sum().nlargest(top_count).to_frame()\n",
    "        data_eu_temp = data_eu_temp.sum().nlargest(top_count).to_frame()\n",
    "    else:\n",
    "        data_na_temp = data_na_temp.count().nlargest(top_count).to_frame()\n",
    "        data_jp_temp = data_jp_temp.count().nlargest(top_count).to_frame()\n",
    "        data_eu_temp = data_eu_temp.count().nlargest(top_count).to_frame()\n",
    "        \n",
    "    data_na_temp.columns = ['na_' + type_value + '_' + func_value]\n",
    "    data_jp_temp.columns = ['jp_' + type_value + '_' + func_value]\n",
    "    data_eu_temp.columns = ['eu_' + type_value + '_' + func_value]\n",
    "    \n",
    "    result = data_na_temp.merge(data_jp_temp, how='outer', on=groupby_value)\n",
    "    result = result.merge(data_eu_temp, how='outer', on=groupby_value)\n",
    "    \n",
    "    return result\n",
    "\n",
    "data_for_bar = source_data_for_bar('platform', 'sales', 'sum', 5)\n",
    "\n",
    "fig, ax = plt.subplots(1)\n",
    "data_for_bar.plot(kind='bar', figsize=(13,7), ax=ax)\n",
    "ax.set_title('Количество продаж игр по ТОП-5 платформам для каждого региона')\n",
    "ax.set_xlabel('Платформа')\n",
    "ax.set_ylabel('Сумма продаж')"
   ]
  },
  {
   "cell_type": "markdown",
   "metadata": {},
   "source": [
    "### Intermediate conclusions\n",
    "1. North America has the highest sales and Japan the lowest.\n",
    "2. In North America, the X360 leads in terms of sales, in Japan, Nintendo, and in Europe, PS3.\n",
    "3. In Japan, the top sales are slightly different from Europe and America - they include 3DS and PSP, which are not in the top of other regions.\n",
    "4. In the USA, it got into the top PS2, despite the presence of PS3. And in Europe - PS4. It can be considered more progressive (after all, the platform is new) and conservative (there are no specific platforms in the top).\n",
    "5. At the same time, Nintendo and PS3 lead in terms of purchased games in all regions. PS3 turns out to be the most versatile platform for all regions"
   ]
  },
  {
   "cell_type": "code",
   "execution_count": 41,
   "metadata": {},
   "outputs": [
    {
     "data": {
      "text/plain": [
       "Text(0, 0.5, 'Сумма продаж')"
      ]
     },
     "execution_count": 41,
     "metadata": {},
     "output_type": "execute_result"
    },
    {
     "data": {
      "image/png": "[encoded data removed]",
      "text/plain": [
       "<Figure size 936x504 with 1 Axes>"
      ]
     },
     "metadata": {
      "needs_background": "light"
     },
     "output_type": "display_data"
    }
   ],
   "source": [
    "data_for_bar = source_data_for_bar('genre', 'sales', 'sum', 5)\n",
    "\n",
    "fig, ax = plt.subplots(1)\n",
    "data_for_bar.plot(kind='bar', figsize=(13,7), ax=ax)\n",
    "ax.set_title('Количество продаж игр по ТОП-5 жанрам для каждого региона')\n",
    "ax.set_xlabel('Жанр')\n",
    "ax.set_ylabel('Сумма продаж')"
   ]
  },
  {
   "cell_type": "code",
   "execution_count": 42,
   "metadata": {},
   "outputs": [
    {
     "data": {
      "text/plain": [
       "Text(0, 0.5, 'Количество выпущенных игр')"
      ]
     },
     "execution_count": 42,
     "metadata": {},
     "output_type": "execute_result"
    },
    {
     "data": {
      "image/png": "[encoded data removed]",
      "text/plain": [
       "<Figure size 936x504 with 1 Axes>"
      ]
     },
     "metadata": {
      "needs_background": "light"
     },
     "output_type": "display_data"
    }
   ],
   "source": [
    "data_for_bar = source_data_for_bar('genre', 'name', 'count', 5)\n",
    "\n",
    "fig, ax = plt.subplots(1)\n",
    "data_for_bar.plot(kind='bar', figsize=(13,7), ax=ax)\n",
    "ax.set_title('Количество выпущенных игр по ТОП-5 жанрам для каждого региона')\n",
    "ax.set_xlabel('Жанр')\n",
    "ax.set_ylabel('Количество выпущенных игр')"
   ]
  },
  {
   "cell_type": "markdown",
   "metadata": {},
   "source": [
    "### Intermediate conclusions\n",
    "\n",
    "1. Preferences in America and Europe are generally similar.\n",
    "2. In general, the most popular genre for any region can be considered Action\n",
    "3. Sports games and shooters are in 2nd and 3rd places, but shooters are not so popular in Japan.\n",
    "4. Role-playing games are the most popular in Japan.\n",
    "5. Also Japan is more popular than America and Europe adventure games, which are in 3rd place."
   ]
  },
  {
   "cell_type": "code",
   "execution_count": 43,
   "metadata": {},
   "outputs": [
    {
     "name": "stdout",
     "output_type": "stream",
     "text": [
      "<class 'pandas.core.frame.DataFrame'>\n",
      "Int64Index: 1689 entries, 31 to 16443\n",
      "Data columns (total 14 columns):\n",
      " #   Column              Non-Null Count  Dtype  \n",
      "---  ------              --------------  -----  \n",
      " 0   name                1689 non-null   object \n",
      " 1   platform            1689 non-null   object \n",
      " 2   year_of_release     1689 non-null   object \n",
      " 3   genre               1689 non-null   object \n",
      " 4   na_sales            1689 non-null   float64\n",
      " 5   eu_sales            1689 non-null   float64\n",
      " 6   jp_sales            1689 non-null   float64\n",
      " 7   other_sales         1689 non-null   object \n",
      " 8   critic_score        718 non-null    float64\n",
      " 9   user_score          888 non-null    float64\n",
      " 10  rating              1689 non-null   object \n",
      " 11  critis_score_start  718 non-null    float64\n",
      " 12  user_score_start    888 non-null    float64\n",
      " 13  total_sales         1689 non-null   float64\n",
      "dtypes: float64(8), object(6)\n",
      "memory usage: 197.9+ KB\n"
     ]
    },
    {
     "name": "stderr",
     "output_type": "stream",
     "text": [
      "/tmp/ipykernel_53/2686550207.py:1: SettingWithCopyWarning: \n",
      "A value is trying to be set on a copy of a slice from a DataFrame.\n",
      "Try using .loc[row_indexer,col_indexer] = value instead\n",
      "\n",
      "See the caveats in the documentation: https://pandas.pydata.org/pandas-docs/stable/user_guide/indexing.html#returning-a-view-versus-a-copy\n",
      "  data_actual['na_sales'] = data['na_sales'].astype('float')\n",
      "/tmp/ipykernel_53/2686550207.py:2: SettingWithCopyWarning: \n",
      "A value is trying to be set on a copy of a slice from a DataFrame.\n",
      "Try using .loc[row_indexer,col_indexer] = value instead\n",
      "\n",
      "See the caveats in the documentation: https://pandas.pydata.org/pandas-docs/stable/user_guide/indexing.html#returning-a-view-versus-a-copy\n",
      "  data_actual['jp_sales'] = data['jp_sales'].astype('float')\n",
      "/tmp/ipykernel_53/2686550207.py:3: SettingWithCopyWarning: \n",
      "A value is trying to be set on a copy of a slice from a DataFrame.\n",
      "Try using .loc[row_indexer,col_indexer] = value instead\n",
      "\n",
      "See the caveats in the documentation: https://pandas.pydata.org/pandas-docs/stable/user_guide/indexing.html#returning-a-view-versus-a-copy\n",
      "  data_actual['eu_sales'] = data['eu_sales'].astype('float')\n"
     ]
    }
   ],
   "source": [
    "data_actual['na_sales'] = data['na_sales'].astype('float')\n",
    "data_actual['jp_sales'] = data['jp_sales'].astype('float')\n",
    "data_actual['eu_sales'] = data['eu_sales'].astype('float')\n",
    "data_actual.info()"
   ]
  },
  {
   "cell_type": "code",
   "execution_count": 44,
   "metadata": {},
   "outputs": [],
   "source": [
    "data_actual_rating = data_actual[['na_sales', 'jp_sales', 'eu_sales', 'rating']]"
   ]
  },
  {
   "cell_type": "code",
   "execution_count": 45,
   "metadata": {},
   "outputs": [
    {
     "data": {
      "text/plain": [
       "<function matplotlib.pyplot.show(close=None, block=None)>"
      ]
     },
     "execution_count": 45,
     "metadata": {},
     "output_type": "execute_result"
    },
    {
     "data": {
      "image/png": "[encoded data removed]",
      "text/plain": [
       "<Figure size 432x288 with 1 Axes>"
      ]
     },
     "metadata": {
      "needs_background": "light"
     },
     "output_type": "display_data"
    }
   ],
   "source": [
    "x1 = data_actual_rating['rating'] \n",
    "y1 = data_actual_rating['na_sales']\n",
    "fig, ax = plt.subplots()\n",
    "ax.bar(x1, y1, width = 0.4)\n",
    "ax.set_title('Влияние возрастного рейтинга игры на продажи')\n",
    "ax.set_xlabel('Возрастной рейтинг')\n",
    "ax.set_ylabel('Продажи по Северной Америке')\n",
    "ax.set_facecolor('seashell')\n",
    "plt.show"
   ]
  },
  {
   "cell_type": "code",
   "execution_count": 46,
   "metadata": {},
   "outputs": [
    {
     "data": {
      "text/plain": [
       "<function matplotlib.pyplot.show(close=None, block=None)>"
      ]
     },
     "execution_count": 46,
     "metadata": {},
     "output_type": "execute_result"
    },
    {
     "data": {
      "image/png": "[encoded data removed]",
      "text/plain": [
       "<Figure size 432x288 with 1 Axes>"
      ]
     },
     "metadata": {
      "needs_background": "light"
     },
     "output_type": "display_data"
    }
   ],
   "source": [
    "x2 = data_actual_rating['rating'] \n",
    "y2 = data_actual_rating['jp_sales']\n",
    "fig, ax = plt.subplots()\n",
    "ax.bar(x2, y2, width = 0.4)\n",
    "ax.set_title('Влияние возрастного рейтинга игры на продажи')\n",
    "ax.set_xlabel('Возрастной рейтинг')\n",
    "ax.set_ylabel('Продажи по Японии')\n",
    "ax.set_facecolor('seashell')\n",
    "plt.show"
   ]
  },
  {
   "cell_type": "code",
   "execution_count": 47,
   "metadata": {},
   "outputs": [
    {
     "data": {
      "text/plain": [
       "<function matplotlib.pyplot.show(close=None, block=None)>"
      ]
     },
     "execution_count": 47,
     "metadata": {},
     "output_type": "execute_result"
    },
    {
     "data": {
      "image/png": "[encoded data removed]",
      "text/plain": [
       "<Figure size 432x288 with 1 Axes>"
      ]
     },
     "metadata": {
      "needs_background": "light"
     },
     "output_type": "display_data"
    }
   ],
   "source": [
    "x3 = data_actual_rating['rating'] \n",
    "y3 = data_actual_rating['eu_sales']\n",
    "fig, ax = plt.subplots()\n",
    "ax.bar(x3, y3, width = 0.4)\n",
    "ax.set_title('Влияние возрастного рейтинга игры на продажи')\n",
    "ax.set_xlabel('Возрастной рейтинг')\n",
    "ax.set_ylabel('Продажи по Европе')\n",
    "ax.set_facecolor('seashell')\n",
    "plt.show"
   ]
  },
  {
   "cell_type": "markdown",
   "metadata": {},
   "source": [
    "### intermediate output\n",
    "In North America and Europe, games with a higher rating sell slightly better. But this correlation is not as strong as for Japan. In Japan, games with a more \"childish\" rating sell better."
   ]
  },
  {
   "cell_type": "markdown",
   "metadata": {},
   "source": [
    "## Hypothesis testing"
   ]
  },
  {
   "cell_type": "markdown",
   "metadata": {},
   "source": [
    "### The average user ratings of the Xbox One and PC platforms are the same\n",
    "\n",
    "Hypothesis H0: The average user ratings of the Xbox One and PC platforms are the same\n",
    "\n",
    "Hypothesis H1: The average user ratings of the Xbox One and PC platforms are different"
   ]
  },
  {
   "cell_type": "code",
   "execution_count": 48,
   "metadata": {},
   "outputs": [],
   "source": [
    "H0 = 'Не можем отвергнуть гипотизу - средние пользовательские рейтинги платформ Xbox One и PC одинаковы'\n",
    "H1 = 'Отвергаем нулевую гипотезу, средние пользовательские рейтинги платформ Xbox One и PC различаются'\n",
    "\n",
    "alpha = 0.05 \n",
    "\n",
    "data_xbox_one = data_actual.query('platform == \"XOne\"')\n",
    "data_pc = data_actual.query('platform == \"PC\"')"
   ]
  },
  {
   "cell_type": "code",
   "execution_count": 49,
   "metadata": {},
   "outputs": [
    {
     "data": {
      "text/plain": [
       "<AxesSubplot:>"
      ]
     },
     "execution_count": 49,
     "metadata": {},
     "output_type": "execute_result"
    },
    {
     "data": {
      "image/png": "[encoded data removed]",
      "text/plain": [
       "<Figure size 936x504 with 1 Axes>"
      ]
     },
     "metadata": {
      "needs_background": "light"
     },
     "output_type": "display_data"
    }
   ],
   "source": [
    "data_xbox_one['user_score'].hist(bins=18, alpha=0.8, figsize=(13,7))\n",
    "data_pc['user_score'].hist(bins=22, alpha=0.4, figsize=(13,7))"
   ]
  },
  {
   "cell_type": "code",
   "execution_count": 50,
   "metadata": {},
   "outputs": [
    {
     "name": "stdout",
     "output_type": "stream",
     "text": [
      "PC count = 122\n",
      "Xbox count = 165\n"
     ]
    }
   ],
   "source": [
    "print('PC count =', data_pc['user_score'].count())\n",
    "print('Xbox count =', data_xbox_one['user_score'].count())"
   ]
  },
  {
   "cell_type": "markdown",
   "metadata": {},
   "source": [
    "Имеются кол-ные данные в двух независимых выборках, которые распределены нормально (хоть и немного смещены влево). Выборки не сверхмалы, не содержат явных выбросов. Поэтому Т-критерий Стьюдента можно использовать. "
   ]
  },
  {
   "cell_type": "code",
   "execution_count": 51,
   "metadata": {},
   "outputs": [
    {
     "name": "stdout",
     "output_type": "stream",
     "text": [
      "Не можем отвергнуть гипотизу - средние пользовательские рейтинги платформ Xbox One и PC одинаковы\n"
     ]
    }
   ],
   "source": [
    "results = st.ttest_ind(data_xbox_one['user_score'], data_pc['user_score'], equal_var = False)\n",
    "\n",
    "if results.pvalue < alpha:\n",
    "    print(H1)\n",
    "else:\n",
    "    print(H0)"
   ]
  },
  {
   "cell_type": "code",
   "execution_count": 52,
   "metadata": {},
   "outputs": [
    {
     "name": "stdout",
     "output_type": "stream",
     "text": [
      "XBOX user score mean =  6.594545459024834\n",
      "PC user score mean =  6.298360683878914\n"
     ]
    }
   ],
   "source": [
    "print('XBOX user score mean = ', data_xbox_one['user_score'].mean())\n",
    "print('PC user score mean = ', data_pc['user_score'].mean())"
   ]
  },
  {
   "cell_type": "markdown",
   "metadata": {},
   "source": [
    "### Conclusion on the first hypothesis\n",
    "The null hypothesis is confirmed, the average user ratings of the Xbox One and PC platforms are the same (differences do not exceed the specified alpha criterion of 5%)."
   ]
  },
  {
   "cell_type": "markdown",
   "metadata": {},
   "source": [
    "### Average user ratings for the Action and Sports genres are different\n",
    "\n",
    "Hypothesis H0: Average user ratings for Action and Sports are the same\n",
    "\n",
    "Hypothesis H1: The average user ratings of the Action and Sports genres are different"
   ]
  },
  {
   "cell_type": "code",
   "execution_count": 53,
   "metadata": {},
   "outputs": [],
   "source": [
    "H0 = 'Не можем отвергнуть гипотизу - cредние пользовательские рейтинги жанров Action и Sports одинаковы'\n",
    "H1 = 'Отвергаем нулевую гипотезу, cредние пользовательские рейтинги жанров Action и Sports различаются'\n",
    "\n",
    "data_action = data_actual.query('genre == \"Action\"')\n",
    "data_sports = data_actual.query('genre == \"Sports\"')"
   ]
  },
  {
   "cell_type": "code",
   "execution_count": 54,
   "metadata": {},
   "outputs": [
    {
     "data": {
      "text/plain": [
       "<AxesSubplot:>"
      ]
     },
     "execution_count": 54,
     "metadata": {},
     "output_type": "execute_result"
    },
    {
     "data": {
      "image/png": "[encoded data removed]",
      "text/plain": [
       "<Figure size 936x504 with 1 Axes>"
      ]
     },
     "metadata": {
      "needs_background": "light"
     },
     "output_type": "display_data"
    }
   ],
   "source": [
    "data_action['user_score'].hist(bins=22, alpha=0.8, figsize=(13,7))\n",
    "data_sports['user_score'].hist(bins=6, alpha=0.4, figsize=(13,7))"
   ]
  },
  {
   "cell_type": "code",
   "execution_count": 55,
   "metadata": {},
   "outputs": [
    {
     "name": "stdout",
     "output_type": "stream",
     "text": [
      "Action count = 297\n",
      "Sport count = 127\n"
     ]
    }
   ],
   "source": [
    "print('Action count =', data_action['user_score'].count())\n",
    "print('Sport count =', data_sports['user_score'].count())"
   ]
  },
  {
   "cell_type": "markdown",
   "metadata": {},
   "source": [
    "There are counts of data in two independent samples that are normally distributed (albeit slightly skewed to the left). The samples are not ultra-small and do not contain explicit outliers. Therefore, Student's T-test can be used."
   ]
  },
  {
   "cell_type": "code",
   "execution_count": 56,
   "metadata": {},
   "outputs": [
    {
     "name": "stdout",
     "output_type": "stream",
     "text": [
      "Не можем отвергнуть гипотизу - cредние пользовательские рейтинги жанров Action и Sports одинаковы\n"
     ]
    }
   ],
   "source": [
    "results = st.ttest_ind(data_action['user_score'], data_sports['user_score'], equal_var = False)\n",
    "\n",
    "if results.pvalue < alpha:\n",
    "    print(H1)\n",
    "else:\n",
    "    print(H0)"
   ]
  },
  {
   "cell_type": "code",
   "execution_count": 57,
   "metadata": {},
   "outputs": [
    {
     "name": "stdout",
     "output_type": "stream",
     "text": [
      "Action user score mean =  6.760606079390555\n",
      "Sports user score mean =  5.225196847882796\n"
     ]
    }
   ],
   "source": [
    "print('Action user score mean = ', data_action['user_score'].mean())\n",
    "print('Sports user score mean = ', data_sports['user_score'].mean())"
   ]
  },
  {
   "cell_type": "markdown",
   "metadata": {},
   "source": [
    "### Conclusion on the second hypothesis\n",
    "The null hypothesis was confirmed. Differences in the average rating of Action and Sport games do not differ (no more significant than the given alpha criterion of 5%)."
   ]
  },
  {
   "cell_type": "markdown",
   "metadata": {},
   "source": [
    "## Study Conclusions\n",
    "Data was obtained on sales of computer games in different regions. They took the following steps:\n",
    "1. Data exploration\n",
    "2. They were prepared, the missing values ​​were filled in, duplicates were removed and TBD was replaced with NAN so as not to delete 14% of the data.\n",
    "3. Conducted research data:\n",
    "\n",
    "Intermediate conclusions:\n",
    "    \n",
    "    The average life of the platform is 10 years, so data from 2006 was used for the study.\n",
    "    There are three platforms that you should pay special attention to - PS4, Xbox One, PC.\n",
    "    Critics' ratings have a greater impact on sales than user ratings.\n",
    "    The most profitable genres are shooters and sports games.\n",
    "    Separately, the preferences of each of the three regions represented (North America, Europe and Japan) were studied.\n",
    "    The most profitable region is North America, while Japan brings in the least money\n",
    "    At the same time, each region has its own leaders among platforms in terms of sales (In North America, this is X360; in Japan, Nintendo DS; in Europe, PS3)\n",
    "    The most versatile platform for everyone is PS3\n",
    "    Preferences for game genres in Europe and America are similar, while in Japan the popularity of role-playing and adventure games is higher and lower for shooters.\n",
    "    The most popular genre for each region can be considered Action.\n",
    "    In Japan, games with less adult ratings are preferred, while in Europe and America, games with adult ratings are slightly more preferred.\n",
    "\n",
    "4. Hypotheses were tested:\n",
    "    \n",
    "    The average user ratings of the Xbox One and PC platforms do not differ, as well as the average user ratings of the Action and Sports genres."
   ]
  },
  {
   "cell_type": "markdown",
   "metadata": {},
   "source": [
    "# Recommendations for planning an advertising campaign\n",
    "The purpose of the study was to identify patterns that affect the success of games, which will be used in the future when planning advertising campaigns.\n",
    "\n",
    "Based on research:\n",
    "\n",
    "1. Pay attention to shooter games and sports games. It is also worth highlighting the Action genre, as the most universal for all regions.\n",
    "2. The North American market is the most profitable, where they spend more money on games.\n",
    "3. At the same time, the preferences of residents of North America and Europe are similar, so advertising campaigns may be the same for the markets.\n",
    "4. Japan is a specific market with special preferences and lower sales income. Probably worth reducing the advertising budget in this direction.\n",
    "5. Among the platforms, the PS4 should be the most emphasized, as it is showing good growth and is relatively new. In addition, its predecessors PS2 and PS3 showed excellent financial results and leadership.\n",
    "6. In the North American market, it is worth focusing on two platforms at once - XOne and PS4.\n",
    "7. The remaining platforms bring less income, or their active period of work ends."
   ]
  },
  {
   "cell_type": "markdown",
   "metadata": {},
   "source": [
    "# Additional rating output\n",
    "<div class=\"alert alert-info\">\n",
    "In North America, games rated M (Mature) sell best. In Europe, the biggest spend on games with M (\"Mature\") and rating E (\"Men\"). In Japan, the situation is different, and T-rated (Teen) games sell better."
   ]
  }
 ],
 "metadata": {
  "ExecuteTimeLog": [
   {
    "duration": 479,
    "start_time": "2022-04-20T09:36:30.477Z"
   },
   {
    "duration": 57,
    "start_time": "2022-04-20T09:37:19.124Z"
   },
   {
    "duration": 52,
    "start_time": "2022-04-20T09:37:39.461Z"
   },
   {
    "duration": 37,
    "start_time": "2022-04-20T09:37:44.442Z"
   },
   {
    "duration": 4,
    "start_time": "2022-04-20T09:38:14.093Z"
   },
   {
    "duration": 6,
    "start_time": "2022-04-20T09:41:49.846Z"
   },
   {
    "duration": 5,
    "start_time": "2022-04-20T09:42:38.080Z"
   },
   {
    "duration": 3,
    "start_time": "2022-04-20T09:42:52.770Z"
   },
   {
    "duration": 50,
    "start_time": "2022-04-20T09:42:52.775Z"
   },
   {
    "duration": 21,
    "start_time": "2022-04-20T09:42:52.826Z"
   },
   {
    "duration": 9,
    "start_time": "2022-04-20T09:42:52.849Z"
   },
   {
    "duration": 11,
    "start_time": "2022-04-20T09:42:52.860Z"
   },
   {
    "duration": 20,
    "start_time": "2022-04-20T09:42:52.872Z"
   },
   {
    "duration": 6,
    "start_time": "2022-04-20T09:49:28.982Z"
   },
   {
    "duration": 5,
    "start_time": "2022-04-20T09:49:54.321Z"
   },
   {
    "duration": 13,
    "start_time": "2022-04-20T09:50:16.328Z"
   },
   {
    "duration": 11,
    "start_time": "2022-04-20T09:50:40.323Z"
   },
   {
    "duration": 10,
    "start_time": "2022-04-20T09:54:15.191Z"
   },
   {
    "duration": 5,
    "start_time": "2022-04-20T09:55:03.208Z"
   },
   {
    "duration": 8,
    "start_time": "2022-04-20T09:56:25.529Z"
   },
   {
    "duration": 71,
    "start_time": "2022-04-20T09:58:15.983Z"
   },
   {
    "duration": 7,
    "start_time": "2022-04-20T09:58:24.075Z"
   },
   {
    "duration": 5425,
    "start_time": "2022-04-20T09:58:26.112Z"
   },
   {
    "duration": 3,
    "start_time": "2022-04-20T10:01:54.843Z"
   },
   {
    "duration": 52,
    "start_time": "2022-04-20T10:01:54.847Z"
   },
   {
    "duration": 21,
    "start_time": "2022-04-20T10:01:54.901Z"
   },
   {
    "duration": 6,
    "start_time": "2022-04-20T10:01:54.924Z"
   },
   {
    "duration": 9,
    "start_time": "2022-04-20T10:01:54.932Z"
   },
   {
    "duration": 7,
    "start_time": "2022-04-20T10:01:54.943Z"
   },
   {
    "duration": 8,
    "start_time": "2022-04-20T10:01:54.952Z"
   },
   {
    "duration": 6,
    "start_time": "2022-04-20T10:01:54.962Z"
   },
   {
    "duration": 15,
    "start_time": "2022-04-20T10:01:54.993Z"
   },
   {
    "duration": 12,
    "start_time": "2022-04-20T10:01:55.010Z"
   },
   {
    "duration": 10,
    "start_time": "2022-04-20T10:01:55.024Z"
   },
   {
    "duration": 7,
    "start_time": "2022-04-20T10:01:55.035Z"
   },
   {
    "duration": 12,
    "start_time": "2022-04-20T10:01:55.044Z"
   },
   {
    "duration": 5529,
    "start_time": "2022-04-20T10:01:55.058Z"
   },
   {
    "duration": 3,
    "start_time": "2022-04-20T10:02:10.128Z"
   },
   {
    "duration": 51,
    "start_time": "2022-04-20T10:02:10.133Z"
   },
   {
    "duration": 20,
    "start_time": "2022-04-20T10:02:10.186Z"
   },
   {
    "duration": 6,
    "start_time": "2022-04-20T10:02:10.208Z"
   },
   {
    "duration": 12,
    "start_time": "2022-04-20T10:02:10.216Z"
   },
   {
    "duration": 5,
    "start_time": "2022-04-20T10:02:10.230Z"
   },
   {
    "duration": 6,
    "start_time": "2022-04-20T10:02:10.236Z"
   },
   {
    "duration": 5,
    "start_time": "2022-04-20T10:02:10.244Z"
   },
   {
    "duration": 15,
    "start_time": "2022-04-20T10:02:10.251Z"
   },
   {
    "duration": 7,
    "start_time": "2022-04-20T10:02:10.292Z"
   },
   {
    "duration": 9,
    "start_time": "2022-04-20T10:02:10.301Z"
   },
   {
    "duration": 9,
    "start_time": "2022-04-20T10:02:10.311Z"
   },
   {
    "duration": 10,
    "start_time": "2022-04-20T10:02:10.322Z"
   },
   {
    "duration": 5222,
    "start_time": "2022-04-20T10:02:10.335Z"
   },
   {
    "duration": 36,
    "start_time": "2022-04-20T10:02:49.148Z"
   },
   {
    "duration": 17,
    "start_time": "2022-04-20T10:03:05.078Z"
   },
   {
    "duration": 5,
    "start_time": "2022-04-20T10:03:38.962Z"
   },
   {
    "duration": 18,
    "start_time": "2022-04-20T10:04:55.148Z"
   },
   {
    "duration": 7,
    "start_time": "2022-04-20T10:20:20.963Z"
   },
   {
    "duration": 9,
    "start_time": "2022-04-20T10:21:16.121Z"
   },
   {
    "duration": 659,
    "start_time": "2022-04-20T10:21:36.090Z"
   },
   {
    "duration": 72,
    "start_time": "2022-04-20T10:21:36.752Z"
   },
   {
    "duration": 30,
    "start_time": "2022-04-20T10:21:36.826Z"
   },
   {
    "duration": 3,
    "start_time": "2022-04-20T10:21:36.859Z"
   },
   {
    "duration": 29,
    "start_time": "2022-04-20T10:21:36.865Z"
   },
   {
    "duration": 8,
    "start_time": "2022-04-20T10:21:36.896Z"
   },
   {
    "duration": 9,
    "start_time": "2022-04-20T10:21:36.905Z"
   },
   {
    "duration": 8,
    "start_time": "2022-04-20T10:21:36.916Z"
   },
   {
    "duration": 23,
    "start_time": "2022-04-20T10:21:36.926Z"
   },
   {
    "duration": 9,
    "start_time": "2022-04-20T10:21:36.951Z"
   },
   {
    "duration": 39,
    "start_time": "2022-04-20T10:21:36.962Z"
   },
   {
    "duration": 7,
    "start_time": "2022-04-20T10:21:37.004Z"
   },
   {
    "duration": 10,
    "start_time": "2022-04-20T10:21:37.012Z"
   },
   {
    "duration": 5675,
    "start_time": "2022-04-20T10:21:37.025Z"
   },
   {
    "duration": 40,
    "start_time": "2022-04-20T10:21:42.702Z"
   },
   {
    "duration": 19,
    "start_time": "2022-04-20T10:21:42.744Z"
   },
   {
    "duration": 28,
    "start_time": "2022-04-20T10:21:42.765Z"
   },
   {
    "duration": 19,
    "start_time": "2022-04-20T10:21:42.794Z"
   },
   {
    "duration": 9,
    "start_time": "2022-04-20T10:21:42.814Z"
   },
   {
    "duration": 11,
    "start_time": "2022-04-20T10:21:42.825Z"
   },
   {
    "duration": 214,
    "start_time": "2022-04-20T10:22:13.211Z"
   },
   {
    "duration": 194,
    "start_time": "2022-04-20T10:22:34.869Z"
   },
   {
    "duration": 612,
    "start_time": "2022-04-20T10:23:46.389Z"
   },
   {
    "duration": 136,
    "start_time": "2022-04-20T10:24:24.916Z"
   },
   {
    "duration": 547,
    "start_time": "2022-04-20T10:24:44.477Z"
   },
   {
    "duration": 5,
    "start_time": "2022-04-20T10:24:50.471Z"
   },
   {
    "duration": 4,
    "start_time": "2022-04-20T10:25:15.639Z"
   },
   {
    "duration": 6,
    "start_time": "2022-04-20T10:25:47.524Z"
   },
   {
    "duration": 10,
    "start_time": "2022-04-20T10:27:33.562Z"
   },
   {
    "duration": 413,
    "start_time": "2022-04-20T10:28:08.238Z"
   },
   {
    "duration": 402,
    "start_time": "2022-04-20T10:28:21.620Z"
   },
   {
    "duration": 2,
    "start_time": "2022-04-20T11:03:33.960Z"
   },
   {
    "duration": 51,
    "start_time": "2022-04-20T11:03:33.964Z"
   },
   {
    "duration": 21,
    "start_time": "2022-04-20T11:03:34.017Z"
   },
   {
    "duration": 4,
    "start_time": "2022-04-20T11:03:34.146Z"
   },
   {
    "duration": 12,
    "start_time": "2022-04-20T11:03:34.153Z"
   },
   {
    "duration": 7,
    "start_time": "2022-04-20T11:03:34.166Z"
   },
   {
    "duration": 6,
    "start_time": "2022-04-20T11:03:34.239Z"
   },
   {
    "duration": 11,
    "start_time": "2022-04-20T11:03:34.247Z"
   },
   {
    "duration": 15,
    "start_time": "2022-04-20T11:03:34.262Z"
   },
   {
    "duration": 10,
    "start_time": "2022-04-20T11:03:34.315Z"
   },
   {
    "duration": 14,
    "start_time": "2022-04-20T11:03:34.327Z"
   },
   {
    "duration": 5,
    "start_time": "2022-04-20T11:03:34.346Z"
   },
   {
    "duration": 9,
    "start_time": "2022-04-20T11:03:34.708Z"
   },
   {
    "duration": 8867,
    "start_time": "2022-04-20T11:03:34.720Z"
   },
   {
    "duration": 38,
    "start_time": "2022-04-20T11:03:43.593Z"
   },
   {
    "duration": 17,
    "start_time": "2022-04-20T11:03:43.633Z"
   },
   {
    "duration": 4,
    "start_time": "2022-04-20T11:03:43.652Z"
   },
   {
    "duration": 43,
    "start_time": "2022-04-20T11:03:43.658Z"
   },
   {
    "duration": 7,
    "start_time": "2022-04-20T11:03:43.703Z"
   },
   {
    "duration": 20,
    "start_time": "2022-04-20T11:03:43.713Z"
   },
   {
    "duration": 204,
    "start_time": "2022-04-20T11:03:43.736Z"
   },
   {
    "duration": 666,
    "start_time": "2022-04-20T11:03:43.943Z"
   },
   {
    "duration": 4,
    "start_time": "2022-04-20T11:03:44.612Z"
   },
   {
    "duration": 12,
    "start_time": "2022-04-20T11:03:44.617Z"
   },
   {
    "duration": 6,
    "start_time": "2022-04-20T11:03:44.631Z"
   },
   {
    "duration": 13,
    "start_time": "2022-04-20T11:03:44.639Z"
   },
   {
    "duration": 426,
    "start_time": "2022-04-20T11:03:44.653Z"
   },
   {
    "duration": 16,
    "start_time": "2022-04-20T11:04:33.464Z"
   },
   {
    "duration": 3,
    "start_time": "2022-04-20T11:06:25.060Z"
   },
   {
    "duration": 73,
    "start_time": "2022-04-20T11:06:25.065Z"
   },
   {
    "duration": 29,
    "start_time": "2022-04-20T11:06:25.141Z"
   },
   {
    "duration": 4,
    "start_time": "2022-04-20T11:06:25.193Z"
   },
   {
    "duration": 9,
    "start_time": "2022-04-20T11:06:25.198Z"
   },
   {
    "duration": 6,
    "start_time": "2022-04-20T11:06:25.209Z"
   },
   {
    "duration": 7,
    "start_time": "2022-04-20T11:06:25.216Z"
   },
   {
    "duration": 7,
    "start_time": "2022-04-20T11:06:25.225Z"
   },
   {
    "duration": 21,
    "start_time": "2022-04-20T11:06:25.235Z"
   },
   {
    "duration": 8,
    "start_time": "2022-04-20T11:06:25.258Z"
   },
   {
    "duration": 11,
    "start_time": "2022-04-20T11:06:25.293Z"
   },
   {
    "duration": 4,
    "start_time": "2022-04-20T11:06:25.306Z"
   },
   {
    "duration": 13,
    "start_time": "2022-04-20T11:06:25.313Z"
   },
   {
    "duration": 9358,
    "start_time": "2022-04-20T11:06:25.328Z"
   },
   {
    "duration": 59,
    "start_time": "2022-04-20T11:06:34.688Z"
   },
   {
    "duration": 46,
    "start_time": "2022-04-20T11:06:34.750Z"
   },
   {
    "duration": 5,
    "start_time": "2022-04-20T11:06:34.798Z"
   },
   {
    "duration": 28,
    "start_time": "2022-04-20T11:06:34.805Z"
   },
   {
    "duration": 7,
    "start_time": "2022-04-20T11:06:34.835Z"
   },
   {
    "duration": 13,
    "start_time": "2022-04-20T11:06:34.845Z"
   },
   {
    "duration": 241,
    "start_time": "2022-04-20T11:06:34.861Z"
   },
   {
    "duration": 701,
    "start_time": "2022-04-20T11:06:35.104Z"
   },
   {
    "duration": 4,
    "start_time": "2022-04-20T11:06:35.807Z"
   },
   {
    "duration": 8,
    "start_time": "2022-04-20T11:06:35.814Z"
   },
   {
    "duration": 11,
    "start_time": "2022-04-20T11:06:35.824Z"
   },
   {
    "duration": 12,
    "start_time": "2022-04-20T11:06:35.837Z"
   },
   {
    "duration": 433,
    "start_time": "2022-04-20T11:06:35.850Z"
   },
   {
    "duration": 18,
    "start_time": "2022-04-20T11:06:36.292Z"
   },
   {
    "duration": 307,
    "start_time": "2022-04-20T11:06:36.312Z"
   },
   {
    "duration": 239,
    "start_time": "2022-04-20T11:10:50.207Z"
   },
   {
    "duration": 286,
    "start_time": "2022-04-20T11:15:04.774Z"
   },
   {
    "duration": 10,
    "start_time": "2022-04-20T11:15:51.464Z"
   },
   {
    "duration": 284,
    "start_time": "2022-04-20T11:17:17.534Z"
   },
   {
    "duration": 10,
    "start_time": "2022-04-20T11:17:25.721Z"
   },
   {
    "duration": 80,
    "start_time": "2022-04-20T11:18:37.478Z"
   },
   {
    "duration": 230,
    "start_time": "2022-04-20T11:19:13.592Z"
   },
   {
    "duration": 6,
    "start_time": "2022-04-20T11:22:13.906Z"
   },
   {
    "duration": 332,
    "start_time": "2022-04-20T11:22:33.335Z"
   },
   {
    "duration": 9,
    "start_time": "2022-04-20T11:23:12.535Z"
   },
   {
    "duration": 9,
    "start_time": "2022-04-20T11:23:55.205Z"
   },
   {
    "duration": 357,
    "start_time": "2022-04-20T11:24:35.238Z"
   },
   {
    "duration": 2,
    "start_time": "2022-04-20T11:26:59.900Z"
   },
   {
    "duration": 53,
    "start_time": "2022-04-20T11:26:59.905Z"
   },
   {
    "duration": 40,
    "start_time": "2022-04-20T11:26:59.960Z"
   },
   {
    "duration": 10,
    "start_time": "2022-04-20T11:27:00.002Z"
   },
   {
    "duration": 12,
    "start_time": "2022-04-20T11:27:00.014Z"
   },
   {
    "duration": 21,
    "start_time": "2022-04-20T11:27:00.028Z"
   },
   {
    "duration": 7,
    "start_time": "2022-04-20T11:27:00.051Z"
   },
   {
    "duration": 6,
    "start_time": "2022-04-20T11:27:00.059Z"
   },
   {
    "duration": 34,
    "start_time": "2022-04-20T11:27:00.067Z"
   },
   {
    "duration": 13,
    "start_time": "2022-04-20T11:27:00.103Z"
   },
   {
    "duration": 9,
    "start_time": "2022-04-20T11:27:00.118Z"
   },
   {
    "duration": 11,
    "start_time": "2022-04-20T11:27:00.129Z"
   },
   {
    "duration": 152,
    "start_time": "2022-04-20T11:27:00.142Z"
   },
   {
    "duration": 5401,
    "start_time": "2022-04-20T11:27:00.298Z"
   },
   {
    "duration": 38,
    "start_time": "2022-04-20T11:27:05.701Z"
   },
   {
    "duration": 17,
    "start_time": "2022-04-20T11:27:05.741Z"
   },
   {
    "duration": 3,
    "start_time": "2022-04-20T11:27:05.760Z"
   },
   {
    "duration": 44,
    "start_time": "2022-04-20T11:27:05.765Z"
   },
   {
    "duration": 7,
    "start_time": "2022-04-20T11:27:05.811Z"
   },
   {
    "duration": 19,
    "start_time": "2022-04-20T11:27:05.820Z"
   },
   {
    "duration": 225,
    "start_time": "2022-04-20T11:27:05.842Z"
   },
   {
    "duration": 571,
    "start_time": "2022-04-20T11:27:06.070Z"
   },
   {
    "duration": 5,
    "start_time": "2022-04-20T11:27:06.643Z"
   },
   {
    "duration": 10,
    "start_time": "2022-04-20T11:27:06.650Z"
   },
   {
    "duration": 6,
    "start_time": "2022-04-20T11:27:06.662Z"
   },
   {
    "duration": 11,
    "start_time": "2022-04-20T11:27:06.692Z"
   },
   {
    "duration": 413,
    "start_time": "2022-04-20T11:27:06.705Z"
   },
   {
    "duration": 18,
    "start_time": "2022-04-20T11:27:07.120Z"
   },
   {
    "duration": 322,
    "start_time": "2022-04-20T11:27:07.140Z"
   },
   {
    "duration": 258,
    "start_time": "2022-04-20T11:27:07.464Z"
   },
   {
    "duration": 301,
    "start_time": "2022-04-20T11:27:07.725Z"
   },
   {
    "duration": 11,
    "start_time": "2022-04-20T11:27:08.028Z"
   },
   {
    "duration": 120,
    "start_time": "2022-04-20T11:27:08.041Z"
   },
   {
    "duration": 324,
    "start_time": "2022-04-20T11:27:08.163Z"
   },
   {
    "duration": 7,
    "start_time": "2022-04-20T11:27:08.492Z"
   },
   {
    "duration": 234,
    "start_time": "2022-04-20T11:27:08.502Z"
   },
   {
    "duration": 9,
    "start_time": "2022-04-20T11:27:08.738Z"
   },
   {
    "duration": 12,
    "start_time": "2022-04-20T11:27:08.748Z"
   },
   {
    "duration": 373,
    "start_time": "2022-04-20T11:27:08.762Z"
   },
   {
    "duration": 261,
    "start_time": "2022-04-20T11:29:58.166Z"
   },
   {
    "duration": 14,
    "start_time": "2022-04-20T11:35:28.619Z"
   },
   {
    "duration": 235,
    "start_time": "2022-04-20T11:35:45.422Z"
   },
   {
    "duration": 402,
    "start_time": "2022-04-20T11:42:46.941Z"
   },
   {
    "duration": 239,
    "start_time": "2022-04-20T11:43:21.533Z"
   },
   {
    "duration": 13,
    "start_time": "2022-04-20T11:53:59.642Z"
   },
   {
    "duration": 10,
    "start_time": "2022-04-20T11:54:11.756Z"
   },
   {
    "duration": 446,
    "start_time": "2022-04-20T11:57:01.333Z"
   },
   {
    "duration": 49,
    "start_time": "2022-04-20T11:57:01.782Z"
   },
   {
    "duration": 21,
    "start_time": "2022-04-20T11:57:01.833Z"
   },
   {
    "duration": 4,
    "start_time": "2022-04-20T11:57:01.856Z"
   },
   {
    "duration": 33,
    "start_time": "2022-04-20T11:57:01.861Z"
   },
   {
    "duration": 5,
    "start_time": "2022-04-20T11:57:01.895Z"
   },
   {
    "duration": 12,
    "start_time": "2022-04-20T11:57:01.902Z"
   },
   {
    "duration": 9,
    "start_time": "2022-04-20T11:57:01.916Z"
   },
   {
    "duration": 31,
    "start_time": "2022-04-20T11:57:01.927Z"
   },
   {
    "duration": 29,
    "start_time": "2022-04-20T11:57:01.961Z"
   },
   {
    "duration": 29,
    "start_time": "2022-04-20T11:57:01.992Z"
   },
   {
    "duration": 71,
    "start_time": "2022-04-20T11:57:02.023Z"
   },
   {
    "duration": 41,
    "start_time": "2022-04-20T11:57:02.096Z"
   },
   {
    "duration": 5416,
    "start_time": "2022-04-20T11:57:02.139Z"
   },
   {
    "duration": 48,
    "start_time": "2022-04-20T11:57:07.557Z"
   },
   {
    "duration": 16,
    "start_time": "2022-04-20T11:57:07.607Z"
   },
   {
    "duration": 4,
    "start_time": "2022-04-20T11:57:07.625Z"
   },
   {
    "duration": 19,
    "start_time": "2022-04-20T11:57:07.630Z"
   },
   {
    "duration": 6,
    "start_time": "2022-04-20T11:57:07.651Z"
   },
   {
    "duration": 36,
    "start_time": "2022-04-20T11:57:07.658Z"
   },
   {
    "duration": 203,
    "start_time": "2022-04-20T11:57:07.696Z"
   },
   {
    "duration": 555,
    "start_time": "2022-04-20T11:57:07.901Z"
   },
   {
    "duration": 5,
    "start_time": "2022-04-20T11:57:08.458Z"
   },
   {
    "duration": 8,
    "start_time": "2022-04-20T11:57:08.465Z"
   },
   {
    "duration": 21,
    "start_time": "2022-04-20T11:57:08.475Z"
   },
   {
    "duration": 15,
    "start_time": "2022-04-20T11:57:08.498Z"
   },
   {
    "duration": 409,
    "start_time": "2022-04-20T11:57:08.515Z"
   },
   {
    "duration": 18,
    "start_time": "2022-04-20T11:57:08.928Z"
   },
   {
    "duration": 304,
    "start_time": "2022-04-20T11:57:08.948Z"
   },
   {
    "duration": 249,
    "start_time": "2022-04-20T11:57:09.254Z"
   },
   {
    "duration": 287,
    "start_time": "2022-04-20T11:57:09.505Z"
   },
   {
    "duration": 11,
    "start_time": "2022-04-20T11:57:09.794Z"
   },
   {
    "duration": 97,
    "start_time": "2022-04-20T11:57:09.808Z"
   },
   {
    "duration": 225,
    "start_time": "2022-04-20T11:57:09.908Z"
   },
   {
    "duration": 6,
    "start_time": "2022-04-20T11:57:10.136Z"
   },
   {
    "duration": 229,
    "start_time": "2022-04-20T11:57:10.144Z"
   },
   {
    "duration": 19,
    "start_time": "2022-04-20T11:57:10.375Z"
   },
   {
    "duration": 9,
    "start_time": "2022-04-20T11:57:10.396Z"
   },
   {
    "duration": 478,
    "start_time": "2022-04-20T11:57:10.407Z"
   },
   {
    "duration": 276,
    "start_time": "2022-04-20T11:57:10.887Z"
   },
   {
    "duration": 260,
    "start_time": "2022-04-20T11:57:11.165Z"
   },
   {
    "duration": 246,
    "start_time": "2022-04-20T11:57:11.427Z"
   },
   {
    "duration": 246,
    "start_time": "2022-04-20T11:57:11.675Z"
   },
   {
    "duration": 13,
    "start_time": "2022-04-20T11:57:11.923Z"
   },
   {
    "duration": 27,
    "start_time": "2022-04-20T11:57:11.937Z"
   },
   {
    "duration": 9,
    "start_time": "2022-04-20T11:57:37.658Z"
   },
   {
    "duration": 198,
    "start_time": "2022-04-20T11:58:11.736Z"
   },
   {
    "duration": 10,
    "start_time": "2022-04-20T11:58:44.274Z"
   },
   {
    "duration": 36,
    "start_time": "2022-04-20T11:58:55.433Z"
   },
   {
    "duration": 4,
    "start_time": "2022-04-20T11:59:04.952Z"
   },
   {
    "duration": 5,
    "start_time": "2022-04-20T12:00:53.200Z"
   },
   {
    "duration": 5,
    "start_time": "2022-04-20T12:01:10.411Z"
   },
   {
    "duration": 8,
    "start_time": "2022-04-20T12:04:18.354Z"
   },
   {
    "duration": 177,
    "start_time": "2022-04-20T12:04:50.785Z"
   },
   {
    "duration": 166,
    "start_time": "2022-04-20T12:04:58.921Z"
   },
   {
    "duration": 5,
    "start_time": "2022-04-20T12:06:06.462Z"
   },
   {
    "duration": 4,
    "start_time": "2022-04-20T12:07:00.509Z"
   },
   {
    "duration": 5,
    "start_time": "2022-04-20T12:07:08.882Z"
   },
   {
    "duration": 3,
    "start_time": "2022-04-20T12:23:59.661Z"
   },
   {
    "duration": 55,
    "start_time": "2022-04-20T12:23:59.667Z"
   },
   {
    "duration": 20,
    "start_time": "2022-04-20T12:23:59.724Z"
   },
   {
    "duration": 4,
    "start_time": "2022-04-20T12:23:59.746Z"
   },
   {
    "duration": 4,
    "start_time": "2022-04-20T12:23:59.752Z"
   },
   {
    "duration": 6,
    "start_time": "2022-04-20T12:23:59.758Z"
   },
   {
    "duration": 29,
    "start_time": "2022-04-20T12:23:59.765Z"
   },
   {
    "duration": 6,
    "start_time": "2022-04-20T12:23:59.795Z"
   },
   {
    "duration": 14,
    "start_time": "2022-04-20T12:23:59.802Z"
   },
   {
    "duration": 8,
    "start_time": "2022-04-20T12:23:59.818Z"
   },
   {
    "duration": 9,
    "start_time": "2022-04-20T12:23:59.827Z"
   },
   {
    "duration": 7,
    "start_time": "2022-04-20T12:23:59.838Z"
   },
   {
    "duration": 14,
    "start_time": "2022-04-20T12:23:59.847Z"
   },
   {
    "duration": 5550,
    "start_time": "2022-04-20T12:23:59.862Z"
   },
   {
    "duration": 38,
    "start_time": "2022-04-20T12:24:05.416Z"
   },
   {
    "duration": 16,
    "start_time": "2022-04-20T12:24:05.456Z"
   },
   {
    "duration": 25,
    "start_time": "2022-04-20T12:24:05.474Z"
   },
   {
    "duration": 23,
    "start_time": "2022-04-20T12:24:05.501Z"
   },
   {
    "duration": 5,
    "start_time": "2022-04-20T12:24:05.526Z"
   },
   {
    "duration": 13,
    "start_time": "2022-04-20T12:24:05.533Z"
   },
   {
    "duration": 225,
    "start_time": "2022-04-20T12:24:05.548Z"
   },
   {
    "duration": 571,
    "start_time": "2022-04-20T12:24:05.775Z"
   },
   {
    "duration": 4,
    "start_time": "2022-04-20T12:24:06.348Z"
   },
   {
    "duration": 6,
    "start_time": "2022-04-20T12:24:06.354Z"
   },
   {
    "duration": 7,
    "start_time": "2022-04-20T12:24:06.364Z"
   },
   {
    "duration": 28,
    "start_time": "2022-04-20T12:24:06.373Z"
   },
   {
    "duration": 1311,
    "start_time": "2022-04-28T10:52:01.876Z"
   },
   {
    "duration": 66,
    "start_time": "2022-04-28T10:52:03.189Z"
   },
   {
    "duration": 24,
    "start_time": "2022-04-28T10:52:03.257Z"
   },
   {
    "duration": 4,
    "start_time": "2022-04-28T10:52:03.284Z"
   },
   {
    "duration": 6,
    "start_time": "2022-04-28T10:52:03.290Z"
   },
   {
    "duration": 30,
    "start_time": "2022-04-28T10:52:03.298Z"
   },
   {
    "duration": 6,
    "start_time": "2022-04-28T10:52:03.330Z"
   },
   {
    "duration": 5,
    "start_time": "2022-04-28T10:52:03.338Z"
   },
   {
    "duration": 13,
    "start_time": "2022-04-28T10:52:03.345Z"
   },
   {
    "duration": 9,
    "start_time": "2022-04-28T10:52:03.361Z"
   },
   {
    "duration": 9,
    "start_time": "2022-04-28T10:52:03.371Z"
   },
   {
    "duration": 44,
    "start_time": "2022-04-28T10:52:03.382Z"
   },
   {
    "duration": 7,
    "start_time": "2022-04-28T10:52:03.428Z"
   },
   {
    "duration": 5217,
    "start_time": "2022-04-28T10:52:03.437Z"
   },
   {
    "duration": 0,
    "start_time": "2022-04-28T10:52:08.657Z"
   },
   {
    "duration": 0,
    "start_time": "2022-04-28T10:52:08.658Z"
   },
   {
    "duration": 0,
    "start_time": "2022-04-28T10:52:08.659Z"
   },
   {
    "duration": 0,
    "start_time": "2022-04-28T10:52:08.660Z"
   },
   {
    "duration": 0,
    "start_time": "2022-04-28T10:52:08.661Z"
   },
   {
    "duration": 0,
    "start_time": "2022-04-28T10:52:08.662Z"
   },
   {
    "duration": 0,
    "start_time": "2022-04-28T10:52:08.663Z"
   },
   {
    "duration": 0,
    "start_time": "2022-04-28T10:52:08.664Z"
   },
   {
    "duration": 0,
    "start_time": "2022-04-28T10:52:08.665Z"
   },
   {
    "duration": 0,
    "start_time": "2022-04-28T10:52:08.666Z"
   },
   {
    "duration": 0,
    "start_time": "2022-04-28T10:52:08.668Z"
   },
   {
    "duration": 0,
    "start_time": "2022-04-28T10:52:08.669Z"
   },
   {
    "duration": 0,
    "start_time": "2022-04-28T10:52:08.670Z"
   },
   {
    "duration": 0,
    "start_time": "2022-04-28T10:52:08.671Z"
   },
   {
    "duration": 0,
    "start_time": "2022-04-28T10:52:08.672Z"
   },
   {
    "duration": 0,
    "start_time": "2022-04-28T10:52:08.673Z"
   },
   {
    "duration": 0,
    "start_time": "2022-04-28T10:52:08.674Z"
   },
   {
    "duration": 0,
    "start_time": "2022-04-28T10:52:08.675Z"
   },
   {
    "duration": 0,
    "start_time": "2022-04-28T10:52:08.676Z"
   },
   {
    "duration": 0,
    "start_time": "2022-04-28T10:52:08.677Z"
   },
   {
    "duration": 1,
    "start_time": "2022-04-28T10:52:08.678Z"
   },
   {
    "duration": 0,
    "start_time": "2022-04-28T10:52:08.680Z"
   },
   {
    "duration": 0,
    "start_time": "2022-04-28T10:52:08.680Z"
   },
   {
    "duration": 0,
    "start_time": "2022-04-28T10:52:08.724Z"
   },
   {
    "duration": 0,
    "start_time": "2022-04-28T10:52:08.725Z"
   },
   {
    "duration": 0,
    "start_time": "2022-04-28T10:52:08.727Z"
   },
   {
    "duration": 0,
    "start_time": "2022-04-28T10:52:08.728Z"
   },
   {
    "duration": 0,
    "start_time": "2022-04-28T10:52:08.729Z"
   },
   {
    "duration": 0,
    "start_time": "2022-04-28T10:52:08.730Z"
   },
   {
    "duration": 0,
    "start_time": "2022-04-28T10:52:08.731Z"
   },
   {
    "duration": 0,
    "start_time": "2022-04-28T10:52:08.732Z"
   },
   {
    "duration": 0,
    "start_time": "2022-04-28T10:52:08.733Z"
   },
   {
    "duration": 0,
    "start_time": "2022-04-28T10:52:08.734Z"
   },
   {
    "duration": 0,
    "start_time": "2022-04-28T10:52:08.737Z"
   },
   {
    "duration": 0,
    "start_time": "2022-04-28T10:52:08.738Z"
   },
   {
    "duration": 0,
    "start_time": "2022-04-28T10:52:08.739Z"
   },
   {
    "duration": 0,
    "start_time": "2022-04-28T10:52:08.740Z"
   },
   {
    "duration": 0,
    "start_time": "2022-04-28T10:52:08.742Z"
   },
   {
    "duration": 0,
    "start_time": "2022-04-28T10:52:08.743Z"
   },
   {
    "duration": 0,
    "start_time": "2022-04-28T10:52:08.744Z"
   },
   {
    "duration": 0,
    "start_time": "2022-04-28T10:52:08.745Z"
   },
   {
    "duration": 3985,
    "start_time": "2022-04-28T10:52:34.763Z"
   },
   {
    "duration": 0,
    "start_time": "2022-04-28T10:52:38.751Z"
   },
   {
    "duration": 0,
    "start_time": "2022-04-28T10:52:38.753Z"
   },
   {
    "duration": 0,
    "start_time": "2022-04-28T10:52:38.754Z"
   },
   {
    "duration": 1,
    "start_time": "2022-04-28T10:52:38.755Z"
   },
   {
    "duration": 0,
    "start_time": "2022-04-28T10:52:38.758Z"
   },
   {
    "duration": 0,
    "start_time": "2022-04-28T10:52:38.759Z"
   },
   {
    "duration": 0,
    "start_time": "2022-04-28T10:52:38.760Z"
   },
   {
    "duration": 0,
    "start_time": "2022-04-28T10:52:38.762Z"
   },
   {
    "duration": 0,
    "start_time": "2022-04-28T10:52:38.763Z"
   },
   {
    "duration": 0,
    "start_time": "2022-04-28T10:52:38.765Z"
   },
   {
    "duration": 0,
    "start_time": "2022-04-28T10:52:38.766Z"
   },
   {
    "duration": 0,
    "start_time": "2022-04-28T10:52:38.767Z"
   },
   {
    "duration": 0,
    "start_time": "2022-04-28T10:52:38.769Z"
   },
   {
    "duration": 0,
    "start_time": "2022-04-28T10:52:38.770Z"
   },
   {
    "duration": 0,
    "start_time": "2022-04-28T10:52:38.771Z"
   },
   {
    "duration": 0,
    "start_time": "2022-04-28T10:52:38.772Z"
   },
   {
    "duration": 0,
    "start_time": "2022-04-28T10:52:38.774Z"
   },
   {
    "duration": 0,
    "start_time": "2022-04-28T10:52:38.775Z"
   },
   {
    "duration": 0,
    "start_time": "2022-04-28T10:52:38.776Z"
   },
   {
    "duration": 0,
    "start_time": "2022-04-28T10:52:38.778Z"
   },
   {
    "duration": 0,
    "start_time": "2022-04-28T10:52:38.779Z"
   },
   {
    "duration": 0,
    "start_time": "2022-04-28T10:52:38.780Z"
   },
   {
    "duration": 0,
    "start_time": "2022-04-28T10:52:38.824Z"
   },
   {
    "duration": 0,
    "start_time": "2022-04-28T10:52:38.826Z"
   },
   {
    "duration": 0,
    "start_time": "2022-04-28T10:52:38.828Z"
   },
   {
    "duration": 0,
    "start_time": "2022-04-28T10:52:38.829Z"
   },
   {
    "duration": 0,
    "start_time": "2022-04-28T10:52:38.831Z"
   },
   {
    "duration": 0,
    "start_time": "2022-04-28T10:52:38.832Z"
   },
   {
    "duration": 0,
    "start_time": "2022-04-28T10:52:38.833Z"
   },
   {
    "duration": 0,
    "start_time": "2022-04-28T10:52:38.835Z"
   },
   {
    "duration": 0,
    "start_time": "2022-04-28T10:52:38.836Z"
   },
   {
    "duration": 0,
    "start_time": "2022-04-28T10:52:38.837Z"
   },
   {
    "duration": 0,
    "start_time": "2022-04-28T10:52:38.839Z"
   },
   {
    "duration": 0,
    "start_time": "2022-04-28T10:52:38.840Z"
   },
   {
    "duration": 0,
    "start_time": "2022-04-28T10:52:38.842Z"
   },
   {
    "duration": 0,
    "start_time": "2022-04-28T10:52:38.843Z"
   },
   {
    "duration": 0,
    "start_time": "2022-04-28T10:52:38.844Z"
   },
   {
    "duration": 0,
    "start_time": "2022-04-28T10:52:38.846Z"
   },
   {
    "duration": 0,
    "start_time": "2022-04-28T10:52:38.848Z"
   },
   {
    "duration": 0,
    "start_time": "2022-04-28T10:52:38.849Z"
   },
   {
    "duration": 0,
    "start_time": "2022-04-28T10:52:38.850Z"
   },
   {
    "duration": 34,
    "start_time": "2022-04-28T10:52:59.743Z"
   },
   {
    "duration": 17,
    "start_time": "2022-04-28T10:53:00.737Z"
   },
   {
    "duration": 5,
    "start_time": "2022-04-28T10:53:01.563Z"
   },
   {
    "duration": 18,
    "start_time": "2022-04-28T10:53:02.107Z"
   },
   {
    "duration": 6,
    "start_time": "2022-04-28T10:53:06.854Z"
   },
   {
    "duration": 10,
    "start_time": "2022-04-28T10:53:06.863Z"
   },
   {
    "duration": 210,
    "start_time": "2022-04-28T10:53:06.874Z"
   },
   {
    "duration": 538,
    "start_time": "2022-04-28T10:53:07.085Z"
   },
   {
    "duration": 5,
    "start_time": "2022-04-28T10:53:07.626Z"
   },
   {
    "duration": 10,
    "start_time": "2022-04-28T10:53:07.633Z"
   },
   {
    "duration": 9,
    "start_time": "2022-04-28T10:53:07.645Z"
   },
   {
    "duration": 14,
    "start_time": "2022-04-28T10:53:07.656Z"
   },
   {
    "duration": 406,
    "start_time": "2022-04-28T10:53:07.672Z"
   },
   {
    "duration": 18,
    "start_time": "2022-04-28T10:53:08.080Z"
   },
   {
    "duration": 291,
    "start_time": "2022-04-28T10:53:08.100Z"
   },
   {
    "duration": 230,
    "start_time": "2022-04-28T10:53:08.393Z"
   },
   {
    "duration": 169,
    "start_time": "2022-04-28T10:53:08.625Z"
   },
   {
    "duration": 0,
    "start_time": "2022-04-28T10:53:08.796Z"
   },
   {
    "duration": 0,
    "start_time": "2022-04-28T10:53:08.797Z"
   },
   {
    "duration": 0,
    "start_time": "2022-04-28T10:53:08.798Z"
   },
   {
    "duration": 0,
    "start_time": "2022-04-28T10:53:08.799Z"
   },
   {
    "duration": 0,
    "start_time": "2022-04-28T10:53:08.800Z"
   },
   {
    "duration": 0,
    "start_time": "2022-04-28T10:53:08.801Z"
   },
   {
    "duration": 0,
    "start_time": "2022-04-28T10:53:08.802Z"
   },
   {
    "duration": 0,
    "start_time": "2022-04-28T10:53:08.803Z"
   },
   {
    "duration": 0,
    "start_time": "2022-04-28T10:53:08.804Z"
   },
   {
    "duration": 0,
    "start_time": "2022-04-28T10:53:08.805Z"
   },
   {
    "duration": 0,
    "start_time": "2022-04-28T10:53:08.806Z"
   },
   {
    "duration": 0,
    "start_time": "2022-04-28T10:53:08.807Z"
   },
   {
    "duration": 0,
    "start_time": "2022-04-28T10:53:08.824Z"
   },
   {
    "duration": 0,
    "start_time": "2022-04-28T10:53:08.825Z"
   },
   {
    "duration": 0,
    "start_time": "2022-04-28T10:53:08.826Z"
   },
   {
    "duration": 0,
    "start_time": "2022-04-28T10:53:08.827Z"
   },
   {
    "duration": 0,
    "start_time": "2022-04-28T10:53:08.908Z"
   },
   {
    "duration": 0,
    "start_time": "2022-04-28T10:53:08.909Z"
   },
   {
    "duration": 0,
    "start_time": "2022-04-28T10:53:08.924Z"
   },
   {
    "duration": 0,
    "start_time": "2022-04-28T10:53:08.925Z"
   },
   {
    "duration": 0,
    "start_time": "2022-04-28T10:53:08.926Z"
   },
   {
    "duration": 0,
    "start_time": "2022-04-28T10:53:08.927Z"
   },
   {
    "duration": 0,
    "start_time": "2022-04-28T10:53:08.928Z"
   },
   {
    "duration": 0,
    "start_time": "2022-04-28T10:53:08.929Z"
   },
   {
    "duration": 9,
    "start_time": "2022-04-28T10:53:39.770Z"
   },
   {
    "duration": 80,
    "start_time": "2022-04-28T10:53:39.784Z"
   },
   {
    "duration": 206,
    "start_time": "2022-04-28T10:53:39.867Z"
   },
   {
    "duration": 6,
    "start_time": "2022-04-28T10:53:40.076Z"
   },
   {
    "duration": 211,
    "start_time": "2022-04-28T10:53:40.083Z"
   },
   {
    "duration": 7,
    "start_time": "2022-04-28T10:53:40.297Z"
   },
   {
    "duration": 30,
    "start_time": "2022-04-28T10:53:40.306Z"
   },
   {
    "duration": 238,
    "start_time": "2022-04-28T10:53:40.338Z"
   },
   {
    "duration": 230,
    "start_time": "2022-04-28T10:53:40.578Z"
   },
   {
    "duration": 235,
    "start_time": "2022-04-28T10:53:40.809Z"
   },
   {
    "duration": 234,
    "start_time": "2022-04-28T10:53:41.046Z"
   },
   {
    "duration": 224,
    "start_time": "2022-04-28T10:53:41.282Z"
   },
   {
    "duration": 21,
    "start_time": "2022-04-28T10:53:41.508Z"
   },
   {
    "duration": 15,
    "start_time": "2022-04-28T10:53:41.531Z"
   },
   {
    "duration": 8,
    "start_time": "2022-04-28T10:53:41.548Z"
   },
   {
    "duration": 197,
    "start_time": "2022-04-28T10:53:41.557Z"
   },
   {
    "duration": 4,
    "start_time": "2022-04-28T10:53:41.756Z"
   },
   {
    "duration": 7,
    "start_time": "2022-04-28T10:53:41.762Z"
   },
   {
    "duration": 9,
    "start_time": "2022-04-28T10:53:41.771Z"
   },
   {
    "duration": 9,
    "start_time": "2022-04-28T10:53:41.782Z"
   },
   {
    "duration": 179,
    "start_time": "2022-04-28T10:53:41.792Z"
   },
   {
    "duration": 4,
    "start_time": "2022-04-28T10:53:41.973Z"
   },
   {
    "duration": 10,
    "start_time": "2022-04-28T10:53:41.979Z"
   },
   {
    "duration": 10,
    "start_time": "2022-04-28T10:53:41.990Z"
   },
   {
    "duration": 1164,
    "start_time": "2022-04-28T10:55:14.807Z"
   },
   {
    "duration": 46,
    "start_time": "2022-04-28T10:55:15.973Z"
   },
   {
    "duration": 25,
    "start_time": "2022-04-28T10:55:16.020Z"
   },
   {
    "duration": 3,
    "start_time": "2022-04-28T10:55:16.046Z"
   },
   {
    "duration": 10,
    "start_time": "2022-04-28T10:55:16.052Z"
   },
   {
    "duration": 11,
    "start_time": "2022-04-28T10:55:16.063Z"
   },
   {
    "duration": 9,
    "start_time": "2022-04-28T10:55:16.076Z"
   },
   {
    "duration": 14,
    "start_time": "2022-04-28T10:55:16.086Z"
   },
   {
    "duration": 29,
    "start_time": "2022-04-28T10:55:16.101Z"
   },
   {
    "duration": 23,
    "start_time": "2022-04-28T10:55:16.132Z"
   },
   {
    "duration": 11,
    "start_time": "2022-04-28T10:55:16.157Z"
   },
   {
    "duration": 9,
    "start_time": "2022-04-28T10:55:16.169Z"
   },
   {
    "duration": 11,
    "start_time": "2022-04-28T10:55:16.180Z"
   },
   {
    "duration": 5135,
    "start_time": "2022-04-28T10:55:16.197Z"
   },
   {
    "duration": 0,
    "start_time": "2022-04-28T10:55:21.334Z"
   },
   {
    "duration": 0,
    "start_time": "2022-04-28T10:55:21.335Z"
   },
   {
    "duration": 0,
    "start_time": "2022-04-28T10:55:21.336Z"
   },
   {
    "duration": 0,
    "start_time": "2022-04-28T10:55:21.337Z"
   },
   {
    "duration": 0,
    "start_time": "2022-04-28T10:55:21.338Z"
   },
   {
    "duration": 0,
    "start_time": "2022-04-28T10:55:21.339Z"
   },
   {
    "duration": 0,
    "start_time": "2022-04-28T10:55:21.340Z"
   },
   {
    "duration": 0,
    "start_time": "2022-04-28T10:55:21.341Z"
   },
   {
    "duration": 0,
    "start_time": "2022-04-28T10:55:21.342Z"
   },
   {
    "duration": 0,
    "start_time": "2022-04-28T10:55:21.343Z"
   },
   {
    "duration": 0,
    "start_time": "2022-04-28T10:55:21.344Z"
   },
   {
    "duration": 0,
    "start_time": "2022-04-28T10:55:21.345Z"
   },
   {
    "duration": 0,
    "start_time": "2022-04-28T10:55:21.346Z"
   },
   {
    "duration": 0,
    "start_time": "2022-04-28T10:55:21.347Z"
   },
   {
    "duration": 0,
    "start_time": "2022-04-28T10:55:21.348Z"
   },
   {
    "duration": 0,
    "start_time": "2022-04-28T10:55:21.349Z"
   },
   {
    "duration": 0,
    "start_time": "2022-04-28T10:55:21.350Z"
   },
   {
    "duration": 0,
    "start_time": "2022-04-28T10:55:21.351Z"
   },
   {
    "duration": 0,
    "start_time": "2022-04-28T10:55:21.352Z"
   },
   {
    "duration": 0,
    "start_time": "2022-04-28T10:55:21.353Z"
   },
   {
    "duration": 0,
    "start_time": "2022-04-28T10:55:21.354Z"
   },
   {
    "duration": 0,
    "start_time": "2022-04-28T10:55:21.355Z"
   },
   {
    "duration": 0,
    "start_time": "2022-04-28T10:55:21.356Z"
   },
   {
    "duration": 0,
    "start_time": "2022-04-28T10:55:21.357Z"
   },
   {
    "duration": 0,
    "start_time": "2022-04-28T10:55:21.359Z"
   },
   {
    "duration": 0,
    "start_time": "2022-04-28T10:55:21.360Z"
   },
   {
    "duration": 0,
    "start_time": "2022-04-28T10:55:21.361Z"
   },
   {
    "duration": 0,
    "start_time": "2022-04-28T10:55:21.363Z"
   },
   {
    "duration": 0,
    "start_time": "2022-04-28T10:55:21.364Z"
   },
   {
    "duration": 0,
    "start_time": "2022-04-28T10:55:21.365Z"
   },
   {
    "duration": 0,
    "start_time": "2022-04-28T10:55:21.367Z"
   },
   {
    "duration": 0,
    "start_time": "2022-04-28T10:55:21.368Z"
   },
   {
    "duration": 0,
    "start_time": "2022-04-28T10:55:21.369Z"
   },
   {
    "duration": 0,
    "start_time": "2022-04-28T10:55:21.371Z"
   },
   {
    "duration": 0,
    "start_time": "2022-04-28T10:55:21.372Z"
   },
   {
    "duration": 0,
    "start_time": "2022-04-28T10:55:21.373Z"
   },
   {
    "duration": 0,
    "start_time": "2022-04-28T10:55:21.375Z"
   },
   {
    "duration": 0,
    "start_time": "2022-04-28T10:55:21.376Z"
   },
   {
    "duration": 0,
    "start_time": "2022-04-28T10:55:21.378Z"
   },
   {
    "duration": 0,
    "start_time": "2022-04-28T10:55:21.379Z"
   },
   {
    "duration": 0,
    "start_time": "2022-04-28T10:55:21.380Z"
   },
   {
    "duration": 1500,
    "start_time": "2022-04-28T11:02:05.587Z"
   },
   {
    "duration": 69,
    "start_time": "2022-04-28T11:02:07.089Z"
   },
   {
    "duration": 36,
    "start_time": "2022-04-28T11:02:07.160Z"
   },
   {
    "duration": 4,
    "start_time": "2022-04-28T11:02:07.199Z"
   },
   {
    "duration": 6,
    "start_time": "2022-04-28T11:02:07.224Z"
   },
   {
    "duration": 7,
    "start_time": "2022-04-28T11:02:07.232Z"
   },
   {
    "duration": 6,
    "start_time": "2022-04-28T11:02:07.241Z"
   },
   {
    "duration": 5,
    "start_time": "2022-04-28T11:02:07.249Z"
   },
   {
    "duration": 14,
    "start_time": "2022-04-28T11:02:07.256Z"
   },
   {
    "duration": 10,
    "start_time": "2022-04-28T11:02:19.055Z"
   },
   {
    "duration": 10,
    "start_time": "2022-04-28T11:02:25.700Z"
   },
   {
    "duration": 8,
    "start_time": "2022-04-28T11:02:36.719Z"
   },
   {
    "duration": 19,
    "start_time": "2022-04-28T11:02:41.466Z"
   },
   {
    "duration": 5,
    "start_time": "2022-04-28T11:03:26.955Z"
   },
   {
    "duration": 7,
    "start_time": "2022-04-28T11:03:44.424Z"
   },
   {
    "duration": 668,
    "start_time": "2022-04-28T11:03:49.992Z"
   },
   {
    "duration": 8,
    "start_time": "2022-04-28T11:04:21.441Z"
   },
   {
    "duration": 126,
    "start_time": "2022-04-28T11:04:35.696Z"
   },
   {
    "duration": 8,
    "start_time": "2022-04-28T11:04:39.019Z"
   },
   {
    "duration": 7,
    "start_time": "2022-04-28T11:04:45.946Z"
   },
   {
    "duration": 1145,
    "start_time": "2022-04-28T11:08:11.722Z"
   },
   {
    "duration": 46,
    "start_time": "2022-04-28T11:08:12.869Z"
   },
   {
    "duration": 27,
    "start_time": "2022-04-28T11:08:12.917Z"
   },
   {
    "duration": 4,
    "start_time": "2022-04-28T11:08:12.946Z"
   },
   {
    "duration": 6,
    "start_time": "2022-04-28T11:08:12.952Z"
   },
   {
    "duration": 6,
    "start_time": "2022-04-28T11:08:12.959Z"
   },
   {
    "duration": 6,
    "start_time": "2022-04-28T11:08:12.967Z"
   },
   {
    "duration": 7,
    "start_time": "2022-04-28T11:08:12.974Z"
   },
   {
    "duration": 42,
    "start_time": "2022-04-28T11:08:12.983Z"
   },
   {
    "duration": 12,
    "start_time": "2022-04-28T11:08:13.027Z"
   },
   {
    "duration": 400,
    "start_time": "2022-04-28T11:08:47.700Z"
   },
   {
    "duration": 144,
    "start_time": "2022-04-28T11:08:52.270Z"
   },
   {
    "duration": 24,
    "start_time": "2022-04-28T11:08:54.712Z"
   },
   {
    "duration": 7,
    "start_time": "2022-04-28T11:09:08.001Z"
   },
   {
    "duration": 7,
    "start_time": "2022-04-28T11:09:15.831Z"
   },
   {
    "duration": 5,
    "start_time": "2022-04-28T11:13:30.021Z"
   },
   {
    "duration": 99,
    "start_time": "2022-04-28T11:14:29.835Z"
   },
   {
    "duration": 10,
    "start_time": "2022-04-28T11:14:34.845Z"
   },
   {
    "duration": 7,
    "start_time": "2022-04-28T11:14:38.111Z"
   },
   {
    "duration": 5252,
    "start_time": "2022-04-28T11:14:46.198Z"
   },
   {
    "duration": 4471,
    "start_time": "2022-04-28T11:14:55.802Z"
   },
   {
    "duration": 24,
    "start_time": "2022-04-28T11:15:01.558Z"
   },
   {
    "duration": 34,
    "start_time": "2022-04-28T11:18:54.133Z"
   },
   {
    "duration": 22,
    "start_time": "2022-04-28T11:19:04.165Z"
   },
   {
    "duration": 3,
    "start_time": "2022-04-28T11:19:05.759Z"
   },
   {
    "duration": 17,
    "start_time": "2022-04-28T11:19:07.145Z"
   },
   {
    "duration": 4,
    "start_time": "2022-04-28T11:20:16.655Z"
   },
   {
    "duration": 17,
    "start_time": "2022-04-28T11:20:29.310Z"
   },
   {
    "duration": 16,
    "start_time": "2022-04-28T11:20:31.419Z"
   },
   {
    "duration": 31,
    "start_time": "2022-04-28T11:20:39.656Z"
   },
   {
    "duration": 6,
    "start_time": "2022-04-28T11:20:41.181Z"
   },
   {
    "duration": 5,
    "start_time": "2022-04-28T11:20:48.495Z"
   },
   {
    "duration": 7,
    "start_time": "2022-04-28T11:34:14.279Z"
   },
   {
    "duration": 194,
    "start_time": "2022-04-28T11:34:19.451Z"
   },
   {
    "duration": 169,
    "start_time": "2022-04-28T11:36:22.243Z"
   },
   {
    "duration": 167,
    "start_time": "2022-04-28T11:36:28.824Z"
   },
   {
    "duration": 164,
    "start_time": "2022-04-28T11:36:32.273Z"
   },
   {
    "duration": 496,
    "start_time": "2022-04-28T11:37:28.644Z"
   },
   {
    "duration": 4,
    "start_time": "2022-04-28T11:41:03.647Z"
   },
   {
    "duration": 3,
    "start_time": "2022-04-28T11:41:07.475Z"
   },
   {
    "duration": 4,
    "start_time": "2022-04-28T11:41:12.239Z"
   },
   {
    "duration": 10,
    "start_time": "2022-04-28T11:41:53.522Z"
   },
   {
    "duration": 452,
    "start_time": "2022-04-28T11:41:56.347Z"
   },
   {
    "duration": 14,
    "start_time": "2022-04-28T11:44:07.315Z"
   },
   {
    "duration": 249,
    "start_time": "2022-04-28T11:44:08.716Z"
   },
   {
    "duration": 277,
    "start_time": "2022-04-28T11:44:20.939Z"
   },
   {
    "duration": 13,
    "start_time": "2022-04-28T11:44:37.136Z"
   },
   {
    "duration": 146,
    "start_time": "2022-04-28T11:45:55.846Z"
   },
   {
    "duration": 1302,
    "start_time": "2022-04-28T13:53:06.607Z"
   },
   {
    "duration": 51,
    "start_time": "2022-04-28T13:53:07.912Z"
   },
   {
    "duration": 22,
    "start_time": "2022-04-28T13:53:07.965Z"
   },
   {
    "duration": 3,
    "start_time": "2022-04-28T13:53:07.989Z"
   },
   {
    "duration": 10,
    "start_time": "2022-04-28T13:53:07.995Z"
   },
   {
    "duration": 18,
    "start_time": "2022-04-28T13:53:08.007Z"
   },
   {
    "duration": 8,
    "start_time": "2022-04-28T13:53:08.027Z"
   },
   {
    "duration": 9,
    "start_time": "2022-04-28T13:53:08.036Z"
   },
   {
    "duration": 17,
    "start_time": "2022-04-28T13:53:08.047Z"
   },
   {
    "duration": 13,
    "start_time": "2022-04-28T13:53:08.066Z"
   },
   {
    "duration": 9,
    "start_time": "2022-04-28T13:53:08.080Z"
   },
   {
    "duration": 33,
    "start_time": "2022-04-28T13:53:08.091Z"
   },
   {
    "duration": 11,
    "start_time": "2022-04-28T13:53:08.126Z"
   },
   {
    "duration": 4988,
    "start_time": "2022-04-28T13:53:08.141Z"
   },
   {
    "duration": 0,
    "start_time": "2022-04-28T13:53:13.131Z"
   },
   {
    "duration": 0,
    "start_time": "2022-04-28T13:53:13.132Z"
   },
   {
    "duration": 0,
    "start_time": "2022-04-28T13:53:13.133Z"
   },
   {
    "duration": 0,
    "start_time": "2022-04-28T13:53:13.134Z"
   },
   {
    "duration": 0,
    "start_time": "2022-04-28T13:53:13.135Z"
   },
   {
    "duration": 0,
    "start_time": "2022-04-28T13:53:13.136Z"
   },
   {
    "duration": 0,
    "start_time": "2022-04-28T13:53:13.137Z"
   },
   {
    "duration": 0,
    "start_time": "2022-04-28T13:53:13.138Z"
   },
   {
    "duration": 0,
    "start_time": "2022-04-28T13:53:13.139Z"
   },
   {
    "duration": 0,
    "start_time": "2022-04-28T13:53:13.140Z"
   },
   {
    "duration": 0,
    "start_time": "2022-04-28T13:53:13.141Z"
   },
   {
    "duration": 0,
    "start_time": "2022-04-28T13:53:13.142Z"
   },
   {
    "duration": 0,
    "start_time": "2022-04-28T13:53:13.143Z"
   },
   {
    "duration": 0,
    "start_time": "2022-04-28T13:53:13.144Z"
   },
   {
    "duration": 0,
    "start_time": "2022-04-28T13:53:13.145Z"
   },
   {
    "duration": 0,
    "start_time": "2022-04-28T13:53:13.146Z"
   },
   {
    "duration": 0,
    "start_time": "2022-04-28T13:53:13.147Z"
   },
   {
    "duration": 0,
    "start_time": "2022-04-28T13:53:13.148Z"
   },
   {
    "duration": 0,
    "start_time": "2022-04-28T13:53:13.149Z"
   },
   {
    "duration": 0,
    "start_time": "2022-04-28T13:53:13.150Z"
   },
   {
    "duration": 0,
    "start_time": "2022-04-28T13:53:13.151Z"
   },
   {
    "duration": 0,
    "start_time": "2022-04-28T13:53:13.152Z"
   },
   {
    "duration": 0,
    "start_time": "2022-04-28T13:53:13.153Z"
   },
   {
    "duration": 0,
    "start_time": "2022-04-28T13:53:13.154Z"
   },
   {
    "duration": 0,
    "start_time": "2022-04-28T13:53:13.155Z"
   },
   {
    "duration": 0,
    "start_time": "2022-04-28T13:53:13.156Z"
   },
   {
    "duration": 0,
    "start_time": "2022-04-28T13:53:13.157Z"
   },
   {
    "duration": 0,
    "start_time": "2022-04-28T13:53:13.158Z"
   },
   {
    "duration": 0,
    "start_time": "2022-04-28T13:53:13.159Z"
   },
   {
    "duration": 0,
    "start_time": "2022-04-28T13:53:13.160Z"
   },
   {
    "duration": 0,
    "start_time": "2022-04-28T13:53:13.160Z"
   },
   {
    "duration": 0,
    "start_time": "2022-04-28T13:53:13.162Z"
   },
   {
    "duration": 0,
    "start_time": "2022-04-28T13:53:13.163Z"
   },
   {
    "duration": 0,
    "start_time": "2022-04-28T13:53:13.164Z"
   },
   {
    "duration": 0,
    "start_time": "2022-04-28T13:53:13.165Z"
   },
   {
    "duration": 0,
    "start_time": "2022-04-28T13:53:13.166Z"
   },
   {
    "duration": 0,
    "start_time": "2022-04-28T13:53:13.223Z"
   },
   {
    "duration": 0,
    "start_time": "2022-04-28T13:53:13.225Z"
   },
   {
    "duration": 0,
    "start_time": "2022-04-28T13:53:13.226Z"
   },
   {
    "duration": 0,
    "start_time": "2022-04-28T13:53:13.227Z"
   },
   {
    "duration": 0,
    "start_time": "2022-04-28T13:53:13.228Z"
   },
   {
    "duration": 3,
    "start_time": "2022-04-28T13:53:25.244Z"
   },
   {
    "duration": 47,
    "start_time": "2022-04-28T13:53:25.249Z"
   },
   {
    "duration": 19,
    "start_time": "2022-04-28T13:53:25.298Z"
   },
   {
    "duration": 8,
    "start_time": "2022-04-28T13:53:25.318Z"
   },
   {
    "duration": 6,
    "start_time": "2022-04-28T13:53:25.328Z"
   },
   {
    "duration": 7,
    "start_time": "2022-04-28T13:53:25.335Z"
   },
   {
    "duration": 7,
    "start_time": "2022-04-28T13:53:25.343Z"
   },
   {
    "duration": 6,
    "start_time": "2022-04-28T13:53:25.352Z"
   },
   {
    "duration": 13,
    "start_time": "2022-04-28T13:53:25.360Z"
   },
   {
    "duration": 10,
    "start_time": "2022-04-28T13:53:25.375Z"
   },
   {
    "duration": 41,
    "start_time": "2022-04-28T13:53:25.387Z"
   },
   {
    "duration": 5,
    "start_time": "2022-04-28T13:53:25.429Z"
   },
   {
    "duration": 11,
    "start_time": "2022-04-28T13:53:25.436Z"
   },
   {
    "duration": 7739,
    "start_time": "2022-04-28T13:53:25.451Z"
   },
   {
    "duration": 0,
    "start_time": "2022-04-28T13:53:33.192Z"
   },
   {
    "duration": 0,
    "start_time": "2022-04-28T13:53:33.194Z"
   },
   {
    "duration": 0,
    "start_time": "2022-04-28T13:53:33.195Z"
   },
   {
    "duration": 0,
    "start_time": "2022-04-28T13:53:33.196Z"
   },
   {
    "duration": 0,
    "start_time": "2022-04-28T13:53:33.197Z"
   },
   {
    "duration": 0,
    "start_time": "2022-04-28T13:53:33.198Z"
   },
   {
    "duration": 0,
    "start_time": "2022-04-28T13:53:33.199Z"
   },
   {
    "duration": 0,
    "start_time": "2022-04-28T13:53:33.200Z"
   },
   {
    "duration": 0,
    "start_time": "2022-04-28T13:53:33.201Z"
   },
   {
    "duration": 0,
    "start_time": "2022-04-28T13:53:33.202Z"
   },
   {
    "duration": 0,
    "start_time": "2022-04-28T13:53:33.203Z"
   },
   {
    "duration": 0,
    "start_time": "2022-04-28T13:53:33.204Z"
   },
   {
    "duration": 0,
    "start_time": "2022-04-28T13:53:33.204Z"
   },
   {
    "duration": 0,
    "start_time": "2022-04-28T13:53:33.224Z"
   },
   {
    "duration": 0,
    "start_time": "2022-04-28T13:53:33.225Z"
   },
   {
    "duration": 0,
    "start_time": "2022-04-28T13:53:33.226Z"
   },
   {
    "duration": 0,
    "start_time": "2022-04-28T13:53:33.227Z"
   },
   {
    "duration": 0,
    "start_time": "2022-04-28T13:53:33.228Z"
   },
   {
    "duration": 0,
    "start_time": "2022-04-28T13:53:33.229Z"
   },
   {
    "duration": 0,
    "start_time": "2022-04-28T13:53:33.230Z"
   },
   {
    "duration": 0,
    "start_time": "2022-04-28T13:53:33.231Z"
   },
   {
    "duration": 0,
    "start_time": "2022-04-28T13:53:33.233Z"
   },
   {
    "duration": 0,
    "start_time": "2022-04-28T13:53:33.233Z"
   },
   {
    "duration": 0,
    "start_time": "2022-04-28T13:53:33.234Z"
   },
   {
    "duration": 0,
    "start_time": "2022-04-28T13:53:33.236Z"
   },
   {
    "duration": 0,
    "start_time": "2022-04-28T13:53:33.237Z"
   },
   {
    "duration": 0,
    "start_time": "2022-04-28T13:53:33.238Z"
   },
   {
    "duration": 0,
    "start_time": "2022-04-28T13:53:33.239Z"
   },
   {
    "duration": 0,
    "start_time": "2022-04-28T13:53:33.240Z"
   },
   {
    "duration": 0,
    "start_time": "2022-04-28T13:53:33.241Z"
   },
   {
    "duration": 0,
    "start_time": "2022-04-28T13:53:33.242Z"
   },
   {
    "duration": 0,
    "start_time": "2022-04-28T13:53:33.243Z"
   },
   {
    "duration": 0,
    "start_time": "2022-04-28T13:53:33.244Z"
   },
   {
    "duration": 0,
    "start_time": "2022-04-28T13:53:33.245Z"
   },
   {
    "duration": 0,
    "start_time": "2022-04-28T13:53:33.246Z"
   },
   {
    "duration": 0,
    "start_time": "2022-04-28T13:53:33.247Z"
   },
   {
    "duration": 0,
    "start_time": "2022-04-28T13:53:33.248Z"
   },
   {
    "duration": 0,
    "start_time": "2022-04-28T13:53:33.249Z"
   },
   {
    "duration": 0,
    "start_time": "2022-04-28T13:53:33.250Z"
   },
   {
    "duration": 0,
    "start_time": "2022-04-28T13:53:33.251Z"
   },
   {
    "duration": 0,
    "start_time": "2022-04-28T13:53:33.252Z"
   },
   {
    "duration": 3,
    "start_time": "2022-04-28T13:53:48.109Z"
   },
   {
    "duration": 46,
    "start_time": "2022-04-28T13:53:48.113Z"
   },
   {
    "duration": 19,
    "start_time": "2022-04-28T13:53:48.162Z"
   },
   {
    "duration": 11,
    "start_time": "2022-04-28T13:53:48.183Z"
   },
   {
    "duration": 8,
    "start_time": "2022-04-28T13:53:48.196Z"
   },
   {
    "duration": 23,
    "start_time": "2022-04-28T13:53:48.205Z"
   },
   {
    "duration": 6,
    "start_time": "2022-04-28T13:53:48.230Z"
   },
   {
    "duration": 7,
    "start_time": "2022-04-28T13:53:48.237Z"
   },
   {
    "duration": 13,
    "start_time": "2022-04-28T13:53:48.247Z"
   },
   {
    "duration": 9,
    "start_time": "2022-04-28T13:53:48.263Z"
   },
   {
    "duration": 10,
    "start_time": "2022-04-28T13:53:48.274Z"
   },
   {
    "duration": 4,
    "start_time": "2022-04-28T13:53:48.286Z"
   },
   {
    "duration": 35,
    "start_time": "2022-04-28T13:53:48.292Z"
   },
   {
    "duration": 4842,
    "start_time": "2022-04-28T13:53:48.329Z"
   },
   {
    "duration": 35,
    "start_time": "2022-04-28T13:53:53.173Z"
   },
   {
    "duration": 30,
    "start_time": "2022-04-28T13:53:53.210Z"
   },
   {
    "duration": 4,
    "start_time": "2022-04-28T13:53:53.242Z"
   },
   {
    "duration": 21,
    "start_time": "2022-04-28T13:53:53.248Z"
   },
   {
    "duration": 5,
    "start_time": "2022-04-28T13:53:53.271Z"
   },
   {
    "duration": 10,
    "start_time": "2022-04-28T13:53:53.277Z"
   },
   {
    "duration": 241,
    "start_time": "2022-04-28T13:53:53.289Z"
   },
   {
    "duration": 535,
    "start_time": "2022-04-28T13:53:53.532Z"
   },
   {
    "duration": 5,
    "start_time": "2022-04-28T13:53:54.068Z"
   },
   {
    "duration": 6,
    "start_time": "2022-04-28T13:53:54.075Z"
   },
   {
    "duration": 9,
    "start_time": "2022-04-28T13:53:54.082Z"
   },
   {
    "duration": 32,
    "start_time": "2022-04-28T13:53:54.093Z"
   },
   {
    "duration": 379,
    "start_time": "2022-04-28T13:53:54.129Z"
   },
   {
    "duration": 26,
    "start_time": "2022-04-28T13:53:54.510Z"
   },
   {
    "duration": 288,
    "start_time": "2022-04-28T13:53:54.538Z"
   },
   {
    "duration": 233,
    "start_time": "2022-04-28T13:53:54.828Z"
   },
   {
    "duration": 183,
    "start_time": "2022-04-28T13:53:55.063Z"
   },
   {
    "duration": 0,
    "start_time": "2022-04-28T13:53:55.248Z"
   },
   {
    "duration": 0,
    "start_time": "2022-04-28T13:53:55.249Z"
   },
   {
    "duration": 0,
    "start_time": "2022-04-28T13:53:55.250Z"
   },
   {
    "duration": 0,
    "start_time": "2022-04-28T13:53:55.251Z"
   },
   {
    "duration": 0,
    "start_time": "2022-04-28T13:53:55.252Z"
   },
   {
    "duration": 0,
    "start_time": "2022-04-28T13:53:55.253Z"
   },
   {
    "duration": 0,
    "start_time": "2022-04-28T13:53:55.254Z"
   },
   {
    "duration": 0,
    "start_time": "2022-04-28T13:53:55.255Z"
   },
   {
    "duration": 0,
    "start_time": "2022-04-28T13:53:55.256Z"
   },
   {
    "duration": 0,
    "start_time": "2022-04-28T13:53:55.257Z"
   },
   {
    "duration": 0,
    "start_time": "2022-04-28T13:53:55.258Z"
   },
   {
    "duration": 0,
    "start_time": "2022-04-28T13:53:55.259Z"
   },
   {
    "duration": 0,
    "start_time": "2022-04-28T13:53:55.259Z"
   },
   {
    "duration": 0,
    "start_time": "2022-04-28T13:53:55.261Z"
   },
   {
    "duration": 0,
    "start_time": "2022-04-28T13:53:55.262Z"
   },
   {
    "duration": 0,
    "start_time": "2022-04-28T13:53:55.262Z"
   },
   {
    "duration": 0,
    "start_time": "2022-04-28T13:53:55.263Z"
   },
   {
    "duration": 0,
    "start_time": "2022-04-28T13:53:55.264Z"
   },
   {
    "duration": 0,
    "start_time": "2022-04-28T13:53:55.265Z"
   },
   {
    "duration": 0,
    "start_time": "2022-04-28T13:53:55.266Z"
   },
   {
    "duration": 0,
    "start_time": "2022-04-28T13:53:55.267Z"
   },
   {
    "duration": 0,
    "start_time": "2022-04-28T13:53:55.268Z"
   },
   {
    "duration": 0,
    "start_time": "2022-04-28T13:53:55.269Z"
   },
   {
    "duration": 0,
    "start_time": "2022-04-28T13:53:55.270Z"
   },
   {
    "duration": 1155,
    "start_time": "2022-04-28T13:59:53.851Z"
   },
   {
    "duration": 54,
    "start_time": "2022-04-28T13:59:55.008Z"
   },
   {
    "duration": 23,
    "start_time": "2022-04-28T13:59:55.064Z"
   },
   {
    "duration": 4,
    "start_time": "2022-04-28T13:59:55.088Z"
   },
   {
    "duration": 32,
    "start_time": "2022-04-28T13:59:55.094Z"
   },
   {
    "duration": 12,
    "start_time": "2022-04-28T13:59:55.128Z"
   },
   {
    "duration": 7,
    "start_time": "2022-04-28T13:59:55.142Z"
   },
   {
    "duration": 6,
    "start_time": "2022-04-28T13:59:55.151Z"
   },
   {
    "duration": 18,
    "start_time": "2022-04-28T13:59:55.159Z"
   },
   {
    "duration": 10,
    "start_time": "2022-04-28T13:59:55.178Z"
   },
   {
    "duration": 8,
    "start_time": "2022-04-28T13:59:55.190Z"
   },
   {
    "duration": 33,
    "start_time": "2022-04-28T13:59:55.200Z"
   },
   {
    "duration": 15,
    "start_time": "2022-04-28T13:59:55.236Z"
   },
   {
    "duration": 5025,
    "start_time": "2022-04-28T13:59:55.257Z"
   },
   {
    "duration": 52,
    "start_time": "2022-04-28T14:00:00.283Z"
   },
   {
    "duration": 17,
    "start_time": "2022-04-28T14:00:00.337Z"
   },
   {
    "duration": 7,
    "start_time": "2022-04-28T14:00:00.356Z"
   },
   {
    "duration": 30,
    "start_time": "2022-04-28T14:00:00.365Z"
   },
   {
    "duration": 6,
    "start_time": "2022-04-28T14:00:00.396Z"
   },
   {
    "duration": 31,
    "start_time": "2022-04-28T14:00:00.403Z"
   },
   {
    "duration": 216,
    "start_time": "2022-04-28T14:00:00.436Z"
   },
   {
    "duration": 559,
    "start_time": "2022-04-28T14:00:00.654Z"
   },
   {
    "duration": 12,
    "start_time": "2022-04-28T14:00:01.215Z"
   },
   {
    "duration": 27,
    "start_time": "2022-04-28T14:00:01.229Z"
   },
   {
    "duration": 26,
    "start_time": "2022-04-28T14:00:01.257Z"
   },
   {
    "duration": 29,
    "start_time": "2022-04-28T14:00:01.284Z"
   },
   {
    "duration": 405,
    "start_time": "2022-04-28T14:00:01.316Z"
   },
   {
    "duration": 19,
    "start_time": "2022-04-28T14:00:01.723Z"
   },
   {
    "duration": 340,
    "start_time": "2022-04-28T14:00:01.743Z"
   },
   {
    "duration": 252,
    "start_time": "2022-04-28T14:00:02.085Z"
   },
   {
    "duration": 271,
    "start_time": "2022-04-28T14:00:02.339Z"
   },
   {
    "duration": 0,
    "start_time": "2022-04-28T14:00:02.613Z"
   },
   {
    "duration": 0,
    "start_time": "2022-04-28T14:00:02.614Z"
   },
   {
    "duration": 0,
    "start_time": "2022-04-28T14:00:02.625Z"
   },
   {
    "duration": 0,
    "start_time": "2022-04-28T14:00:02.627Z"
   },
   {
    "duration": 0,
    "start_time": "2022-04-28T14:00:02.628Z"
   },
   {
    "duration": 0,
    "start_time": "2022-04-28T14:00:02.629Z"
   },
   {
    "duration": 0,
    "start_time": "2022-04-28T14:00:02.630Z"
   },
   {
    "duration": 0,
    "start_time": "2022-04-28T14:00:02.631Z"
   },
   {
    "duration": 0,
    "start_time": "2022-04-28T14:00:02.632Z"
   },
   {
    "duration": 0,
    "start_time": "2022-04-28T14:00:02.633Z"
   },
   {
    "duration": 0,
    "start_time": "2022-04-28T14:00:02.634Z"
   },
   {
    "duration": 0,
    "start_time": "2022-04-28T14:00:02.634Z"
   },
   {
    "duration": 0,
    "start_time": "2022-04-28T14:00:02.635Z"
   },
   {
    "duration": 0,
    "start_time": "2022-04-28T14:00:02.637Z"
   },
   {
    "duration": 0,
    "start_time": "2022-04-28T14:00:02.638Z"
   },
   {
    "duration": 0,
    "start_time": "2022-04-28T14:00:02.638Z"
   },
   {
    "duration": 0,
    "start_time": "2022-04-28T14:00:02.639Z"
   },
   {
    "duration": 0,
    "start_time": "2022-04-28T14:00:02.640Z"
   },
   {
    "duration": 0,
    "start_time": "2022-04-28T14:00:02.641Z"
   },
   {
    "duration": 0,
    "start_time": "2022-04-28T14:00:02.642Z"
   },
   {
    "duration": 0,
    "start_time": "2022-04-28T14:00:02.648Z"
   },
   {
    "duration": 0,
    "start_time": "2022-04-28T14:00:02.764Z"
   },
   {
    "duration": 0,
    "start_time": "2022-04-28T14:00:02.765Z"
   },
   {
    "duration": 0,
    "start_time": "2022-04-28T14:00:02.766Z"
   },
   {
    "duration": 176,
    "start_time": "2022-04-28T14:00:19.755Z"
   },
   {
    "duration": 133,
    "start_time": "2022-04-28T14:01:59.701Z"
   },
   {
    "duration": 572,
    "start_time": "2022-04-28T14:02:13.216Z"
   },
   {
    "duration": 517,
    "start_time": "2022-04-28T14:03:23.360Z"
   },
   {
    "duration": 480,
    "start_time": "2022-04-28T14:03:37.592Z"
   },
   {
    "duration": 183,
    "start_time": "2022-04-28T14:05:32.583Z"
   },
   {
    "duration": 450,
    "start_time": "2022-04-28T14:06:38.021Z"
   },
   {
    "duration": 2,
    "start_time": "2022-04-28T14:15:43.623Z"
   },
   {
    "duration": 44,
    "start_time": "2022-04-28T14:15:43.627Z"
   },
   {
    "duration": 19,
    "start_time": "2022-04-28T14:15:43.673Z"
   },
   {
    "duration": 6,
    "start_time": "2022-04-28T14:15:43.694Z"
   },
   {
    "duration": 24,
    "start_time": "2022-04-28T14:15:43.701Z"
   },
   {
    "duration": 5,
    "start_time": "2022-04-28T14:15:43.726Z"
   },
   {
    "duration": 11,
    "start_time": "2022-04-28T14:15:43.732Z"
   },
   {
    "duration": 6,
    "start_time": "2022-04-28T14:15:43.744Z"
   },
   {
    "duration": 14,
    "start_time": "2022-04-28T14:15:43.752Z"
   },
   {
    "duration": 11,
    "start_time": "2022-04-28T14:15:43.768Z"
   },
   {
    "duration": 10,
    "start_time": "2022-04-28T14:15:43.782Z"
   },
   {
    "duration": 6,
    "start_time": "2022-04-28T14:15:43.823Z"
   },
   {
    "duration": 124,
    "start_time": "2022-04-28T14:15:43.831Z"
   },
   {
    "duration": 3,
    "start_time": "2022-04-28T14:15:43.957Z"
   },
   {
    "duration": 20,
    "start_time": "2022-04-28T14:15:43.961Z"
   },
   {
    "duration": 5,
    "start_time": "2022-04-28T14:15:43.983Z"
   },
   {
    "duration": 23,
    "start_time": "2022-04-28T14:15:43.990Z"
   },
   {
    "duration": 188,
    "start_time": "2022-04-28T14:15:44.014Z"
   },
   {
    "duration": 461,
    "start_time": "2022-04-28T14:15:44.204Z"
   },
   {
    "duration": 4,
    "start_time": "2022-04-28T14:15:44.667Z"
   },
   {
    "duration": 10,
    "start_time": "2022-04-28T14:15:44.672Z"
   },
   {
    "duration": 6,
    "start_time": "2022-04-28T14:15:44.683Z"
   },
   {
    "duration": 12,
    "start_time": "2022-04-28T14:15:44.691Z"
   },
   {
    "duration": 390,
    "start_time": "2022-04-28T14:15:44.705Z"
   },
   {
    "duration": 14,
    "start_time": "2022-04-28T14:15:45.096Z"
   },
   {
    "duration": 275,
    "start_time": "2022-04-28T14:15:45.112Z"
   },
   {
    "duration": 220,
    "start_time": "2022-04-28T14:15:45.388Z"
   },
   {
    "duration": 166,
    "start_time": "2022-04-28T14:15:45.611Z"
   },
   {
    "duration": 0,
    "start_time": "2022-04-28T14:15:45.779Z"
   },
   {
    "duration": 0,
    "start_time": "2022-04-28T14:15:45.781Z"
   },
   {
    "duration": 0,
    "start_time": "2022-04-28T14:15:45.782Z"
   },
   {
    "duration": 0,
    "start_time": "2022-04-28T14:15:45.784Z"
   },
   {
    "duration": 0,
    "start_time": "2022-04-28T14:15:45.785Z"
   },
   {
    "duration": 0,
    "start_time": "2022-04-28T14:15:45.786Z"
   },
   {
    "duration": 0,
    "start_time": "2022-04-28T14:15:45.787Z"
   },
   {
    "duration": 0,
    "start_time": "2022-04-28T14:15:45.788Z"
   },
   {
    "duration": 0,
    "start_time": "2022-04-28T14:15:45.790Z"
   },
   {
    "duration": 0,
    "start_time": "2022-04-28T14:15:45.791Z"
   },
   {
    "duration": 1,
    "start_time": "2022-04-28T14:15:45.792Z"
   },
   {
    "duration": 0,
    "start_time": "2022-04-28T14:15:45.794Z"
   },
   {
    "duration": 0,
    "start_time": "2022-04-28T14:15:45.795Z"
   },
   {
    "duration": 0,
    "start_time": "2022-04-28T14:15:45.824Z"
   },
   {
    "duration": 0,
    "start_time": "2022-04-28T14:15:45.826Z"
   },
   {
    "duration": 0,
    "start_time": "2022-04-28T14:15:45.827Z"
   },
   {
    "duration": 0,
    "start_time": "2022-04-28T14:15:45.828Z"
   },
   {
    "duration": 0,
    "start_time": "2022-04-28T14:15:45.829Z"
   },
   {
    "duration": 0,
    "start_time": "2022-04-28T14:15:45.830Z"
   },
   {
    "duration": 0,
    "start_time": "2022-04-28T14:15:45.832Z"
   },
   {
    "duration": 0,
    "start_time": "2022-04-28T14:15:45.833Z"
   },
   {
    "duration": 0,
    "start_time": "2022-04-28T14:15:45.834Z"
   },
   {
    "duration": 0,
    "start_time": "2022-04-28T14:15:45.835Z"
   },
   {
    "duration": 0,
    "start_time": "2022-04-28T14:15:45.836Z"
   },
   {
    "duration": 440,
    "start_time": "2022-04-28T14:18:42.604Z"
   },
   {
    "duration": 3,
    "start_time": "2022-04-28T14:22:27.793Z"
   },
   {
    "duration": 59,
    "start_time": "2022-04-28T14:22:27.797Z"
   },
   {
    "duration": 20,
    "start_time": "2022-04-28T14:22:27.858Z"
   },
   {
    "duration": 5,
    "start_time": "2022-04-28T14:22:27.880Z"
   },
   {
    "duration": 12,
    "start_time": "2022-04-28T14:22:27.887Z"
   },
   {
    "duration": 24,
    "start_time": "2022-04-28T14:22:27.901Z"
   },
   {
    "duration": 5,
    "start_time": "2022-04-28T14:22:27.927Z"
   },
   {
    "duration": 6,
    "start_time": "2022-04-28T14:22:27.934Z"
   },
   {
    "duration": 13,
    "start_time": "2022-04-28T14:22:27.943Z"
   },
   {
    "duration": 8,
    "start_time": "2022-04-28T14:22:27.958Z"
   },
   {
    "duration": 11,
    "start_time": "2022-04-28T14:22:27.967Z"
   },
   {
    "duration": 4,
    "start_time": "2022-04-28T14:22:27.980Z"
   },
   {
    "duration": 54,
    "start_time": "2022-04-28T14:22:27.985Z"
   },
   {
    "duration": 4,
    "start_time": "2022-04-28T14:22:28.041Z"
   },
   {
    "duration": 21,
    "start_time": "2022-04-28T14:22:28.046Z"
   },
   {
    "duration": 6,
    "start_time": "2022-04-28T14:22:28.068Z"
   },
   {
    "duration": 9,
    "start_time": "2022-04-28T14:22:28.076Z"
   },
   {
    "duration": 330,
    "start_time": "2022-04-28T14:22:28.087Z"
   },
   {
    "duration": 61265,
    "start_time": "2022-04-28T14:22:28.424Z"
   },
   {
    "duration": 5,
    "start_time": "2022-04-28T14:23:29.691Z"
   },
   {
    "duration": 8,
    "start_time": "2022-04-28T14:23:29.698Z"
   },
   {
    "duration": 6,
    "start_time": "2022-04-28T14:23:29.723Z"
   },
   {
    "duration": 12,
    "start_time": "2022-04-28T14:23:29.731Z"
   },
   {
    "duration": 483,
    "start_time": "2022-04-28T14:23:29.745Z"
   },
   {
    "duration": 18,
    "start_time": "2022-04-28T14:23:30.230Z"
   },
   {
    "duration": 292,
    "start_time": "2022-04-28T14:23:30.250Z"
   },
   {
    "duration": 237,
    "start_time": "2022-04-28T14:23:30.547Z"
   },
   {
    "duration": 179,
    "start_time": "2022-04-28T14:23:30.786Z"
   },
   {
    "duration": 0,
    "start_time": "2022-04-28T14:23:30.967Z"
   },
   {
    "duration": 0,
    "start_time": "2022-04-28T14:23:30.969Z"
   },
   {
    "duration": 0,
    "start_time": "2022-04-28T14:23:30.970Z"
   },
   {
    "duration": 0,
    "start_time": "2022-04-28T14:23:30.971Z"
   },
   {
    "duration": 0,
    "start_time": "2022-04-28T14:23:30.972Z"
   },
   {
    "duration": 0,
    "start_time": "2022-04-28T14:23:30.973Z"
   },
   {
    "duration": 0,
    "start_time": "2022-04-28T14:23:30.975Z"
   },
   {
    "duration": 0,
    "start_time": "2022-04-28T14:23:30.976Z"
   },
   {
    "duration": 0,
    "start_time": "2022-04-28T14:23:30.977Z"
   },
   {
    "duration": 0,
    "start_time": "2022-04-28T14:23:30.978Z"
   },
   {
    "duration": 0,
    "start_time": "2022-04-28T14:23:30.979Z"
   },
   {
    "duration": 0,
    "start_time": "2022-04-28T14:23:30.980Z"
   },
   {
    "duration": 0,
    "start_time": "2022-04-28T14:23:30.982Z"
   },
   {
    "duration": 0,
    "start_time": "2022-04-28T14:23:30.983Z"
   },
   {
    "duration": 0,
    "start_time": "2022-04-28T14:23:30.984Z"
   },
   {
    "duration": 0,
    "start_time": "2022-04-28T14:23:30.985Z"
   },
   {
    "duration": 0,
    "start_time": "2022-04-28T14:23:30.986Z"
   },
   {
    "duration": 0,
    "start_time": "2022-04-28T14:23:30.987Z"
   },
   {
    "duration": 0,
    "start_time": "2022-04-28T14:23:31.024Z"
   },
   {
    "duration": 0,
    "start_time": "2022-04-28T14:23:31.025Z"
   },
   {
    "duration": 0,
    "start_time": "2022-04-28T14:23:31.026Z"
   },
   {
    "duration": 0,
    "start_time": "2022-04-28T14:23:31.027Z"
   },
   {
    "duration": 0,
    "start_time": "2022-04-28T14:23:31.028Z"
   },
   {
    "duration": 0,
    "start_time": "2022-04-28T14:23:31.029Z"
   },
   {
    "duration": 130,
    "start_time": "2022-04-28T14:23:49.908Z"
   },
   {
    "duration": 181,
    "start_time": "2022-04-28T14:23:56.359Z"
   },
   {
    "duration": 442,
    "start_time": "2022-04-28T14:24:47.251Z"
   },
   {
    "duration": 2,
    "start_time": "2022-04-28T14:25:56.371Z"
   },
   {
    "duration": 48,
    "start_time": "2022-04-28T14:25:56.376Z"
   },
   {
    "duration": 20,
    "start_time": "2022-04-28T14:25:56.426Z"
   },
   {
    "duration": 8,
    "start_time": "2022-04-28T14:25:56.448Z"
   },
   {
    "duration": 6,
    "start_time": "2022-04-28T14:25:56.458Z"
   },
   {
    "duration": 6,
    "start_time": "2022-04-28T14:25:56.466Z"
   },
   {
    "duration": 7,
    "start_time": "2022-04-28T14:25:56.474Z"
   },
   {
    "duration": 8,
    "start_time": "2022-04-28T14:25:56.483Z"
   },
   {
    "duration": 14,
    "start_time": "2022-04-28T14:25:56.524Z"
   },
   {
    "duration": 11,
    "start_time": "2022-04-28T14:25:56.539Z"
   },
   {
    "duration": 12,
    "start_time": "2022-04-28T14:25:56.551Z"
   },
   {
    "duration": 7,
    "start_time": "2022-04-28T14:25:56.564Z"
   },
   {
    "duration": 18,
    "start_time": "2022-04-28T14:25:56.574Z"
   },
   {
    "duration": 4,
    "start_time": "2022-04-28T14:25:56.593Z"
   },
   {
    "duration": 18,
    "start_time": "2022-04-28T14:25:56.624Z"
   },
   {
    "duration": 7,
    "start_time": "2022-04-28T14:25:56.643Z"
   },
   {
    "duration": 8,
    "start_time": "2022-04-28T14:25:56.652Z"
   },
   {
    "duration": 216,
    "start_time": "2022-04-28T14:25:56.662Z"
   },
   {
    "duration": 4,
    "start_time": "2022-04-28T14:25:56.879Z"
   },
   {
    "duration": 6,
    "start_time": "2022-04-28T14:25:56.885Z"
   },
   {
    "duration": 9,
    "start_time": "2022-04-28T14:25:56.892Z"
   },
   {
    "duration": 28,
    "start_time": "2022-04-28T14:25:56.902Z"
   },
   {
    "duration": 375,
    "start_time": "2022-04-28T14:25:56.931Z"
   },
   {
    "duration": 24,
    "start_time": "2022-04-28T14:25:57.307Z"
   },
   {
    "duration": 264,
    "start_time": "2022-04-28T14:25:57.332Z"
   },
   {
    "duration": 223,
    "start_time": "2022-04-28T14:25:57.598Z"
   },
   {
    "duration": 171,
    "start_time": "2022-04-28T14:25:57.823Z"
   },
   {
    "duration": 0,
    "start_time": "2022-04-28T14:25:57.997Z"
   },
   {
    "duration": 0,
    "start_time": "2022-04-28T14:25:57.999Z"
   },
   {
    "duration": 0,
    "start_time": "2022-04-28T14:25:58.000Z"
   },
   {
    "duration": 0,
    "start_time": "2022-04-28T14:25:58.002Z"
   },
   {
    "duration": 0,
    "start_time": "2022-04-28T14:25:58.003Z"
   },
   {
    "duration": 0,
    "start_time": "2022-04-28T14:25:58.005Z"
   },
   {
    "duration": 0,
    "start_time": "2022-04-28T14:25:58.006Z"
   },
   {
    "duration": 0,
    "start_time": "2022-04-28T14:25:58.024Z"
   },
   {
    "duration": 0,
    "start_time": "2022-04-28T14:25:58.026Z"
   },
   {
    "duration": 0,
    "start_time": "2022-04-28T14:25:58.027Z"
   },
   {
    "duration": 0,
    "start_time": "2022-04-28T14:25:58.029Z"
   },
   {
    "duration": 0,
    "start_time": "2022-04-28T14:25:58.030Z"
   },
   {
    "duration": 0,
    "start_time": "2022-04-28T14:25:58.031Z"
   },
   {
    "duration": 0,
    "start_time": "2022-04-28T14:25:58.033Z"
   },
   {
    "duration": 0,
    "start_time": "2022-04-28T14:25:58.033Z"
   },
   {
    "duration": 0,
    "start_time": "2022-04-28T14:25:58.035Z"
   },
   {
    "duration": 0,
    "start_time": "2022-04-28T14:25:58.036Z"
   },
   {
    "duration": 0,
    "start_time": "2022-04-28T14:25:58.037Z"
   },
   {
    "duration": 0,
    "start_time": "2022-04-28T14:25:58.038Z"
   },
   {
    "duration": 0,
    "start_time": "2022-04-28T14:25:58.039Z"
   },
   {
    "duration": 0,
    "start_time": "2022-04-28T14:25:58.040Z"
   },
   {
    "duration": 0,
    "start_time": "2022-04-28T14:25:58.041Z"
   },
   {
    "duration": 0,
    "start_time": "2022-04-28T14:25:58.042Z"
   },
   {
    "duration": 0,
    "start_time": "2022-04-28T14:25:58.043Z"
   },
   {
    "duration": 12,
    "start_time": "2022-04-28T14:28:13.998Z"
   },
   {
    "duration": 10,
    "start_time": "2022-04-28T14:29:12.990Z"
   },
   {
    "duration": 15,
    "start_time": "2022-04-28T14:29:30.900Z"
   },
   {
    "duration": 13,
    "start_time": "2022-04-28T14:29:55.575Z"
   },
   {
    "duration": 18,
    "start_time": "2022-04-28T14:31:40.626Z"
   },
   {
    "duration": 9,
    "start_time": "2022-04-28T14:32:00.094Z"
   },
   {
    "duration": 129,
    "start_time": "2022-04-28T14:33:29.807Z"
   },
   {
    "duration": 8,
    "start_time": "2022-04-28T14:33:36.862Z"
   },
   {
    "duration": 16,
    "start_time": "2022-04-28T14:33:59.186Z"
   },
   {
    "duration": 3,
    "start_time": "2022-04-28T14:35:14.248Z"
   },
   {
    "duration": 50,
    "start_time": "2022-04-28T14:35:14.253Z"
   },
   {
    "duration": 20,
    "start_time": "2022-04-28T14:35:14.304Z"
   },
   {
    "duration": 7,
    "start_time": "2022-04-28T14:35:14.325Z"
   },
   {
    "duration": 7,
    "start_time": "2022-04-28T14:35:14.334Z"
   },
   {
    "duration": 7,
    "start_time": "2022-04-28T14:35:14.342Z"
   },
   {
    "duration": 9,
    "start_time": "2022-04-28T14:35:14.350Z"
   },
   {
    "duration": 8,
    "start_time": "2022-04-28T14:35:14.361Z"
   },
   {
    "duration": 17,
    "start_time": "2022-04-28T14:35:14.371Z"
   },
   {
    "duration": 8,
    "start_time": "2022-04-28T14:35:14.389Z"
   },
   {
    "duration": 39,
    "start_time": "2022-04-28T14:35:14.398Z"
   },
   {
    "duration": 4,
    "start_time": "2022-04-28T14:35:14.438Z"
   },
   {
    "duration": 20,
    "start_time": "2022-04-28T14:35:14.443Z"
   },
   {
    "duration": 3,
    "start_time": "2022-04-28T14:35:14.466Z"
   },
   {
    "duration": 18,
    "start_time": "2022-04-28T14:35:14.470Z"
   },
   {
    "duration": 5,
    "start_time": "2022-04-28T14:35:14.489Z"
   },
   {
    "duration": 34,
    "start_time": "2022-04-28T14:35:14.495Z"
   },
   {
    "duration": 183,
    "start_time": "2022-04-28T14:35:14.532Z"
   },
   {
    "duration": 8,
    "start_time": "2022-04-28T14:35:14.717Z"
   },
   {
    "duration": 7,
    "start_time": "2022-04-28T14:35:14.726Z"
   },
   {
    "duration": 12,
    "start_time": "2022-04-28T14:35:14.734Z"
   },
   {
    "duration": 0,
    "start_time": "2022-04-28T14:35:14.748Z"
   },
   {
    "duration": 0,
    "start_time": "2022-04-28T14:35:14.750Z"
   },
   {
    "duration": 0,
    "start_time": "2022-04-28T14:35:14.751Z"
   },
   {
    "duration": 0,
    "start_time": "2022-04-28T14:35:14.752Z"
   },
   {
    "duration": 0,
    "start_time": "2022-04-28T14:35:14.753Z"
   },
   {
    "duration": 0,
    "start_time": "2022-04-28T14:35:14.754Z"
   },
   {
    "duration": 0,
    "start_time": "2022-04-28T14:35:14.755Z"
   },
   {
    "duration": 0,
    "start_time": "2022-04-28T14:35:14.756Z"
   },
   {
    "duration": 0,
    "start_time": "2022-04-28T14:35:14.757Z"
   },
   {
    "duration": 0,
    "start_time": "2022-04-28T14:35:14.758Z"
   },
   {
    "duration": 0,
    "start_time": "2022-04-28T14:35:14.759Z"
   },
   {
    "duration": 0,
    "start_time": "2022-04-28T14:35:14.760Z"
   },
   {
    "duration": 0,
    "start_time": "2022-04-28T14:35:14.761Z"
   },
   {
    "duration": 0,
    "start_time": "2022-04-28T14:35:14.762Z"
   },
   {
    "duration": 0,
    "start_time": "2022-04-28T14:35:14.764Z"
   },
   {
    "duration": 0,
    "start_time": "2022-04-28T14:35:14.765Z"
   },
   {
    "duration": 0,
    "start_time": "2022-04-28T14:35:14.766Z"
   },
   {
    "duration": 0,
    "start_time": "2022-04-28T14:35:14.767Z"
   },
   {
    "duration": 0,
    "start_time": "2022-04-28T14:35:14.768Z"
   },
   {
    "duration": 0,
    "start_time": "2022-04-28T14:35:14.769Z"
   },
   {
    "duration": 0,
    "start_time": "2022-04-28T14:35:14.770Z"
   },
   {
    "duration": 0,
    "start_time": "2022-04-28T14:35:14.771Z"
   },
   {
    "duration": 0,
    "start_time": "2022-04-28T14:35:14.772Z"
   },
   {
    "duration": 0,
    "start_time": "2022-04-28T14:35:14.824Z"
   },
   {
    "duration": 0,
    "start_time": "2022-04-28T14:35:14.825Z"
   },
   {
    "duration": 0,
    "start_time": "2022-04-28T14:35:14.826Z"
   },
   {
    "duration": 0,
    "start_time": "2022-04-28T14:35:14.828Z"
   },
   {
    "duration": 0,
    "start_time": "2022-04-28T14:35:14.829Z"
   },
   {
    "duration": 0,
    "start_time": "2022-04-28T14:35:14.830Z"
   },
   {
    "duration": 0,
    "start_time": "2022-04-28T14:35:14.831Z"
   },
   {
    "duration": 10,
    "start_time": "2022-04-28T14:37:10.158Z"
   },
   {
    "duration": 8,
    "start_time": "2022-04-28T14:37:14.976Z"
   },
   {
    "duration": 8,
    "start_time": "2022-04-28T14:37:26.457Z"
   },
   {
    "duration": 8,
    "start_time": "2022-04-28T14:37:31.357Z"
   },
   {
    "duration": 3,
    "start_time": "2022-04-28T14:37:51.126Z"
   },
   {
    "duration": 48,
    "start_time": "2022-04-28T14:37:51.131Z"
   },
   {
    "duration": 17,
    "start_time": "2022-04-28T14:37:51.181Z"
   },
   {
    "duration": 25,
    "start_time": "2022-04-28T14:37:51.200Z"
   },
   {
    "duration": 6,
    "start_time": "2022-04-28T14:37:51.227Z"
   },
   {
    "duration": 16,
    "start_time": "2022-04-28T14:37:51.235Z"
   },
   {
    "duration": 6,
    "start_time": "2022-04-28T14:37:51.253Z"
   },
   {
    "duration": 5,
    "start_time": "2022-04-28T14:37:51.261Z"
   },
   {
    "duration": 13,
    "start_time": "2022-04-28T14:37:51.268Z"
   },
   {
    "duration": 6,
    "start_time": "2022-04-28T14:37:51.283Z"
   },
   {
    "duration": 47,
    "start_time": "2022-04-28T14:37:51.291Z"
   },
   {
    "duration": 6,
    "start_time": "2022-04-28T14:37:51.340Z"
   },
   {
    "duration": 18,
    "start_time": "2022-04-28T14:37:51.348Z"
   },
   {
    "duration": 3,
    "start_time": "2022-04-28T14:37:51.370Z"
   },
   {
    "duration": 20,
    "start_time": "2022-04-28T14:37:51.375Z"
   },
   {
    "duration": 31,
    "start_time": "2022-04-28T14:37:51.397Z"
   },
   {
    "duration": 11,
    "start_time": "2022-04-28T14:37:51.430Z"
   },
   {
    "duration": 189,
    "start_time": "2022-04-28T14:37:51.443Z"
   },
   {
    "duration": 4,
    "start_time": "2022-04-28T14:37:51.634Z"
   },
   {
    "duration": 7,
    "start_time": "2022-04-28T14:37:51.640Z"
   },
   {
    "duration": 13,
    "start_time": "2022-04-28T14:37:51.648Z"
   },
   {
    "duration": 390,
    "start_time": "2022-04-28T14:37:51.662Z"
   },
   {
    "duration": 16,
    "start_time": "2022-04-28T14:37:52.053Z"
   },
   {
    "duration": 278,
    "start_time": "2022-04-28T14:37:52.070Z"
   },
   {
    "duration": 234,
    "start_time": "2022-04-28T14:37:52.350Z"
   },
   {
    "duration": 167,
    "start_time": "2022-04-28T14:37:52.585Z"
   },
   {
    "duration": 0,
    "start_time": "2022-04-28T14:37:52.754Z"
   },
   {
    "duration": 0,
    "start_time": "2022-04-28T14:37:52.755Z"
   },
   {
    "duration": 0,
    "start_time": "2022-04-28T14:37:52.756Z"
   },
   {
    "duration": 0,
    "start_time": "2022-04-28T14:37:52.758Z"
   },
   {
    "duration": 0,
    "start_time": "2022-04-28T14:37:52.759Z"
   },
   {
    "duration": 0,
    "start_time": "2022-04-28T14:37:52.760Z"
   },
   {
    "duration": 0,
    "start_time": "2022-04-28T14:37:52.761Z"
   },
   {
    "duration": 0,
    "start_time": "2022-04-28T14:37:52.761Z"
   },
   {
    "duration": 0,
    "start_time": "2022-04-28T14:37:52.763Z"
   },
   {
    "duration": 0,
    "start_time": "2022-04-28T14:37:52.763Z"
   },
   {
    "duration": 0,
    "start_time": "2022-04-28T14:37:52.764Z"
   },
   {
    "duration": 0,
    "start_time": "2022-04-28T14:37:52.765Z"
   },
   {
    "duration": 0,
    "start_time": "2022-04-28T14:37:52.766Z"
   },
   {
    "duration": 0,
    "start_time": "2022-04-28T14:37:52.767Z"
   },
   {
    "duration": 0,
    "start_time": "2022-04-28T14:37:52.768Z"
   },
   {
    "duration": 0,
    "start_time": "2022-04-28T14:37:52.769Z"
   },
   {
    "duration": 0,
    "start_time": "2022-04-28T14:37:52.770Z"
   },
   {
    "duration": 0,
    "start_time": "2022-04-28T14:37:52.771Z"
   },
   {
    "duration": 0,
    "start_time": "2022-04-28T14:37:52.772Z"
   },
   {
    "duration": 0,
    "start_time": "2022-04-28T14:37:52.773Z"
   },
   {
    "duration": 0,
    "start_time": "2022-04-28T14:37:52.774Z"
   },
   {
    "duration": 0,
    "start_time": "2022-04-28T14:37:52.775Z"
   },
   {
    "duration": 0,
    "start_time": "2022-04-28T14:37:52.776Z"
   },
   {
    "duration": 0,
    "start_time": "2022-04-28T14:37:52.777Z"
   },
   {
    "duration": 1153,
    "start_time": "2022-04-28T14:38:33.431Z"
   },
   {
    "duration": 59,
    "start_time": "2022-04-28T14:38:34.587Z"
   },
   {
    "duration": 25,
    "start_time": "2022-04-28T14:38:34.648Z"
   },
   {
    "duration": 4,
    "start_time": "2022-04-28T14:38:34.676Z"
   },
   {
    "duration": 7,
    "start_time": "2022-04-28T14:38:34.681Z"
   },
   {
    "duration": 6,
    "start_time": "2022-04-28T14:38:34.689Z"
   },
   {
    "duration": 32,
    "start_time": "2022-04-28T14:38:34.697Z"
   },
   {
    "duration": 19,
    "start_time": "2022-04-28T14:38:34.731Z"
   },
   {
    "duration": 14,
    "start_time": "2022-04-28T14:38:34.752Z"
   },
   {
    "duration": 8,
    "start_time": "2022-04-28T14:38:34.769Z"
   },
   {
    "duration": 16,
    "start_time": "2022-04-28T14:38:34.779Z"
   },
   {
    "duration": 4,
    "start_time": "2022-04-28T14:38:34.796Z"
   },
   {
    "duration": 42,
    "start_time": "2022-04-28T14:38:34.802Z"
   },
   {
    "duration": 4,
    "start_time": "2022-04-28T14:38:34.846Z"
   },
   {
    "duration": 25,
    "start_time": "2022-04-28T14:38:34.852Z"
   },
   {
    "duration": 7,
    "start_time": "2022-04-28T14:38:34.878Z"
   },
   {
    "duration": 8,
    "start_time": "2022-04-28T14:38:34.886Z"
   },
   {
    "duration": 206,
    "start_time": "2022-04-28T14:38:34.923Z"
   },
   {
    "duration": 113,
    "start_time": "2022-04-28T14:38:35.131Z"
   },
   {
    "duration": 0,
    "start_time": "2022-04-28T14:38:35.247Z"
   },
   {
    "duration": 0,
    "start_time": "2022-04-28T14:38:35.248Z"
   },
   {
    "duration": 0,
    "start_time": "2022-04-28T14:38:35.249Z"
   },
   {
    "duration": 0,
    "start_time": "2022-04-28T14:38:35.250Z"
   },
   {
    "duration": 0,
    "start_time": "2022-04-28T14:38:35.251Z"
   },
   {
    "duration": 0,
    "start_time": "2022-04-28T14:38:35.253Z"
   },
   {
    "duration": 0,
    "start_time": "2022-04-28T14:38:35.255Z"
   },
   {
    "duration": 0,
    "start_time": "2022-04-28T14:38:35.256Z"
   },
   {
    "duration": 0,
    "start_time": "2022-04-28T14:38:35.257Z"
   },
   {
    "duration": 0,
    "start_time": "2022-04-28T14:38:35.258Z"
   },
   {
    "duration": 0,
    "start_time": "2022-04-28T14:38:35.260Z"
   },
   {
    "duration": 0,
    "start_time": "2022-04-28T14:38:35.261Z"
   },
   {
    "duration": 0,
    "start_time": "2022-04-28T14:38:35.263Z"
   },
   {
    "duration": 0,
    "start_time": "2022-04-28T14:38:35.264Z"
   },
   {
    "duration": 0,
    "start_time": "2022-04-28T14:38:35.266Z"
   },
   {
    "duration": 0,
    "start_time": "2022-04-28T14:38:35.267Z"
   },
   {
    "duration": 0,
    "start_time": "2022-04-28T14:38:35.268Z"
   },
   {
    "duration": 0,
    "start_time": "2022-04-28T14:38:35.269Z"
   },
   {
    "duration": 0,
    "start_time": "2022-04-28T14:38:35.271Z"
   },
   {
    "duration": 0,
    "start_time": "2022-04-28T14:38:35.272Z"
   },
   {
    "duration": 0,
    "start_time": "2022-04-28T14:38:35.273Z"
   },
   {
    "duration": 0,
    "start_time": "2022-04-28T14:38:35.273Z"
   },
   {
    "duration": 0,
    "start_time": "2022-04-28T14:38:35.274Z"
   },
   {
    "duration": 0,
    "start_time": "2022-04-28T14:38:35.275Z"
   },
   {
    "duration": 0,
    "start_time": "2022-04-28T14:38:35.276Z"
   },
   {
    "duration": 0,
    "start_time": "2022-04-28T14:38:35.323Z"
   },
   {
    "duration": 0,
    "start_time": "2022-04-28T14:38:35.325Z"
   },
   {
    "duration": 0,
    "start_time": "2022-04-28T14:38:35.326Z"
   },
   {
    "duration": 0,
    "start_time": "2022-04-28T14:38:35.328Z"
   },
   {
    "duration": 0,
    "start_time": "2022-04-28T14:38:35.329Z"
   },
   {
    "duration": 0,
    "start_time": "2022-04-28T14:38:35.330Z"
   },
   {
    "duration": 10,
    "start_time": "2022-04-28T14:40:28.612Z"
   },
   {
    "duration": 6,
    "start_time": "2022-04-28T14:40:37.006Z"
   },
   {
    "duration": 14,
    "start_time": "2022-04-28T14:42:26.780Z"
   },
   {
    "duration": 13,
    "start_time": "2022-04-28T14:42:53.506Z"
   },
   {
    "duration": 6,
    "start_time": "2022-04-28T14:43:06.612Z"
   },
   {
    "duration": 122,
    "start_time": "2022-04-28T14:46:20.046Z"
   },
   {
    "duration": 123,
    "start_time": "2022-04-28T14:46:32.536Z"
   },
   {
    "duration": 140,
    "start_time": "2022-04-28T14:46:42.673Z"
   },
   {
    "duration": 26,
    "start_time": "2022-04-28T14:46:53.118Z"
   },
   {
    "duration": 4,
    "start_time": "2022-04-28T14:46:58.652Z"
   },
   {
    "duration": 8,
    "start_time": "2022-04-28T14:47:02.232Z"
   },
   {
    "duration": 4,
    "start_time": "2022-04-28T14:47:11.860Z"
   },
   {
    "duration": 9,
    "start_time": "2022-04-28T14:48:11.966Z"
   },
   {
    "duration": 1266,
    "start_time": "2022-04-30T06:59:13.223Z"
   },
   {
    "duration": 46,
    "start_time": "2022-04-30T06:59:14.491Z"
   },
   {
    "duration": 26,
    "start_time": "2022-04-30T06:59:14.539Z"
   },
   {
    "duration": 3,
    "start_time": "2022-04-30T06:59:14.567Z"
   },
   {
    "duration": 8,
    "start_time": "2022-04-30T06:59:14.571Z"
   },
   {
    "duration": 5,
    "start_time": "2022-04-30T06:59:14.580Z"
   },
   {
    "duration": 5,
    "start_time": "2022-04-30T06:59:14.586Z"
   },
   {
    "duration": 4,
    "start_time": "2022-04-30T06:59:14.593Z"
   },
   {
    "duration": 12,
    "start_time": "2022-04-30T06:59:14.599Z"
   },
   {
    "duration": 38,
    "start_time": "2022-04-30T06:59:14.614Z"
   },
   {
    "duration": 15,
    "start_time": "2022-04-30T06:59:14.653Z"
   },
   {
    "duration": 5,
    "start_time": "2022-04-30T06:59:14.669Z"
   },
   {
    "duration": 6,
    "start_time": "2022-04-30T06:59:14.675Z"
   },
   {
    "duration": 16,
    "start_time": "2022-04-30T06:59:14.682Z"
   },
   {
    "duration": 3,
    "start_time": "2022-04-30T06:59:14.700Z"
   },
   {
    "duration": 46,
    "start_time": "2022-04-30T06:59:14.705Z"
   },
   {
    "duration": 7,
    "start_time": "2022-04-30T06:59:14.753Z"
   },
   {
    "duration": 11,
    "start_time": "2022-04-30T06:59:14.762Z"
   },
   {
    "duration": 203,
    "start_time": "2022-04-30T06:59:14.776Z"
   },
   {
    "duration": 27,
    "start_time": "2022-04-30T06:59:14.981Z"
   },
   {
    "duration": 5,
    "start_time": "2022-04-30T06:59:15.010Z"
   },
   {
    "duration": 6,
    "start_time": "2022-04-30T06:59:15.016Z"
   },
   {
    "duration": 109,
    "start_time": "2022-04-30T06:59:15.024Z"
   },
   {
    "duration": 0,
    "start_time": "2022-04-30T06:59:15.136Z"
   },
   {
    "duration": 0,
    "start_time": "2022-04-30T06:59:15.147Z"
   },
   {
    "duration": 0,
    "start_time": "2022-04-30T06:59:15.148Z"
   },
   {
    "duration": 0,
    "start_time": "2022-04-30T06:59:15.149Z"
   },
   {
    "duration": 0,
    "start_time": "2022-04-30T06:59:15.150Z"
   },
   {
    "duration": 0,
    "start_time": "2022-04-30T06:59:15.152Z"
   },
   {
    "duration": 0,
    "start_time": "2022-04-30T06:59:15.153Z"
   },
   {
    "duration": 0,
    "start_time": "2022-04-30T06:59:15.154Z"
   },
   {
    "duration": 0,
    "start_time": "2022-04-30T06:59:15.155Z"
   },
   {
    "duration": 0,
    "start_time": "2022-04-30T06:59:15.156Z"
   },
   {
    "duration": 0,
    "start_time": "2022-04-30T06:59:15.157Z"
   },
   {
    "duration": 0,
    "start_time": "2022-04-30T06:59:15.158Z"
   },
   {
    "duration": 0,
    "start_time": "2022-04-30T06:59:15.159Z"
   },
   {
    "duration": 0,
    "start_time": "2022-04-30T06:59:15.160Z"
   },
   {
    "duration": 0,
    "start_time": "2022-04-30T06:59:15.161Z"
   },
   {
    "duration": 0,
    "start_time": "2022-04-30T06:59:15.162Z"
   },
   {
    "duration": 0,
    "start_time": "2022-04-30T06:59:15.163Z"
   },
   {
    "duration": 0,
    "start_time": "2022-04-30T06:59:15.164Z"
   },
   {
    "duration": 0,
    "start_time": "2022-04-30T06:59:15.165Z"
   },
   {
    "duration": 0,
    "start_time": "2022-04-30T06:59:15.166Z"
   },
   {
    "duration": 0,
    "start_time": "2022-04-30T06:59:15.167Z"
   },
   {
    "duration": 0,
    "start_time": "2022-04-30T06:59:15.168Z"
   },
   {
    "duration": 0,
    "start_time": "2022-04-30T06:59:15.169Z"
   },
   {
    "duration": 0,
    "start_time": "2022-04-30T06:59:15.170Z"
   },
   {
    "duration": 0,
    "start_time": "2022-04-30T06:59:15.171Z"
   },
   {
    "duration": 0,
    "start_time": "2022-04-30T06:59:15.172Z"
   },
   {
    "duration": 0,
    "start_time": "2022-04-30T06:59:15.172Z"
   },
   {
    "duration": 0,
    "start_time": "2022-04-30T06:59:15.173Z"
   },
   {
    "duration": 0,
    "start_time": "2022-04-30T06:59:15.174Z"
   },
   {
    "duration": 0,
    "start_time": "2022-04-30T06:59:15.175Z"
   },
   {
    "duration": 18,
    "start_time": "2022-04-30T07:02:21.117Z"
   },
   {
    "duration": 17,
    "start_time": "2022-04-30T07:04:02.067Z"
   },
   {
    "duration": 29,
    "start_time": "2022-04-30T07:06:16.409Z"
   },
   {
    "duration": 9,
    "start_time": "2022-04-30T07:07:41.015Z"
   },
   {
    "duration": 75,
    "start_time": "2022-04-30T07:07:49.627Z"
   },
   {
    "duration": 26,
    "start_time": "2022-04-30T07:08:20.591Z"
   },
   {
    "duration": 24,
    "start_time": "2022-04-30T07:10:19.415Z"
   },
   {
    "duration": 4,
    "start_time": "2022-04-30T07:10:22.204Z"
   },
   {
    "duration": 4,
    "start_time": "2022-04-30T07:10:25.812Z"
   },
   {
    "duration": 26,
    "start_time": "2022-04-30T07:14:09.480Z"
   },
   {
    "duration": 3,
    "start_time": "2022-04-30T07:14:30.044Z"
   },
   {
    "duration": 50,
    "start_time": "2022-04-30T07:14:30.049Z"
   },
   {
    "duration": 17,
    "start_time": "2022-04-30T07:14:30.100Z"
   },
   {
    "duration": 9,
    "start_time": "2022-04-30T07:14:30.119Z"
   },
   {
    "duration": 9,
    "start_time": "2022-04-30T07:14:30.149Z"
   },
   {
    "duration": 21,
    "start_time": "2022-04-30T07:14:30.159Z"
   },
   {
    "duration": 18,
    "start_time": "2022-04-30T07:14:30.181Z"
   },
   {
    "duration": 4,
    "start_time": "2022-04-30T07:14:30.201Z"
   },
   {
    "duration": 10,
    "start_time": "2022-04-30T07:14:30.206Z"
   },
   {
    "duration": 39,
    "start_time": "2022-04-30T07:14:30.217Z"
   },
   {
    "duration": 6,
    "start_time": "2022-04-30T07:14:30.259Z"
   },
   {
    "duration": 26,
    "start_time": "2022-04-30T07:14:30.266Z"
   },
   {
    "duration": 5,
    "start_time": "2022-04-30T07:14:30.293Z"
   },
   {
    "duration": 13,
    "start_time": "2022-04-30T07:14:30.299Z"
   },
   {
    "duration": 10,
    "start_time": "2022-04-30T07:14:30.313Z"
   },
   {
    "duration": 27,
    "start_time": "2022-04-30T07:14:30.325Z"
   },
   {
    "duration": 7,
    "start_time": "2022-04-30T07:14:30.353Z"
   },
   {
    "duration": 22,
    "start_time": "2022-04-30T07:14:30.361Z"
   },
   {
    "duration": 182,
    "start_time": "2022-04-30T07:14:30.384Z"
   },
   {
    "duration": 28,
    "start_time": "2022-04-30T07:14:30.568Z"
   },
   {
    "duration": 4,
    "start_time": "2022-04-30T07:14:30.597Z"
   },
   {
    "duration": 15,
    "start_time": "2022-04-30T07:14:30.602Z"
   },
   {
    "duration": 14,
    "start_time": "2022-04-30T07:14:30.618Z"
   },
   {
    "duration": 0,
    "start_time": "2022-04-30T07:14:30.633Z"
   },
   {
    "duration": 0,
    "start_time": "2022-04-30T07:14:30.635Z"
   },
   {
    "duration": 0,
    "start_time": "2022-04-30T07:14:30.636Z"
   },
   {
    "duration": 0,
    "start_time": "2022-04-30T07:14:30.648Z"
   },
   {
    "duration": 0,
    "start_time": "2022-04-30T07:14:30.649Z"
   },
   {
    "duration": 0,
    "start_time": "2022-04-30T07:14:30.651Z"
   },
   {
    "duration": 0,
    "start_time": "2022-04-30T07:14:30.652Z"
   },
   {
    "duration": 0,
    "start_time": "2022-04-30T07:14:30.654Z"
   },
   {
    "duration": 0,
    "start_time": "2022-04-30T07:14:30.655Z"
   },
   {
    "duration": 0,
    "start_time": "2022-04-30T07:14:30.656Z"
   },
   {
    "duration": 0,
    "start_time": "2022-04-30T07:14:30.657Z"
   },
   {
    "duration": 0,
    "start_time": "2022-04-30T07:14:30.658Z"
   },
   {
    "duration": 0,
    "start_time": "2022-04-30T07:14:30.659Z"
   },
   {
    "duration": 0,
    "start_time": "2022-04-30T07:14:30.659Z"
   },
   {
    "duration": 0,
    "start_time": "2022-04-30T07:14:30.660Z"
   },
   {
    "duration": 0,
    "start_time": "2022-04-30T07:14:30.661Z"
   },
   {
    "duration": 0,
    "start_time": "2022-04-30T07:14:30.662Z"
   },
   {
    "duration": 0,
    "start_time": "2022-04-30T07:14:30.663Z"
   },
   {
    "duration": 0,
    "start_time": "2022-04-30T07:14:30.664Z"
   },
   {
    "duration": 0,
    "start_time": "2022-04-30T07:14:30.664Z"
   },
   {
    "duration": 0,
    "start_time": "2022-04-30T07:14:30.665Z"
   },
   {
    "duration": 0,
    "start_time": "2022-04-30T07:14:30.666Z"
   },
   {
    "duration": 0,
    "start_time": "2022-04-30T07:14:30.667Z"
   },
   {
    "duration": 0,
    "start_time": "2022-04-30T07:14:30.668Z"
   },
   {
    "duration": 0,
    "start_time": "2022-04-30T07:14:30.669Z"
   },
   {
    "duration": 0,
    "start_time": "2022-04-30T07:14:30.670Z"
   },
   {
    "duration": 0,
    "start_time": "2022-04-30T07:14:30.670Z"
   },
   {
    "duration": 0,
    "start_time": "2022-04-30T07:14:30.671Z"
   },
   {
    "duration": 0,
    "start_time": "2022-04-30T07:14:30.672Z"
   },
   {
    "duration": 0,
    "start_time": "2022-04-30T07:14:30.673Z"
   },
   {
    "duration": 4,
    "start_time": "2022-04-30T07:15:09.555Z"
   },
   {
    "duration": 11,
    "start_time": "2022-04-30T07:15:24.740Z"
   },
   {
    "duration": 332,
    "start_time": "2022-04-30T07:15:26.985Z"
   },
   {
    "duration": 23,
    "start_time": "2022-04-30T07:15:36.306Z"
   },
   {
    "duration": 239,
    "start_time": "2022-04-30T07:15:37.896Z"
   },
   {
    "duration": 197,
    "start_time": "2022-04-30T07:15:41.893Z"
   },
   {
    "duration": 147,
    "start_time": "2022-04-30T07:15:49.209Z"
   },
   {
    "duration": 155,
    "start_time": "2022-04-30T07:16:30.754Z"
   },
   {
    "duration": 8,
    "start_time": "2022-04-30T07:16:51.382Z"
   },
   {
    "duration": 440,
    "start_time": "2022-04-30T07:17:02.165Z"
   },
   {
    "duration": 110,
    "start_time": "2022-04-30T07:17:51.414Z"
   },
   {
    "duration": 132,
    "start_time": "2022-04-30T07:19:05.691Z"
   },
   {
    "duration": 118,
    "start_time": "2022-04-30T07:20:34.995Z"
   },
   {
    "duration": 235,
    "start_time": "2022-04-30T07:21:19.912Z"
   },
   {
    "duration": 356,
    "start_time": "2022-04-30T07:21:29.553Z"
   },
   {
    "duration": 10,
    "start_time": "2022-04-30T07:21:55.986Z"
   },
   {
    "duration": 19,
    "start_time": "2022-04-30T07:22:32.698Z"
   },
   {
    "duration": 368,
    "start_time": "2022-04-30T07:24:20.497Z"
   },
   {
    "duration": 21,
    "start_time": "2022-04-30T07:29:34.265Z"
   },
   {
    "duration": 11,
    "start_time": "2022-04-30T07:29:45.346Z"
   },
   {
    "duration": 13,
    "start_time": "2022-04-30T07:31:01.975Z"
   },
   {
    "duration": 12,
    "start_time": "2022-04-30T07:31:27.545Z"
   },
   {
    "duration": 63,
    "start_time": "2022-04-30T07:31:32.719Z"
   },
   {
    "duration": 174,
    "start_time": "2022-04-30T07:32:05.148Z"
   },
   {
    "duration": 6,
    "start_time": "2022-04-30T07:32:38.215Z"
   },
   {
    "duration": 179,
    "start_time": "2022-04-30T07:32:40.212Z"
   },
   {
    "duration": 178,
    "start_time": "2022-04-30T07:32:48.937Z"
   },
   {
    "duration": 7,
    "start_time": "2022-04-30T07:32:53.743Z"
   },
   {
    "duration": 11,
    "start_time": "2022-04-30T07:32:57.512Z"
   },
   {
    "duration": 10,
    "start_time": "2022-04-30T07:33:27.111Z"
   },
   {
    "duration": 9,
    "start_time": "2022-04-30T07:33:33.588Z"
   },
   {
    "duration": 218,
    "start_time": "2022-04-30T07:33:45.980Z"
   },
   {
    "duration": 210,
    "start_time": "2022-04-30T07:33:51.224Z"
   },
   {
    "duration": 207,
    "start_time": "2022-04-30T07:33:55.581Z"
   },
   {
    "duration": 204,
    "start_time": "2022-04-30T07:34:00.050Z"
   },
   {
    "duration": 433,
    "start_time": "2022-04-30T07:34:04.879Z"
   },
   {
    "duration": 27,
    "start_time": "2022-04-30T07:36:41.030Z"
   },
   {
    "duration": 174,
    "start_time": "2022-04-30T07:38:01.005Z"
   },
   {
    "duration": 5,
    "start_time": "2022-04-30T07:38:31.616Z"
   },
   {
    "duration": 434,
    "start_time": "2022-04-30T07:39:01.367Z"
   },
   {
    "duration": 46,
    "start_time": "2022-04-30T07:41:14.994Z"
   },
   {
    "duration": 892,
    "start_time": "2022-04-30T07:41:57.212Z"
   },
   {
    "duration": 6,
    "start_time": "2022-04-30T07:42:19.530Z"
   },
   {
    "duration": 13,
    "start_time": "2022-04-30T07:42:48.431Z"
   },
   {
    "duration": 3,
    "start_time": "2022-04-30T07:42:52.752Z"
   },
   {
    "duration": 45,
    "start_time": "2022-04-30T07:42:52.757Z"
   },
   {
    "duration": 18,
    "start_time": "2022-04-30T07:42:52.804Z"
   },
   {
    "duration": 4,
    "start_time": "2022-04-30T07:42:52.823Z"
   },
   {
    "duration": 19,
    "start_time": "2022-04-30T07:42:52.829Z"
   },
   {
    "duration": 16,
    "start_time": "2022-04-30T07:42:52.850Z"
   },
   {
    "duration": 17,
    "start_time": "2022-04-30T07:42:52.868Z"
   },
   {
    "duration": 4,
    "start_time": "2022-04-30T07:42:52.887Z"
   },
   {
    "duration": 5,
    "start_time": "2022-04-30T07:42:52.893Z"
   },
   {
    "duration": 13,
    "start_time": "2022-04-30T07:42:52.900Z"
   },
   {
    "duration": 39,
    "start_time": "2022-04-30T07:42:52.914Z"
   },
   {
    "duration": 39,
    "start_time": "2022-04-30T07:42:52.980Z"
   },
   {
    "duration": 901,
    "start_time": "2022-04-30T07:42:53.021Z"
   },
   {
    "duration": 6,
    "start_time": "2022-04-30T07:42:53.924Z"
   },
   {
    "duration": 35,
    "start_time": "2022-04-30T07:42:53.931Z"
   },
   {
    "duration": 5,
    "start_time": "2022-04-30T07:42:53.968Z"
   },
   {
    "duration": 8,
    "start_time": "2022-04-30T07:42:53.974Z"
   },
   {
    "duration": 6,
    "start_time": "2022-04-30T07:42:53.984Z"
   },
   {
    "duration": 17,
    "start_time": "2022-04-30T07:42:53.992Z"
   },
   {
    "duration": 7,
    "start_time": "2022-04-30T07:42:54.011Z"
   },
   {
    "duration": 35,
    "start_time": "2022-04-30T07:42:54.019Z"
   },
   {
    "duration": 187,
    "start_time": "2022-04-30T07:42:54.055Z"
   },
   {
    "duration": 32,
    "start_time": "2022-04-30T07:42:54.247Z"
   },
   {
    "duration": 4,
    "start_time": "2022-04-30T07:42:54.281Z"
   },
   {
    "duration": 8,
    "start_time": "2022-04-30T07:42:54.287Z"
   },
   {
    "duration": 5,
    "start_time": "2022-04-30T07:42:54.297Z"
   },
   {
    "duration": 15,
    "start_time": "2022-04-30T07:42:54.304Z"
   },
   {
    "duration": 423,
    "start_time": "2022-04-30T07:42:54.320Z"
   },
   {
    "duration": 19,
    "start_time": "2022-04-30T07:42:54.744Z"
   },
   {
    "duration": 256,
    "start_time": "2022-04-30T07:42:54.764Z"
   },
   {
    "duration": 302,
    "start_time": "2022-04-30T07:42:55.022Z"
   },
   {
    "duration": 243,
    "start_time": "2022-04-30T07:42:55.325Z"
   },
   {
    "duration": 12,
    "start_time": "2022-04-30T07:42:55.570Z"
   },
   {
    "duration": 82,
    "start_time": "2022-04-30T07:42:55.584Z"
   },
   {
    "duration": 184,
    "start_time": "2022-04-30T07:42:55.669Z"
   },
   {
    "duration": 6,
    "start_time": "2022-04-30T07:42:55.854Z"
   },
   {
    "duration": 182,
    "start_time": "2022-04-30T07:42:55.861Z"
   },
   {
    "duration": 8,
    "start_time": "2022-04-30T07:42:56.044Z"
   },
   {
    "duration": 227,
    "start_time": "2022-04-30T07:42:56.053Z"
   },
   {
    "duration": 227,
    "start_time": "2022-04-30T07:42:56.282Z"
   },
   {
    "duration": 219,
    "start_time": "2022-04-30T07:42:56.511Z"
   },
   {
    "duration": 212,
    "start_time": "2022-04-30T07:42:56.732Z"
   },
   {
    "duration": 10,
    "start_time": "2022-04-30T07:42:56.948Z"
   },
   {
    "duration": 8,
    "start_time": "2022-04-30T07:42:56.960Z"
   },
   {
    "duration": 10,
    "start_time": "2022-04-30T07:42:56.969Z"
   },
   {
    "duration": 182,
    "start_time": "2022-04-30T07:42:56.981Z"
   },
   {
    "duration": 4,
    "start_time": "2022-04-30T07:42:57.165Z"
   },
   {
    "duration": 8,
    "start_time": "2022-04-30T07:42:57.170Z"
   },
   {
    "duration": 5,
    "start_time": "2022-04-30T07:42:57.180Z"
   },
   {
    "duration": 9,
    "start_time": "2022-04-30T07:42:57.187Z"
   },
   {
    "duration": 184,
    "start_time": "2022-04-30T07:42:57.198Z"
   },
   {
    "duration": 4,
    "start_time": "2022-04-30T07:42:57.384Z"
   },
   {
    "duration": 7,
    "start_time": "2022-04-30T07:42:57.389Z"
   },
   {
    "duration": 6,
    "start_time": "2022-04-30T07:42:57.397Z"
   },
   {
    "duration": 9,
    "start_time": "2022-04-30T07:45:36.092Z"
   },
   {
    "duration": 7,
    "start_time": "2022-04-30T07:45:41.617Z"
   },
   {
    "duration": 1910,
    "start_time": "2022-04-30T07:46:02.063Z"
   },
   {
    "duration": 1714,
    "start_time": "2022-04-30T07:46:24.375Z"
   },
   {
    "duration": 12,
    "start_time": "2022-04-30T07:46:47.580Z"
   },
   {
    "duration": 8,
    "start_time": "2022-04-30T07:47:41.505Z"
   },
   {
    "duration": 4,
    "start_time": "2022-04-30T07:48:41.129Z"
   },
   {
    "duration": 4,
    "start_time": "2022-04-30T07:48:45.808Z"
   },
   {
    "duration": 8,
    "start_time": "2022-04-30T07:48:58.432Z"
   },
   {
    "duration": 11,
    "start_time": "2022-04-30T07:49:19.882Z"
   },
   {
    "duration": 965,
    "start_time": "2022-04-30T07:50:28.175Z"
   },
   {
    "duration": 6,
    "start_time": "2022-04-30T07:50:36.550Z"
   },
   {
    "duration": 6,
    "start_time": "2022-04-30T07:51:47.951Z"
   },
   {
    "duration": 13,
    "start_time": "2022-04-30T07:51:58.513Z"
   },
   {
    "duration": 10,
    "start_time": "2022-04-30T07:52:03.088Z"
   },
   {
    "duration": 10,
    "start_time": "2022-04-30T07:52:17.732Z"
   },
   {
    "duration": 435,
    "start_time": "2022-04-30T07:52:35.012Z"
   },
   {
    "duration": 12,
    "start_time": "2022-04-30T07:52:47.947Z"
   },
   {
    "duration": 10,
    "start_time": "2022-04-30T07:52:51.066Z"
   },
   {
    "duration": 27,
    "start_time": "2022-04-30T07:52:58.908Z"
   },
   {
    "duration": 15,
    "start_time": "2022-04-30T07:53:39.418Z"
   },
   {
    "duration": 25,
    "start_time": "2022-04-30T07:53:43.101Z"
   },
   {
    "duration": 11,
    "start_time": "2022-04-30T07:53:53.046Z"
   },
   {
    "duration": 10,
    "start_time": "2022-04-30T07:54:16.631Z"
   },
   {
    "duration": 3,
    "start_time": "2022-04-30T07:54:54.093Z"
   },
   {
    "duration": 50,
    "start_time": "2022-04-30T07:54:54.098Z"
   },
   {
    "duration": 17,
    "start_time": "2022-04-30T07:54:54.150Z"
   },
   {
    "duration": 6,
    "start_time": "2022-04-30T07:54:54.169Z"
   },
   {
    "duration": 6,
    "start_time": "2022-04-30T07:54:54.177Z"
   },
   {
    "duration": 21,
    "start_time": "2022-04-30T07:54:54.184Z"
   },
   {
    "duration": 42,
    "start_time": "2022-04-30T07:54:54.207Z"
   },
   {
    "duration": 4,
    "start_time": "2022-04-30T07:54:54.251Z"
   },
   {
    "duration": 7,
    "start_time": "2022-04-30T07:54:54.257Z"
   },
   {
    "duration": 13,
    "start_time": "2022-04-30T07:54:54.266Z"
   },
   {
    "duration": 10,
    "start_time": "2022-04-30T07:54:54.281Z"
   },
   {
    "duration": 66,
    "start_time": "2022-04-30T07:54:54.293Z"
   },
   {
    "duration": 873,
    "start_time": "2022-04-30T07:54:54.362Z"
   },
   {
    "duration": 11,
    "start_time": "2022-04-30T07:54:55.237Z"
   },
   {
    "duration": 24,
    "start_time": "2022-04-30T07:54:55.250Z"
   },
   {
    "duration": 5,
    "start_time": "2022-04-30T07:54:55.276Z"
   },
   {
    "duration": 6,
    "start_time": "2022-04-30T07:54:55.282Z"
   },
   {
    "duration": 8,
    "start_time": "2022-04-30T07:54:55.289Z"
   },
   {
    "duration": 17,
    "start_time": "2022-04-30T07:54:55.298Z"
   },
   {
    "duration": 32,
    "start_time": "2022-04-30T07:54:55.317Z"
   },
   {
    "duration": 13,
    "start_time": "2022-04-30T07:54:55.351Z"
   },
   {
    "duration": 183,
    "start_time": "2022-04-30T07:54:55.366Z"
   },
   {
    "duration": 29,
    "start_time": "2022-04-30T07:54:55.551Z"
   },
   {
    "duration": 3,
    "start_time": "2022-04-30T07:54:55.582Z"
   },
   {
    "duration": 6,
    "start_time": "2022-04-30T07:54:55.587Z"
   },
   {
    "duration": 8,
    "start_time": "2022-04-30T07:54:55.594Z"
   },
   {
    "duration": 14,
    "start_time": "2022-04-30T07:54:55.603Z"
   },
   {
    "duration": 350,
    "start_time": "2022-04-30T07:54:55.619Z"
   },
   {
    "duration": 17,
    "start_time": "2022-04-30T07:54:55.971Z"
   },
   {
    "duration": 260,
    "start_time": "2022-04-30T07:54:55.990Z"
   },
   {
    "duration": 206,
    "start_time": "2022-04-30T07:54:56.252Z"
   },
   {
    "duration": 236,
    "start_time": "2022-04-30T07:54:56.459Z"
   },
   {
    "duration": 12,
    "start_time": "2022-04-30T07:54:56.697Z"
   },
   {
    "duration": 74,
    "start_time": "2022-04-30T07:54:56.711Z"
   },
   {
    "duration": 181,
    "start_time": "2022-04-30T07:54:56.787Z"
   },
   {
    "duration": 5,
    "start_time": "2022-04-30T07:54:56.970Z"
   },
   {
    "duration": 185,
    "start_time": "2022-04-30T07:54:56.979Z"
   },
   {
    "duration": 6,
    "start_time": "2022-04-30T07:54:57.166Z"
   },
   {
    "duration": 230,
    "start_time": "2022-04-30T07:54:57.174Z"
   },
   {
    "duration": 228,
    "start_time": "2022-04-30T07:54:57.406Z"
   },
   {
    "duration": 231,
    "start_time": "2022-04-30T07:54:57.636Z"
   },
   {
    "duration": 249,
    "start_time": "2022-04-30T07:54:57.869Z"
   },
   {
    "duration": 14,
    "start_time": "2022-04-30T07:54:58.120Z"
   },
   {
    "duration": 21,
    "start_time": "2022-04-30T07:54:58.135Z"
   },
   {
    "duration": 0,
    "start_time": "2022-04-30T07:54:58.157Z"
   },
   {
    "duration": 0,
    "start_time": "2022-04-30T07:54:58.158Z"
   },
   {
    "duration": 0,
    "start_time": "2022-04-30T07:54:58.160Z"
   },
   {
    "duration": 0,
    "start_time": "2022-04-30T07:54:58.161Z"
   },
   {
    "duration": 0,
    "start_time": "2022-04-30T07:54:58.162Z"
   },
   {
    "duration": 0,
    "start_time": "2022-04-30T07:54:58.163Z"
   },
   {
    "duration": 0,
    "start_time": "2022-04-30T07:54:58.164Z"
   },
   {
    "duration": 0,
    "start_time": "2022-04-30T07:54:58.165Z"
   },
   {
    "duration": 0,
    "start_time": "2022-04-30T07:54:58.166Z"
   },
   {
    "duration": 0,
    "start_time": "2022-04-30T07:54:58.167Z"
   },
   {
    "duration": 14,
    "start_time": "2022-04-30T07:58:24.255Z"
   },
   {
    "duration": 11,
    "start_time": "2022-04-30T07:58:28.458Z"
   },
   {
    "duration": 11,
    "start_time": "2022-04-30T07:58:47.338Z"
   },
   {
    "duration": 10,
    "start_time": "2022-04-30T07:58:59.588Z"
   },
   {
    "duration": 10,
    "start_time": "2022-04-30T07:59:17.616Z"
   },
   {
    "duration": 545,
    "start_time": "2022-04-30T08:00:07.477Z"
   },
   {
    "duration": 975,
    "start_time": "2022-04-30T08:01:13.487Z"
   },
   {
    "duration": 3,
    "start_time": "2022-04-30T08:01:18.380Z"
   },
   {
    "duration": 53,
    "start_time": "2022-04-30T08:01:18.385Z"
   },
   {
    "duration": 19,
    "start_time": "2022-04-30T08:01:18.439Z"
   },
   {
    "duration": 3,
    "start_time": "2022-04-30T08:01:18.460Z"
   },
   {
    "duration": 7,
    "start_time": "2022-04-30T08:01:18.465Z"
   },
   {
    "duration": 22,
    "start_time": "2022-04-30T08:01:18.473Z"
   },
   {
    "duration": 19,
    "start_time": "2022-04-30T08:01:18.497Z"
   },
   {
    "duration": 5,
    "start_time": "2022-04-30T08:01:18.547Z"
   },
   {
    "duration": 6,
    "start_time": "2022-04-30T08:01:18.554Z"
   },
   {
    "duration": 16,
    "start_time": "2022-04-30T08:01:18.562Z"
   },
   {
    "duration": 8,
    "start_time": "2022-04-30T08:01:18.580Z"
   },
   {
    "duration": 67,
    "start_time": "2022-04-30T08:01:18.589Z"
   },
   {
    "duration": 1052,
    "start_time": "2022-04-30T08:01:18.658Z"
   },
   {
    "duration": 6,
    "start_time": "2022-04-30T08:01:19.712Z"
   },
   {
    "duration": 33,
    "start_time": "2022-04-30T08:01:19.720Z"
   },
   {
    "duration": 5,
    "start_time": "2022-04-30T08:01:19.755Z"
   },
   {
    "duration": 8,
    "start_time": "2022-04-30T08:01:19.761Z"
   },
   {
    "duration": 8,
    "start_time": "2022-04-30T08:01:19.770Z"
   },
   {
    "duration": 19,
    "start_time": "2022-04-30T08:01:19.780Z"
   },
   {
    "duration": 6,
    "start_time": "2022-04-30T08:01:19.801Z"
   },
   {
    "duration": 40,
    "start_time": "2022-04-30T08:01:19.808Z"
   },
   {
    "duration": 190,
    "start_time": "2022-04-30T08:01:19.850Z"
   },
   {
    "duration": 37,
    "start_time": "2022-04-30T08:01:20.041Z"
   },
   {
    "duration": 3,
    "start_time": "2022-04-30T08:01:20.080Z"
   },
   {
    "duration": 8,
    "start_time": "2022-04-30T08:01:20.085Z"
   },
   {
    "duration": 6,
    "start_time": "2022-04-30T08:01:20.094Z"
   },
   {
    "duration": 13,
    "start_time": "2022-04-30T08:01:20.101Z"
   },
   {
    "duration": 372,
    "start_time": "2022-04-30T08:01:20.117Z"
   },
   {
    "duration": 22,
    "start_time": "2022-04-30T08:01:20.490Z"
   },
   {
    "duration": 267,
    "start_time": "2022-04-30T08:01:20.513Z"
   },
   {
    "duration": 225,
    "start_time": "2022-04-30T08:01:20.782Z"
   },
   {
    "duration": 250,
    "start_time": "2022-04-30T08:01:21.008Z"
   },
   {
    "duration": 12,
    "start_time": "2022-04-30T08:01:21.260Z"
   },
   {
    "duration": 83,
    "start_time": "2022-04-30T08:01:21.274Z"
   },
   {
    "duration": 182,
    "start_time": "2022-04-30T08:01:21.359Z"
   },
   {
    "duration": 6,
    "start_time": "2022-04-30T08:01:21.542Z"
   },
   {
    "duration": 177,
    "start_time": "2022-04-30T08:01:21.550Z"
   },
   {
    "duration": 7,
    "start_time": "2022-04-30T08:01:21.728Z"
   },
   {
    "duration": 220,
    "start_time": "2022-04-30T08:01:21.747Z"
   },
   {
    "duration": 217,
    "start_time": "2022-04-30T08:01:21.969Z"
   },
   {
    "duration": 224,
    "start_time": "2022-04-30T08:01:22.187Z"
   },
   {
    "duration": 349,
    "start_time": "2022-04-30T08:01:22.412Z"
   },
   {
    "duration": 15,
    "start_time": "2022-04-30T08:01:22.763Z"
   },
   {
    "duration": 8,
    "start_time": "2022-04-30T08:01:22.779Z"
   },
   {
    "duration": 10,
    "start_time": "2022-04-30T08:01:22.788Z"
   },
   {
    "duration": 9,
    "start_time": "2022-04-30T08:01:22.799Z"
   },
   {
    "duration": 38,
    "start_time": "2022-04-30T08:01:22.809Z"
   },
   {
    "duration": 168,
    "start_time": "2022-04-30T08:01:22.849Z"
   },
   {
    "duration": 4,
    "start_time": "2022-04-30T08:01:23.018Z"
   },
   {
    "duration": 6,
    "start_time": "2022-04-30T08:01:23.024Z"
   },
   {
    "duration": 17,
    "start_time": "2022-04-30T08:01:23.032Z"
   },
   {
    "duration": 8,
    "start_time": "2022-04-30T08:01:23.050Z"
   },
   {
    "duration": 169,
    "start_time": "2022-04-30T08:01:23.059Z"
   },
   {
    "duration": 3,
    "start_time": "2022-04-30T08:01:23.230Z"
   },
   {
    "duration": 14,
    "start_time": "2022-04-30T08:01:23.234Z"
   },
   {
    "duration": 6,
    "start_time": "2022-04-30T08:01:23.250Z"
   },
   {
    "duration": 8,
    "start_time": "2022-04-30T08:01:33.299Z"
   },
   {
    "duration": 9,
    "start_time": "2022-04-30T08:01:35.683Z"
   },
   {
    "duration": 9,
    "start_time": "2022-04-30T08:01:49.803Z"
   },
   {
    "duration": 8,
    "start_time": "2022-04-30T08:02:01.233Z"
   },
   {
    "duration": 164,
    "start_time": "2022-04-30T08:02:04.864Z"
   },
   {
    "duration": 4,
    "start_time": "2022-04-30T08:02:11.745Z"
   },
   {
    "duration": 3,
    "start_time": "2022-04-30T08:02:17.197Z"
   },
   {
    "duration": 45,
    "start_time": "2022-04-30T08:02:17.203Z"
   },
   {
    "duration": 24,
    "start_time": "2022-04-30T08:02:17.250Z"
   },
   {
    "duration": 6,
    "start_time": "2022-04-30T08:02:17.277Z"
   },
   {
    "duration": 6,
    "start_time": "2022-04-30T08:02:17.285Z"
   },
   {
    "duration": 19,
    "start_time": "2022-04-30T08:02:17.293Z"
   },
   {
    "duration": 55,
    "start_time": "2022-04-30T08:02:17.314Z"
   },
   {
    "duration": 6,
    "start_time": "2022-04-30T08:02:17.371Z"
   },
   {
    "duration": 5,
    "start_time": "2022-04-30T08:02:17.380Z"
   },
   {
    "duration": 15,
    "start_time": "2022-04-30T08:02:17.386Z"
   },
   {
    "duration": 45,
    "start_time": "2022-04-30T08:02:17.403Z"
   },
   {
    "duration": 43,
    "start_time": "2022-04-30T08:02:17.450Z"
   },
   {
    "duration": 1178,
    "start_time": "2022-04-30T08:02:17.495Z"
   },
   {
    "duration": 6,
    "start_time": "2022-04-30T08:02:18.675Z"
   },
   {
    "duration": 23,
    "start_time": "2022-04-30T08:02:18.683Z"
   },
   {
    "duration": 5,
    "start_time": "2022-04-30T08:02:18.708Z"
   },
   {
    "duration": 5,
    "start_time": "2022-04-30T08:02:18.715Z"
   },
   {
    "duration": 9,
    "start_time": "2022-04-30T08:02:18.747Z"
   },
   {
    "duration": 26,
    "start_time": "2022-04-30T08:02:18.759Z"
   },
   {
    "duration": 6,
    "start_time": "2022-04-30T08:02:18.787Z"
   },
   {
    "duration": 13,
    "start_time": "2022-04-30T08:02:18.795Z"
   },
   {
    "duration": 214,
    "start_time": "2022-04-30T08:02:18.810Z"
   },
   {
    "duration": 50,
    "start_time": "2022-04-30T08:02:19.026Z"
   },
   {
    "duration": 4,
    "start_time": "2022-04-30T08:02:19.079Z"
   },
   {
    "duration": 9,
    "start_time": "2022-04-30T08:02:19.085Z"
   },
   {
    "duration": 6,
    "start_time": "2022-04-30T08:02:19.096Z"
   },
   {
    "duration": 16,
    "start_time": "2022-04-30T08:02:19.104Z"
   },
   {
    "duration": 379,
    "start_time": "2022-04-30T08:02:19.122Z"
   },
   {
    "duration": 20,
    "start_time": "2022-04-30T08:02:19.503Z"
   },
   {
    "duration": 272,
    "start_time": "2022-04-30T08:02:19.524Z"
   },
   {
    "duration": 218,
    "start_time": "2022-04-30T08:02:19.797Z"
   },
   {
    "duration": 253,
    "start_time": "2022-04-30T08:02:20.016Z"
   },
   {
    "duration": 12,
    "start_time": "2022-04-30T08:02:20.271Z"
   },
   {
    "duration": 86,
    "start_time": "2022-04-30T08:02:20.285Z"
   },
   {
    "duration": 184,
    "start_time": "2022-04-30T08:02:20.372Z"
   },
   {
    "duration": 6,
    "start_time": "2022-04-30T08:02:20.558Z"
   },
   {
    "duration": 187,
    "start_time": "2022-04-30T08:02:20.565Z"
   },
   {
    "duration": 7,
    "start_time": "2022-04-30T08:02:20.754Z"
   },
   {
    "duration": 234,
    "start_time": "2022-04-30T08:02:20.762Z"
   },
   {
    "duration": 227,
    "start_time": "2022-04-30T08:02:20.999Z"
   },
   {
    "duration": 222,
    "start_time": "2022-04-30T08:02:21.228Z"
   },
   {
    "duration": 208,
    "start_time": "2022-04-30T08:02:21.452Z"
   },
   {
    "duration": 16,
    "start_time": "2022-04-30T08:02:21.662Z"
   },
   {
    "duration": 8,
    "start_time": "2022-04-30T08:02:21.680Z"
   },
   {
    "duration": 11,
    "start_time": "2022-04-30T08:02:21.690Z"
   },
   {
    "duration": 10,
    "start_time": "2022-04-30T08:02:21.702Z"
   },
   {
    "duration": 197,
    "start_time": "2022-04-30T08:02:21.713Z"
   },
   {
    "duration": 4,
    "start_time": "2022-04-30T08:02:21.912Z"
   },
   {
    "duration": 7,
    "start_time": "2022-04-30T08:02:21.917Z"
   },
   {
    "duration": 6,
    "start_time": "2022-04-30T08:02:21.926Z"
   },
   {
    "duration": 8,
    "start_time": "2022-04-30T08:02:21.948Z"
   },
   {
    "duration": 168,
    "start_time": "2022-04-30T08:02:21.957Z"
   },
   {
    "duration": 5,
    "start_time": "2022-04-30T08:02:22.127Z"
   },
   {
    "duration": 18,
    "start_time": "2022-04-30T08:02:22.133Z"
   },
   {
    "duration": 7,
    "start_time": "2022-04-30T08:02:22.152Z"
   },
   {
    "duration": 8,
    "start_time": "2022-04-30T08:05:03.025Z"
   },
   {
    "duration": 153,
    "start_time": "2022-04-30T08:05:05.162Z"
   },
   {
    "duration": 4,
    "start_time": "2022-04-30T08:05:08.536Z"
   },
   {
    "duration": 4,
    "start_time": "2022-04-30T08:05:11.059Z"
   },
   {
    "duration": 4,
    "start_time": "2022-04-30T08:05:34.121Z"
   },
   {
    "duration": 5,
    "start_time": "2022-04-30T08:05:36.878Z"
   },
   {
    "duration": 1066,
    "start_time": "2022-04-30T08:06:44.014Z"
   },
   {
    "duration": 45,
    "start_time": "2022-04-30T08:06:45.081Z"
   },
   {
    "duration": 27,
    "start_time": "2022-04-30T08:06:45.128Z"
   },
   {
    "duration": 5,
    "start_time": "2022-04-30T08:06:45.157Z"
   },
   {
    "duration": 8,
    "start_time": "2022-04-30T08:06:45.164Z"
   },
   {
    "duration": 18,
    "start_time": "2022-04-30T08:06:45.173Z"
   },
   {
    "duration": 20,
    "start_time": "2022-04-30T08:06:45.192Z"
   },
   {
    "duration": 5,
    "start_time": "2022-04-30T08:06:45.213Z"
   },
   {
    "duration": 30,
    "start_time": "2022-04-30T08:06:45.219Z"
   },
   {
    "duration": 20,
    "start_time": "2022-04-30T08:06:45.250Z"
   },
   {
    "duration": 12,
    "start_time": "2022-04-30T08:06:45.271Z"
   },
   {
    "duration": 38,
    "start_time": "2022-04-30T08:06:45.284Z"
   },
   {
    "duration": 861,
    "start_time": "2022-04-30T08:06:45.323Z"
   },
   {
    "duration": 5,
    "start_time": "2022-04-30T08:06:46.187Z"
   },
   {
    "duration": 22,
    "start_time": "2022-04-30T08:06:46.194Z"
   },
   {
    "duration": 5,
    "start_time": "2022-04-30T08:06:46.218Z"
   },
   {
    "duration": 23,
    "start_time": "2022-04-30T08:06:46.224Z"
   },
   {
    "duration": 6,
    "start_time": "2022-04-30T08:06:46.249Z"
   },
   {
    "duration": 17,
    "start_time": "2022-04-30T08:06:46.257Z"
   },
   {
    "duration": 6,
    "start_time": "2022-04-30T08:06:46.276Z"
   },
   {
    "duration": 14,
    "start_time": "2022-04-30T08:06:46.284Z"
   },
   {
    "duration": 218,
    "start_time": "2022-04-30T08:06:46.299Z"
   },
   {
    "duration": 38,
    "start_time": "2022-04-30T08:06:46.518Z"
   },
   {
    "duration": 3,
    "start_time": "2022-04-30T08:06:46.558Z"
   },
   {
    "duration": 5,
    "start_time": "2022-04-30T08:06:46.563Z"
   },
   {
    "duration": 5,
    "start_time": "2022-04-30T08:06:46.569Z"
   },
   {
    "duration": 14,
    "start_time": "2022-04-30T08:06:46.575Z"
   },
   {
    "duration": 364,
    "start_time": "2022-04-30T08:06:46.590Z"
   },
   {
    "duration": 20,
    "start_time": "2022-04-30T08:06:46.955Z"
   },
   {
    "duration": 264,
    "start_time": "2022-04-30T08:06:46.977Z"
   },
   {
    "duration": 277,
    "start_time": "2022-04-30T08:06:47.243Z"
   },
   {
    "duration": 244,
    "start_time": "2022-04-30T08:06:47.522Z"
   },
   {
    "duration": 13,
    "start_time": "2022-04-30T08:06:47.767Z"
   },
   {
    "duration": 78,
    "start_time": "2022-04-30T08:06:47.782Z"
   },
   {
    "duration": 180,
    "start_time": "2022-04-30T08:06:47.862Z"
   },
   {
    "duration": 6,
    "start_time": "2022-04-30T08:06:48.047Z"
   },
   {
    "duration": 180,
    "start_time": "2022-04-30T08:06:48.055Z"
   },
   {
    "duration": 11,
    "start_time": "2022-04-30T08:06:48.237Z"
   },
   {
    "duration": 221,
    "start_time": "2022-04-30T08:06:48.250Z"
   },
   {
    "duration": 212,
    "start_time": "2022-04-30T08:06:48.473Z"
   },
   {
    "duration": 222,
    "start_time": "2022-04-30T08:06:48.690Z"
   },
   {
    "duration": 205,
    "start_time": "2022-04-30T08:06:48.914Z"
   },
   {
    "duration": 16,
    "start_time": "2022-04-30T08:06:49.121Z"
   },
   {
    "duration": 8,
    "start_time": "2022-04-30T08:06:49.148Z"
   },
   {
    "duration": 14,
    "start_time": "2022-04-30T08:06:49.157Z"
   },
   {
    "duration": 7,
    "start_time": "2022-04-30T08:06:49.173Z"
   },
   {
    "duration": 177,
    "start_time": "2022-04-30T08:06:49.181Z"
   },
   {
    "duration": 4,
    "start_time": "2022-04-30T08:06:49.360Z"
   },
   {
    "duration": 6,
    "start_time": "2022-04-30T08:06:49.365Z"
   },
   {
    "duration": 6,
    "start_time": "2022-04-30T08:06:49.372Z"
   },
   {
    "duration": 8,
    "start_time": "2022-04-30T08:06:49.380Z"
   },
   {
    "duration": 177,
    "start_time": "2022-04-30T08:06:49.389Z"
   },
   {
    "duration": 4,
    "start_time": "2022-04-30T08:06:49.567Z"
   },
   {
    "duration": 4,
    "start_time": "2022-04-30T08:06:49.573Z"
   },
   {
    "duration": 5,
    "start_time": "2022-04-30T08:06:49.579Z"
   },
   {
    "duration": 1123,
    "start_time": "2022-04-30T12:26:38.658Z"
   },
   {
    "duration": 52,
    "start_time": "2022-04-30T12:26:39.783Z"
   },
   {
    "duration": 24,
    "start_time": "2022-04-30T12:26:39.836Z"
   },
   {
    "duration": 3,
    "start_time": "2022-04-30T12:26:39.862Z"
   },
   {
    "duration": 8,
    "start_time": "2022-04-30T12:26:39.867Z"
   },
   {
    "duration": 22,
    "start_time": "2022-04-30T12:26:39.876Z"
   },
   {
    "duration": 45,
    "start_time": "2022-04-30T12:26:39.900Z"
   },
   {
    "duration": 6,
    "start_time": "2022-04-30T12:26:39.947Z"
   },
   {
    "duration": 7,
    "start_time": "2022-04-30T12:26:39.954Z"
   },
   {
    "duration": 14,
    "start_time": "2022-04-30T12:26:39.964Z"
   },
   {
    "duration": 10,
    "start_time": "2022-04-30T12:26:39.979Z"
   },
   {
    "duration": 80,
    "start_time": "2022-04-30T12:26:39.991Z"
   },
   {
    "duration": 921,
    "start_time": "2022-04-30T12:26:40.072Z"
   },
   {
    "duration": 8,
    "start_time": "2022-04-30T12:26:40.995Z"
   },
   {
    "duration": 38,
    "start_time": "2022-04-30T12:26:41.004Z"
   },
   {
    "duration": 5,
    "start_time": "2022-04-30T12:26:41.044Z"
   },
   {
    "duration": 10,
    "start_time": "2022-04-30T12:26:41.050Z"
   },
   {
    "duration": 9,
    "start_time": "2022-04-30T12:26:41.062Z"
   },
   {
    "duration": 19,
    "start_time": "2022-04-30T12:26:41.072Z"
   },
   {
    "duration": 7,
    "start_time": "2022-04-30T12:26:41.093Z"
   },
   {
    "duration": 39,
    "start_time": "2022-04-30T12:26:41.101Z"
   },
   {
    "duration": 223,
    "start_time": "2022-04-30T12:26:41.142Z"
   },
   {
    "duration": 30,
    "start_time": "2022-04-30T12:26:41.367Z"
   },
   {
    "duration": 3,
    "start_time": "2022-04-30T12:26:41.399Z"
   },
   {
    "duration": 6,
    "start_time": "2022-04-30T12:26:41.404Z"
   },
   {
    "duration": 25,
    "start_time": "2022-04-30T12:26:41.411Z"
   },
   {
    "duration": 14,
    "start_time": "2022-04-30T12:26:41.437Z"
   },
   {
    "duration": 422,
    "start_time": "2022-04-30T12:26:41.455Z"
   },
   {
    "duration": 21,
    "start_time": "2022-04-30T12:26:41.878Z"
   },
   {
    "duration": 315,
    "start_time": "2022-04-30T12:26:41.901Z"
   },
   {
    "duration": 303,
    "start_time": "2022-04-30T12:26:42.218Z"
   },
   {
    "duration": 276,
    "start_time": "2022-04-30T12:26:42.522Z"
   },
   {
    "duration": 15,
    "start_time": "2022-04-30T12:26:42.800Z"
   },
   {
    "duration": 69,
    "start_time": "2022-04-30T12:26:42.833Z"
   },
   {
    "duration": 211,
    "start_time": "2022-04-30T12:26:42.903Z"
   },
   {
    "duration": 6,
    "start_time": "2022-04-30T12:26:43.116Z"
   },
   {
    "duration": 214,
    "start_time": "2022-04-30T12:26:43.124Z"
   },
   {
    "duration": 7,
    "start_time": "2022-04-30T12:26:43.340Z"
   },
   {
    "duration": 268,
    "start_time": "2022-04-30T12:26:43.349Z"
   },
   {
    "duration": 255,
    "start_time": "2022-04-30T12:26:43.618Z"
   },
   {
    "duration": 252,
    "start_time": "2022-04-30T12:26:43.874Z"
   },
   {
    "duration": 241,
    "start_time": "2022-04-30T12:26:44.127Z"
   },
   {
    "duration": 17,
    "start_time": "2022-04-30T12:26:44.370Z"
   },
   {
    "duration": 9,
    "start_time": "2022-04-30T12:26:44.388Z"
   },
   {
    "duration": 12,
    "start_time": "2022-04-30T12:26:44.398Z"
   },
   {
    "duration": 29,
    "start_time": "2022-04-30T12:26:44.411Z"
   },
   {
    "duration": 218,
    "start_time": "2022-04-30T12:26:44.442Z"
   },
   {
    "duration": 5,
    "start_time": "2022-04-30T12:26:44.662Z"
   },
   {
    "duration": 7,
    "start_time": "2022-04-30T12:26:44.668Z"
   },
   {
    "duration": 7,
    "start_time": "2022-04-30T12:26:44.677Z"
   },
   {
    "duration": 11,
    "start_time": "2022-04-30T12:26:44.686Z"
   },
   {
    "duration": 220,
    "start_time": "2022-04-30T12:26:44.700Z"
   },
   {
    "duration": 12,
    "start_time": "2022-04-30T12:26:44.922Z"
   },
   {
    "duration": 4,
    "start_time": "2022-04-30T12:26:44.936Z"
   },
   {
    "duration": 8,
    "start_time": "2022-04-30T12:26:44.943Z"
   },
   {
    "duration": 154,
    "start_time": "2022-04-30T12:28:14.629Z"
   },
   {
    "duration": 24,
    "start_time": "2022-04-30T12:28:34.333Z"
   },
   {
    "duration": 169,
    "start_time": "2022-04-30T12:28:58.184Z"
   },
   {
    "duration": 164,
    "start_time": "2022-04-30T12:59:23.087Z"
   },
   {
    "duration": 1226,
    "start_time": "2022-05-01T10:31:34.313Z"
   },
   {
    "duration": 50,
    "start_time": "2022-05-01T10:31:35.541Z"
   },
   {
    "duration": 21,
    "start_time": "2022-05-01T10:31:35.593Z"
   },
   {
    "duration": 3,
    "start_time": "2022-05-01T10:31:35.616Z"
   },
   {
    "duration": 7,
    "start_time": "2022-05-01T10:31:35.621Z"
   },
   {
    "duration": 37,
    "start_time": "2022-05-01T10:31:35.629Z"
   },
   {
    "duration": 31,
    "start_time": "2022-05-01T10:31:35.668Z"
   },
   {
    "duration": 5,
    "start_time": "2022-05-01T10:31:35.700Z"
   },
   {
    "duration": 20,
    "start_time": "2022-05-01T10:31:35.707Z"
   },
   {
    "duration": 17,
    "start_time": "2022-05-01T10:31:35.730Z"
   },
   {
    "duration": 27,
    "start_time": "2022-05-01T10:31:35.749Z"
   },
   {
    "duration": 50,
    "start_time": "2022-05-01T10:31:35.777Z"
   },
   {
    "duration": 884,
    "start_time": "2022-05-01T10:31:35.828Z"
   },
   {
    "duration": 6,
    "start_time": "2022-05-01T10:31:36.714Z"
   },
   {
    "duration": 32,
    "start_time": "2022-05-01T10:31:36.721Z"
   },
   {
    "duration": 4,
    "start_time": "2022-05-01T10:31:36.755Z"
   },
   {
    "duration": 10,
    "start_time": "2022-05-01T10:31:36.761Z"
   },
   {
    "duration": 10,
    "start_time": "2022-05-01T10:31:36.773Z"
   },
   {
    "duration": 18,
    "start_time": "2022-05-01T10:31:36.793Z"
   },
   {
    "duration": 18,
    "start_time": "2022-05-01T10:31:36.812Z"
   },
   {
    "duration": 14,
    "start_time": "2022-05-01T10:31:36.832Z"
   },
   {
    "duration": 210,
    "start_time": "2022-05-01T10:31:36.847Z"
   },
   {
    "duration": 40,
    "start_time": "2022-05-01T10:31:37.059Z"
   },
   {
    "duration": 4,
    "start_time": "2022-05-01T10:31:37.101Z"
   },
   {
    "duration": 18,
    "start_time": "2022-05-01T10:31:37.106Z"
   },
   {
    "duration": 19,
    "start_time": "2022-05-01T10:31:37.126Z"
   },
   {
    "duration": 27,
    "start_time": "2022-05-01T10:31:37.147Z"
   },
   {
    "duration": 371,
    "start_time": "2022-05-01T10:31:37.178Z"
   },
   {
    "duration": 20,
    "start_time": "2022-05-01T10:31:37.551Z"
   },
   {
    "duration": 279,
    "start_time": "2022-05-01T10:31:37.573Z"
   },
   {
    "duration": 277,
    "start_time": "2022-05-01T10:31:37.854Z"
   },
   {
    "duration": 304,
    "start_time": "2022-05-01T10:31:38.133Z"
   },
   {
    "duration": 16,
    "start_time": "2022-05-01T10:31:38.439Z"
   },
   {
    "duration": 69,
    "start_time": "2022-05-01T10:31:38.456Z"
   },
   {
    "duration": 298,
    "start_time": "2022-05-01T10:31:38.526Z"
   },
   {
    "duration": 7,
    "start_time": "2022-05-01T10:31:38.826Z"
   },
   {
    "duration": 282,
    "start_time": "2022-05-01T10:31:38.835Z"
   },
   {
    "duration": 8,
    "start_time": "2022-05-01T10:31:39.119Z"
   },
   {
    "duration": 261,
    "start_time": "2022-05-01T10:31:39.128Z"
   },
   {
    "duration": 245,
    "start_time": "2022-05-01T10:31:39.392Z"
   },
   {
    "duration": 253,
    "start_time": "2022-05-01T10:31:39.639Z"
   },
   {
    "duration": 226,
    "start_time": "2022-05-01T10:31:39.895Z"
   },
   {
    "duration": 17,
    "start_time": "2022-05-01T10:31:40.123Z"
   },
   {
    "duration": 7,
    "start_time": "2022-05-01T10:31:40.142Z"
   },
   {
    "duration": 10,
    "start_time": "2022-05-01T10:31:40.151Z"
   },
   {
    "duration": 30,
    "start_time": "2022-05-01T10:31:40.163Z"
   },
   {
    "duration": 183,
    "start_time": "2022-05-01T10:31:40.195Z"
   },
   {
    "duration": 4,
    "start_time": "2022-05-01T10:31:40.380Z"
   },
   {
    "duration": 4,
    "start_time": "2022-05-01T10:31:40.393Z"
   },
   {
    "duration": 6,
    "start_time": "2022-05-01T10:31:40.398Z"
   },
   {
    "duration": 8,
    "start_time": "2022-05-01T10:31:40.406Z"
   },
   {
    "duration": 183,
    "start_time": "2022-05-01T10:31:40.416Z"
   },
   {
    "duration": 4,
    "start_time": "2022-05-01T10:31:40.601Z"
   },
   {
    "duration": 6,
    "start_time": "2022-05-01T10:31:40.607Z"
   },
   {
    "duration": 5,
    "start_time": "2022-05-01T10:31:40.614Z"
   },
   {
    "duration": 33,
    "start_time": "2022-05-01T10:54:27.663Z"
   },
   {
    "duration": 2,
    "start_time": "2022-05-01T10:54:33.228Z"
   },
   {
    "duration": 52,
    "start_time": "2022-05-01T10:54:33.241Z"
   },
   {
    "duration": 22,
    "start_time": "2022-05-01T10:54:33.295Z"
   },
   {
    "duration": 6,
    "start_time": "2022-05-01T10:54:33.319Z"
   },
   {
    "duration": 6,
    "start_time": "2022-05-01T10:54:33.327Z"
   },
   {
    "duration": 57,
    "start_time": "2022-05-01T10:54:33.336Z"
   },
   {
    "duration": 19,
    "start_time": "2022-05-01T10:54:33.395Z"
   },
   {
    "duration": 6,
    "start_time": "2022-05-01T10:54:33.416Z"
   },
   {
    "duration": 9,
    "start_time": "2022-05-01T10:54:33.423Z"
   },
   {
    "duration": 15,
    "start_time": "2022-05-01T10:54:33.433Z"
   },
   {
    "duration": 8,
    "start_time": "2022-05-01T10:54:33.450Z"
   },
   {
    "duration": 71,
    "start_time": "2022-05-01T10:54:33.460Z"
   },
   {
    "duration": 1050,
    "start_time": "2022-05-01T10:54:33.533Z"
   },
   {
    "duration": 11,
    "start_time": "2022-05-01T10:54:34.585Z"
   },
   {
    "duration": 29,
    "start_time": "2022-05-01T10:54:34.599Z"
   },
   {
    "duration": 6,
    "start_time": "2022-05-01T10:54:34.629Z"
   },
   {
    "duration": 5,
    "start_time": "2022-05-01T10:54:34.637Z"
   },
   {
    "duration": 7,
    "start_time": "2022-05-01T10:54:34.644Z"
   },
   {
    "duration": 46,
    "start_time": "2022-05-01T10:54:34.653Z"
   },
   {
    "duration": 7,
    "start_time": "2022-05-01T10:54:34.701Z"
   },
   {
    "duration": 13,
    "start_time": "2022-05-01T10:54:34.710Z"
   },
   {
    "duration": 216,
    "start_time": "2022-05-01T10:54:34.725Z"
   },
   {
    "duration": 32,
    "start_time": "2022-05-01T10:54:34.944Z"
   },
   {
    "duration": 15,
    "start_time": "2022-05-01T10:54:34.978Z"
   },
   {
    "duration": 5,
    "start_time": "2022-05-01T10:54:34.995Z"
   },
   {
    "duration": 5,
    "start_time": "2022-05-01T10:54:35.002Z"
   },
   {
    "duration": 13,
    "start_time": "2022-05-01T10:54:35.009Z"
   },
   {
    "duration": 402,
    "start_time": "2022-05-01T10:54:35.024Z"
   },
   {
    "duration": 22,
    "start_time": "2022-05-01T10:54:35.429Z"
   },
   {
    "duration": 301,
    "start_time": "2022-05-01T10:54:35.453Z"
   },
   {
    "duration": 236,
    "start_time": "2022-05-01T10:54:35.756Z"
   },
   {
    "duration": 252,
    "start_time": "2022-05-01T10:54:35.994Z"
   },
   {
    "duration": 12,
    "start_time": "2022-05-01T10:54:36.248Z"
   },
   {
    "duration": 79,
    "start_time": "2022-05-01T10:54:36.261Z"
   },
   {
    "duration": 191,
    "start_time": "2022-05-01T10:54:36.342Z"
   },
   {
    "duration": 6,
    "start_time": "2022-05-01T10:54:36.534Z"
   },
   {
    "duration": 197,
    "start_time": "2022-05-01T10:54:36.542Z"
   },
   {
    "duration": 8,
    "start_time": "2022-05-01T10:54:36.740Z"
   },
   {
    "duration": 249,
    "start_time": "2022-05-01T10:54:36.749Z"
   },
   {
    "duration": 231,
    "start_time": "2022-05-01T10:54:36.999Z"
   },
   {
    "duration": 309,
    "start_time": "2022-05-01T10:54:37.232Z"
   },
   {
    "duration": 227,
    "start_time": "2022-05-01T10:54:37.544Z"
   },
   {
    "duration": 21,
    "start_time": "2022-05-01T10:54:37.773Z"
   },
   {
    "duration": 8,
    "start_time": "2022-05-01T10:54:37.796Z"
   },
   {
    "duration": 11,
    "start_time": "2022-05-01T10:54:37.806Z"
   },
   {
    "duration": 8,
    "start_time": "2022-05-01T10:54:37.819Z"
   },
   {
    "duration": 189,
    "start_time": "2022-05-01T10:54:37.829Z"
   },
   {
    "duration": 4,
    "start_time": "2022-05-01T10:54:38.020Z"
   },
   {
    "duration": 6,
    "start_time": "2022-05-01T10:54:38.026Z"
   },
   {
    "duration": 7,
    "start_time": "2022-05-01T10:54:38.033Z"
   },
   {
    "duration": 9,
    "start_time": "2022-05-01T10:54:38.042Z"
   },
   {
    "duration": 181,
    "start_time": "2022-05-01T10:54:38.052Z"
   },
   {
    "duration": 4,
    "start_time": "2022-05-01T10:54:38.234Z"
   },
   {
    "duration": 8,
    "start_time": "2022-05-01T10:54:38.240Z"
   },
   {
    "duration": 10,
    "start_time": "2022-05-01T10:54:38.249Z"
   },
   {
    "duration": 147,
    "start_time": "2022-05-01T10:56:17.759Z"
   },
   {
    "duration": 307,
    "start_time": "2022-05-01T11:03:45.540Z"
   },
   {
    "duration": 147,
    "start_time": "2022-05-01T11:04:39.099Z"
   },
   {
    "duration": 145,
    "start_time": "2022-05-01T11:05:14.318Z"
   },
   {
    "duration": 144,
    "start_time": "2022-05-01T11:05:19.748Z"
   },
   {
    "duration": 149,
    "start_time": "2022-05-01T11:05:35.722Z"
   },
   {
    "duration": 166,
    "start_time": "2022-05-01T11:07:18.019Z"
   },
   {
    "duration": 153,
    "start_time": "2022-05-01T11:07:23.341Z"
   },
   {
    "duration": 29769,
    "start_time": "2022-05-01T11:07:33.075Z"
   },
   {
    "duration": 27414,
    "start_time": "2022-05-01T11:09:19.466Z"
   },
   {
    "duration": 4,
    "start_time": "2022-05-01T11:10:36.983Z"
   },
   {
    "duration": 102,
    "start_time": "2022-05-01T11:10:43.841Z"
   },
   {
    "duration": 27467,
    "start_time": "2022-05-01T11:10:49.376Z"
   },
   {
    "duration": 32467,
    "start_time": "2022-05-01T11:11:19.382Z"
   },
   {
    "duration": 202,
    "start_time": "2022-05-01T11:12:11.114Z"
   },
   {
    "duration": 21611,
    "start_time": "2022-05-01T11:12:20.838Z"
   },
   {
    "duration": 10,
    "start_time": "2022-05-01T11:13:35.670Z"
   },
   {
    "duration": 33696,
    "start_time": "2022-05-01T11:14:16.107Z"
   },
   {
    "duration": 23011,
    "start_time": "2022-05-01T11:16:48.200Z"
   },
   {
    "duration": 1309,
    "start_time": "2022-05-01T11:25:42.317Z"
   },
   {
    "duration": 46,
    "start_time": "2022-05-01T11:25:43.632Z"
   },
   {
    "duration": 26,
    "start_time": "2022-05-01T11:25:43.680Z"
   },
   {
    "duration": 23,
    "start_time": "2022-05-01T11:25:43.707Z"
   },
   {
    "duration": 8,
    "start_time": "2022-05-01T11:25:43.733Z"
   },
   {
    "duration": 22,
    "start_time": "2022-05-01T11:25:43.742Z"
   },
   {
    "duration": 31,
    "start_time": "2022-05-01T11:25:43.766Z"
   },
   {
    "duration": 6,
    "start_time": "2022-05-01T11:25:43.799Z"
   },
   {
    "duration": 26,
    "start_time": "2022-05-01T11:25:43.809Z"
   },
   {
    "duration": 15,
    "start_time": "2022-05-01T11:25:43.837Z"
   },
   {
    "duration": 10,
    "start_time": "2022-05-01T11:25:43.853Z"
   },
   {
    "duration": 55,
    "start_time": "2022-05-01T11:25:43.864Z"
   },
   {
    "duration": 1042,
    "start_time": "2022-05-01T11:25:43.920Z"
   },
   {
    "duration": 6,
    "start_time": "2022-05-01T11:25:44.966Z"
   },
   {
    "duration": 38,
    "start_time": "2022-05-01T11:25:44.974Z"
   },
   {
    "duration": 10,
    "start_time": "2022-05-01T11:25:45.014Z"
   },
   {
    "duration": 15,
    "start_time": "2022-05-01T11:25:45.026Z"
   },
   {
    "duration": 9,
    "start_time": "2022-05-01T11:25:45.044Z"
   },
   {
    "duration": 51,
    "start_time": "2022-05-01T11:25:45.055Z"
   },
   {
    "duration": 12,
    "start_time": "2022-05-01T11:25:45.108Z"
   },
   {
    "duration": 24,
    "start_time": "2022-05-01T11:25:45.122Z"
   },
   {
    "duration": 229,
    "start_time": "2022-05-01T11:25:45.148Z"
   },
   {
    "duration": 53,
    "start_time": "2022-05-01T11:25:45.379Z"
   },
   {
    "duration": 4,
    "start_time": "2022-05-01T11:25:45.434Z"
   },
   {
    "duration": 8,
    "start_time": "2022-05-01T11:25:45.441Z"
   },
   {
    "duration": 7,
    "start_time": "2022-05-01T11:25:45.450Z"
   },
   {
    "duration": 18,
    "start_time": "2022-05-01T11:25:45.459Z"
   },
   {
    "duration": 575,
    "start_time": "2022-05-01T11:25:45.479Z"
   },
   {
    "duration": 44,
    "start_time": "2022-05-01T11:25:46.056Z"
   },
   {
    "duration": 407,
    "start_time": "2022-05-01T11:25:46.102Z"
   },
   {
    "duration": 406,
    "start_time": "2022-05-01T11:25:46.513Z"
   },
   {
    "duration": 361,
    "start_time": "2022-05-01T11:25:46.921Z"
   },
   {
    "duration": 29,
    "start_time": "2022-05-01T11:25:47.284Z"
   },
   {
    "duration": 86,
    "start_time": "2022-05-01T11:25:47.315Z"
   },
   {
    "duration": 237,
    "start_time": "2022-05-01T11:25:47.403Z"
   },
   {
    "duration": 6,
    "start_time": "2022-05-01T11:25:47.642Z"
   },
   {
    "duration": 262,
    "start_time": "2022-05-01T11:25:47.649Z"
   },
   {
    "duration": 9,
    "start_time": "2022-05-01T11:25:47.913Z"
   },
   {
    "duration": 282,
    "start_time": "2022-05-01T11:25:47.925Z"
   },
   {
    "duration": 275,
    "start_time": "2022-05-01T11:25:48.210Z"
   },
   {
    "duration": 278,
    "start_time": "2022-05-01T11:25:48.494Z"
   },
   {
    "duration": 270,
    "start_time": "2022-05-01T11:25:48.774Z"
   },
   {
    "duration": 16,
    "start_time": "2022-05-01T11:25:49.046Z"
   },
   {
    "duration": 8,
    "start_time": "2022-05-01T11:25:49.064Z"
   },
   {
    "duration": 30974,
    "start_time": "2022-05-01T11:25:49.073Z"
   },
   {
    "duration": 8,
    "start_time": "2022-05-01T11:26:20.048Z"
   },
   {
    "duration": 203,
    "start_time": "2022-05-01T11:26:20.058Z"
   },
   {
    "duration": 4,
    "start_time": "2022-05-01T11:26:20.262Z"
   },
   {
    "duration": 5,
    "start_time": "2022-05-01T11:26:20.268Z"
   },
   {
    "duration": 7,
    "start_time": "2022-05-01T11:26:20.292Z"
   },
   {
    "duration": 20,
    "start_time": "2022-05-01T11:26:20.301Z"
   },
   {
    "duration": 200,
    "start_time": "2022-05-01T11:26:20.323Z"
   },
   {
    "duration": 4,
    "start_time": "2022-05-01T11:26:20.525Z"
   },
   {
    "duration": 5,
    "start_time": "2022-05-01T11:26:20.530Z"
   },
   {
    "duration": 10,
    "start_time": "2022-05-01T11:26:20.537Z"
   },
   {
    "duration": 2474,
    "start_time": "2022-05-01T11:33:25.363Z"
   },
   {
    "duration": 22,
    "start_time": "2022-05-01T11:34:31.522Z"
   },
   {
    "duration": 7692,
    "start_time": "2022-05-01T11:36:17.409Z"
   },
   {
    "duration": 9747,
    "start_time": "2022-05-01T11:37:33.478Z"
   },
   {
    "duration": 3114,
    "start_time": "2022-05-01T11:39:06.150Z"
   },
   {
    "duration": 3362,
    "start_time": "2022-05-01T11:39:29.495Z"
   },
   {
    "duration": 3521,
    "start_time": "2022-05-01T11:40:26.145Z"
   },
   {
    "duration": 2903,
    "start_time": "2022-05-01T11:40:55.615Z"
   },
   {
    "duration": 104,
    "start_time": "2022-05-01T14:50:27.940Z"
   },
   {
    "duration": 101,
    "start_time": "2022-05-01T14:51:55.696Z"
   },
   {
    "duration": 1381,
    "start_time": "2022-05-01T16:15:54.025Z"
   },
   {
    "duration": 53,
    "start_time": "2022-05-01T16:15:55.408Z"
   },
   {
    "duration": 31,
    "start_time": "2022-05-01T16:15:55.463Z"
   },
   {
    "duration": 49,
    "start_time": "2022-05-01T16:15:55.497Z"
   },
   {
    "duration": 13,
    "start_time": "2022-05-01T16:15:55.549Z"
   },
   {
    "duration": 47,
    "start_time": "2022-05-01T16:15:55.564Z"
   },
   {
    "duration": 28,
    "start_time": "2022-05-01T16:15:55.613Z"
   },
   {
    "duration": 17,
    "start_time": "2022-05-01T16:15:55.643Z"
   },
   {
    "duration": 20,
    "start_time": "2022-05-01T16:15:55.662Z"
   },
   {
    "duration": 24,
    "start_time": "2022-05-01T16:15:55.686Z"
   },
   {
    "duration": 64,
    "start_time": "2022-05-01T16:15:55.712Z"
   },
   {
    "duration": 104,
    "start_time": "2022-05-01T16:15:55.778Z"
   },
   {
    "duration": 888,
    "start_time": "2022-05-01T16:15:55.883Z"
   },
   {
    "duration": 6,
    "start_time": "2022-05-01T16:15:56.773Z"
   },
   {
    "duration": 34,
    "start_time": "2022-05-01T16:15:56.781Z"
   },
   {
    "duration": 5,
    "start_time": "2022-05-01T16:15:56.817Z"
   },
   {
    "duration": 14,
    "start_time": "2022-05-01T16:15:56.824Z"
   },
   {
    "duration": 19,
    "start_time": "2022-05-01T16:15:56.840Z"
   },
   {
    "duration": 25,
    "start_time": "2022-05-01T16:15:56.861Z"
   },
   {
    "duration": 10,
    "start_time": "2022-05-01T16:15:56.889Z"
   },
   {
    "duration": 23,
    "start_time": "2022-05-01T16:15:56.901Z"
   },
   {
    "duration": 325,
    "start_time": "2022-05-01T16:15:56.927Z"
   },
   {
    "duration": 46,
    "start_time": "2022-05-01T16:15:57.255Z"
   },
   {
    "duration": 5,
    "start_time": "2022-05-01T16:15:57.303Z"
   },
   {
    "duration": 6,
    "start_time": "2022-05-01T16:15:57.310Z"
   },
   {
    "duration": 19,
    "start_time": "2022-05-01T16:15:57.318Z"
   },
   {
    "duration": 24,
    "start_time": "2022-05-01T16:15:57.339Z"
   },
   {
    "duration": 375,
    "start_time": "2022-05-01T16:15:57.366Z"
   },
   {
    "duration": 29,
    "start_time": "2022-05-01T16:15:57.743Z"
   },
   {
    "duration": 265,
    "start_time": "2022-05-01T16:15:57.774Z"
   },
   {
    "duration": 299,
    "start_time": "2022-05-01T16:15:58.040Z"
   },
   {
    "duration": 263,
    "start_time": "2022-05-01T16:15:58.341Z"
   },
   {
    "duration": 15,
    "start_time": "2022-05-01T16:15:58.605Z"
   },
   {
    "duration": 89,
    "start_time": "2022-05-01T16:15:58.622Z"
   },
   {
    "duration": 191,
    "start_time": "2022-05-01T16:15:58.713Z"
   },
   {
    "duration": 6,
    "start_time": "2022-05-01T16:15:58.905Z"
   },
   {
    "duration": 205,
    "start_time": "2022-05-01T16:15:58.913Z"
   },
   {
    "duration": 8,
    "start_time": "2022-05-01T16:15:59.120Z"
   },
   {
    "duration": 238,
    "start_time": "2022-05-01T16:15:59.130Z"
   },
   {
    "duration": 233,
    "start_time": "2022-05-01T16:15:59.370Z"
   },
   {
    "duration": 238,
    "start_time": "2022-05-01T16:15:59.605Z"
   },
   {
    "duration": 235,
    "start_time": "2022-05-01T16:15:59.845Z"
   },
   {
    "duration": 17,
    "start_time": "2022-05-01T16:16:00.082Z"
   },
   {
    "duration": 8,
    "start_time": "2022-05-01T16:16:00.101Z"
   },
   {
    "duration": 2068,
    "start_time": "2022-05-01T16:16:00.110Z"
   },
   {
    "duration": 2165,
    "start_time": "2022-05-01T16:16:02.180Z"
   },
   {
    "duration": 2057,
    "start_time": "2022-05-01T16:16:04.355Z"
   },
   {
    "duration": 8,
    "start_time": "2022-05-01T16:16:06.414Z"
   },
   {
    "duration": 190,
    "start_time": "2022-05-01T16:16:06.424Z"
   },
   {
    "duration": 5,
    "start_time": "2022-05-01T16:16:06.616Z"
   },
   {
    "duration": 8,
    "start_time": "2022-05-01T16:16:06.622Z"
   },
   {
    "duration": 24,
    "start_time": "2022-05-01T16:16:06.632Z"
   },
   {
    "duration": 7,
    "start_time": "2022-05-01T16:16:06.658Z"
   },
   {
    "duration": 332,
    "start_time": "2022-05-01T16:16:06.667Z"
   },
   {
    "duration": 5,
    "start_time": "2022-05-01T16:16:07.001Z"
   },
   {
    "duration": 8,
    "start_time": "2022-05-01T16:16:07.008Z"
   },
   {
    "duration": 6,
    "start_time": "2022-05-01T16:16:07.018Z"
   },
   {
    "duration": 4,
    "start_time": "2022-05-01T16:16:35.613Z"
   },
   {
    "duration": 2361,
    "start_time": "2022-05-01T16:16:41.615Z"
   },
   {
    "duration": 2231,
    "start_time": "2022-05-01T16:16:51.129Z"
   },
   {
    "duration": 2179,
    "start_time": "2022-05-01T16:16:59.642Z"
   },
   {
    "duration": 1358,
    "start_time": "2022-05-02T01:16:11.053Z"
   },
   {
    "duration": 53,
    "start_time": "2022-05-02T01:16:12.413Z"
   },
   {
    "duration": 23,
    "start_time": "2022-05-02T01:16:12.468Z"
   },
   {
    "duration": 3,
    "start_time": "2022-05-02T01:16:12.494Z"
   },
   {
    "duration": 8,
    "start_time": "2022-05-02T01:16:12.499Z"
   },
   {
    "duration": 49,
    "start_time": "2022-05-02T01:16:12.508Z"
   },
   {
    "duration": 20,
    "start_time": "2022-05-02T01:16:12.559Z"
   },
   {
    "duration": 5,
    "start_time": "2022-05-02T01:16:12.581Z"
   },
   {
    "duration": 7,
    "start_time": "2022-05-02T01:16:12.587Z"
   },
   {
    "duration": 12,
    "start_time": "2022-05-02T01:16:12.597Z"
   },
   {
    "duration": 9,
    "start_time": "2022-05-02T01:16:12.611Z"
   },
   {
    "duration": 43,
    "start_time": "2022-05-02T01:16:12.655Z"
   },
   {
    "duration": 946,
    "start_time": "2022-05-02T01:16:12.699Z"
   },
   {
    "duration": 12,
    "start_time": "2022-05-02T01:16:13.646Z"
   },
   {
    "duration": 26,
    "start_time": "2022-05-02T01:16:13.660Z"
   },
   {
    "duration": 6,
    "start_time": "2022-05-02T01:16:13.688Z"
   },
   {
    "duration": 7,
    "start_time": "2022-05-02T01:16:13.695Z"
   },
   {
    "duration": 8,
    "start_time": "2022-05-02T01:16:13.703Z"
   },
   {
    "duration": 44,
    "start_time": "2022-05-02T01:16:13.712Z"
   },
   {
    "duration": 8,
    "start_time": "2022-05-02T01:16:13.757Z"
   },
   {
    "duration": 17,
    "start_time": "2022-05-02T01:16:13.766Z"
   },
   {
    "duration": 228,
    "start_time": "2022-05-02T01:16:13.785Z"
   },
   {
    "duration": 32,
    "start_time": "2022-05-02T01:16:14.014Z"
   },
   {
    "duration": 9,
    "start_time": "2022-05-02T01:16:14.048Z"
   },
   {
    "duration": 5,
    "start_time": "2022-05-02T01:16:14.059Z"
   },
   {
    "duration": 6,
    "start_time": "2022-05-02T01:16:14.066Z"
   },
   {
    "duration": 14,
    "start_time": "2022-05-02T01:16:14.073Z"
   },
   {
    "duration": 390,
    "start_time": "2022-05-02T01:16:14.090Z"
   },
   {
    "duration": 21,
    "start_time": "2022-05-02T01:16:14.481Z"
   },
   {
    "duration": 287,
    "start_time": "2022-05-02T01:16:14.503Z"
   },
   {
    "duration": 295,
    "start_time": "2022-05-02T01:16:14.792Z"
   },
   {
    "duration": 275,
    "start_time": "2022-05-02T01:16:15.089Z"
   },
   {
    "duration": 14,
    "start_time": "2022-05-02T01:16:15.366Z"
   },
   {
    "duration": 89,
    "start_time": "2022-05-02T01:16:15.381Z"
   },
   {
    "duration": 193,
    "start_time": "2022-05-02T01:16:15.471Z"
   },
   {
    "duration": 6,
    "start_time": "2022-05-02T01:16:15.666Z"
   },
   {
    "duration": 204,
    "start_time": "2022-05-02T01:16:15.674Z"
   },
   {
    "duration": 7,
    "start_time": "2022-05-02T01:16:15.880Z"
   },
   {
    "duration": 239,
    "start_time": "2022-05-02T01:16:15.889Z"
   },
   {
    "duration": 228,
    "start_time": "2022-05-02T01:16:16.129Z"
   },
   {
    "duration": 236,
    "start_time": "2022-05-02T01:16:16.359Z"
   },
   {
    "duration": 321,
    "start_time": "2022-05-02T01:16:16.597Z"
   },
   {
    "duration": 23,
    "start_time": "2022-05-02T01:16:16.919Z"
   },
   {
    "duration": 37,
    "start_time": "2022-05-02T01:16:16.944Z"
   },
   {
    "duration": 2952,
    "start_time": "2022-05-02T01:16:16.984Z"
   },
   {
    "duration": 3243,
    "start_time": "2022-05-02T01:16:19.939Z"
   },
   {
    "duration": 2042,
    "start_time": "2022-05-02T01:16:23.184Z"
   },
   {
    "duration": 8,
    "start_time": "2022-05-02T01:16:25.228Z"
   },
   {
    "duration": 197,
    "start_time": "2022-05-02T01:16:25.238Z"
   },
   {
    "duration": 4,
    "start_time": "2022-05-02T01:16:25.438Z"
   },
   {
    "duration": 5,
    "start_time": "2022-05-02T01:16:25.454Z"
   },
   {
    "duration": 7,
    "start_time": "2022-05-02T01:16:25.460Z"
   },
   {
    "duration": 9,
    "start_time": "2022-05-02T01:16:25.469Z"
   },
   {
    "duration": 330,
    "start_time": "2022-05-02T01:16:25.480Z"
   },
   {
    "duration": 4,
    "start_time": "2022-05-02T01:16:25.812Z"
   },
   {
    "duration": 9,
    "start_time": "2022-05-02T01:16:25.818Z"
   },
   {
    "duration": 7,
    "start_time": "2022-05-02T01:16:25.828Z"
   },
   {
    "duration": 14,
    "start_time": "2022-05-02T01:16:41.388Z"
   },
   {
    "duration": 5,
    "start_time": "2022-05-02T01:17:01.275Z"
   },
   {
    "duration": 5,
    "start_time": "2022-05-02T01:17:50.821Z"
   }
  ],
  "kernelspec": {
   "display_name": "Python 3 (ipykernel)",
   "language": "python",
   "name": "python3"
  },
  "language_info": {
   "codemirror_mode": {
    "name": "ipython",
    "version": 3
   },
   "file_extension": ".py",
   "mimetype": "text/x-python",
   "name": "python",
   "nbconvert_exporter": "python",
   "pygments_lexer": "ipython3",
   "version": "3.9.7"
  },
  "toc": {
   "base_numbering": 1,
   "nav_menu": {},
   "number_sections": true,
   "sideBar": true,
   "skip_h1_title": true,
   "title_cell": "Table of Contents",
   "title_sidebar": "Contents",
   "toc_cell": false,
   "toc_position": {},
   "toc_section_display": true,
   "toc_window_display": false
  }
 },
 "nbformat": 4,
 "nbformat_minor": 2
}
